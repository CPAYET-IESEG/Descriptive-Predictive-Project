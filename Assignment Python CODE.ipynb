{
 "cells": [
  {
   "cell_type": "markdown",
   "metadata": {},
   "source": [
    "# Python Assignment"
   ]
  },
  {
   "cell_type": "markdown",
   "metadata": {},
   "source": [
    "### Packages"
   ]
  },
  {
   "cell_type": "code",
   "execution_count": 1,
   "metadata": {},
   "outputs": [],
   "source": [
    "import sys\n",
    "\n",
    "import pandas as pd\n",
    "import numpy as np\n",
    "import sklearn as sk\n",
    "from matplotlib import pyplot\n",
    "from scipy.stats import pearsonr\n",
    "from sklearn.linear_model import LogisticRegression \n",
    "from sklearn.metrics      import auc\n",
    "from sklearn.metrics      import roc_auc_score\n",
    "from sklearn.metrics        import accuracy_score\n",
    "from sklearn.tree           import DecisionTreeClassifier\n",
    "from sklearn.ensemble       import RandomForestClassifier\n",
    "from sklearn.ensemble       import GradientBoostingClassifier\n",
    "from sklearn.svm            import SVC\n",
    "from sklearn.neural_network import MLPClassifier\n",
    "from sklearn.neighbors      import KNeighborsClassifier\n",
    "from pandasql import sqldf\n",
    "pysqldf = lambda q: sqldf(q, globals())"
   ]
  },
  {
   "cell_type": "markdown",
   "metadata": {},
   "source": [
    "#### Local path"
   ]
  },
  {
   "cell_type": "code",
   "execution_count": 2,
   "metadata": {},
   "outputs": [],
   "source": [
    "sys.path.append(\"/Users/cpayet/Documents/IESEG/Descriptive & Predictive Analytics/Data\")"
   ]
  },
  {
   "cell_type": "markdown",
   "metadata": {},
   "source": [
    "#### Local libaries"
   ]
  },
  {
   "cell_type": "code",
   "execution_count": 4,
   "metadata": {},
   "outputs": [],
   "source": [
    "from ieseg import partition\n",
    "from ieseg import roc\n",
    "from ieseg import lift\n",
    "from ieseg import cumulativeResponse\n",
    "from ieseg import cumulativeGains"
   ]
  },
  {
   "cell_type": "code",
   "execution_count": 5,
   "metadata": {},
   "outputs": [],
   "source": [
    "directory = \"/Users/cpayet/Documents/IESEG/Descriptive & Predictive Analytics/Assignment\"\n",
    "inputData = directory + \"/Data\""
   ]
  },
  {
   "cell_type": "markdown",
   "metadata": {},
   "source": [
    "## 1) Project Definition"
   ]
  },
  {
   "cell_type": "markdown",
   "metadata": {},
   "source": [
    "#### Create a model to predict which candidate donators are most likely to donate again at least 35€"
   ]
  },
  {
   "cell_type": "markdown",
   "metadata": {},
   "source": [
    "## 2) Data preparation"
   ]
  },
  {
   "cell_type": "markdown",
   "metadata": {},
   "source": [
    "#### A) Read the data:"
   ]
  },
  {
   "cell_type": "code",
   "execution_count": 6,
   "metadata": {},
   "outputs": [],
   "source": [
    "donors = pd.read_csv(inputData + \"/donors.csv\", sep = ';')"
   ]
  },
  {
   "cell_type": "code",
   "execution_count": 7,
   "metadata": {},
   "outputs": [
    {
     "data": {
      "text/html": [
       "<div>\n",
       "<style scoped>\n",
       "    .dataframe tbody tr th:only-of-type {\n",
       "        vertical-align: middle;\n",
       "    }\n",
       "\n",
       "    .dataframe tbody tr th {\n",
       "        vertical-align: top;\n",
       "    }\n",
       "\n",
       "    .dataframe thead th {\n",
       "        text-align: right;\n",
       "    }\n",
       "</style>\n",
       "<table border=\"1\" class=\"dataframe\">\n",
       "  <thead>\n",
       "    <tr style=\"text-align: right;\">\n",
       "      <th></th>\n",
       "      <th>donorID</th>\n",
       "      <th>gender</th>\n",
       "      <th>language</th>\n",
       "      <th>zipcode</th>\n",
       "      <th>region</th>\n",
       "    </tr>\n",
       "  </thead>\n",
       "  <tbody>\n",
       "    <tr>\n",
       "      <th>0</th>\n",
       "      <td>100001</td>\n",
       "      <td>M</td>\n",
       "      <td>N</td>\n",
       "      <td>1861</td>\n",
       "      <td>Missing</td>\n",
       "    </tr>\n",
       "    <tr>\n",
       "      <th>1</th>\n",
       "      <td>100002</td>\n",
       "      <td>M</td>\n",
       "      <td>F</td>\n",
       "      <td>2260</td>\n",
       "      <td>13049A090</td>\n",
       "    </tr>\n",
       "    <tr>\n",
       "      <th>2</th>\n",
       "      <td>100003</td>\n",
       "      <td>M</td>\n",
       "      <td>F</td>\n",
       "      <td>1780</td>\n",
       "      <td>21004A24-</td>\n",
       "    </tr>\n",
       "    <tr>\n",
       "      <th>3</th>\n",
       "      <td>100004</td>\n",
       "      <td>M</td>\n",
       "      <td>N</td>\n",
       "      <td>1020</td>\n",
       "      <td>Missing</td>\n",
       "    </tr>\n",
       "    <tr>\n",
       "      <th>4</th>\n",
       "      <td>100005</td>\n",
       "      <td>F</td>\n",
       "      <td>F</td>\n",
       "      <td>1020</td>\n",
       "      <td>21004F522</td>\n",
       "    </tr>\n",
       "  </tbody>\n",
       "</table>\n",
       "</div>"
      ],
      "text/plain": [
       "   donorID gender language zipcode     region\n",
       "0   100001      M        N    1861    Missing\n",
       "1   100002      M        F    2260  13049A090\n",
       "2   100003      M        F    1780  21004A24-\n",
       "3   100004      M        N    1020    Missing\n",
       "4   100005      F        F    1020  21004F522"
      ]
     },
     "execution_count": 7,
     "metadata": {},
     "output_type": "execute_result"
    }
   ],
   "source": [
    "donors.head()"
   ]
  },
  {
   "cell_type": "code",
   "execution_count": 8,
   "metadata": {},
   "outputs": [],
   "source": [
    "gifts = pd.read_csv(inputData + \"/gifts.csv\", sep = \";\")"
   ]
  },
  {
   "cell_type": "code",
   "execution_count": 9,
   "metadata": {},
   "outputs": [
    {
     "data": {
      "text/html": [
       "<div>\n",
       "<style scoped>\n",
       "    .dataframe tbody tr th:only-of-type {\n",
       "        vertical-align: middle;\n",
       "    }\n",
       "\n",
       "    .dataframe tbody tr th {\n",
       "        vertical-align: top;\n",
       "    }\n",
       "\n",
       "    .dataframe thead th {\n",
       "        text-align: right;\n",
       "    }\n",
       "</style>\n",
       "<table border=\"1\" class=\"dataframe\">\n",
       "  <thead>\n",
       "    <tr style=\"text-align: right;\">\n",
       "      <th></th>\n",
       "      <th>campID</th>\n",
       "      <th>donorID</th>\n",
       "      <th>amount</th>\n",
       "      <th>date</th>\n",
       "    </tr>\n",
       "  </thead>\n",
       "  <tbody>\n",
       "    <tr>\n",
       "      <th>0</th>\n",
       "      <td>0</td>\n",
       "      <td>100001</td>\n",
       "      <td>12.39</td>\n",
       "      <td>23/10/1998</td>\n",
       "    </tr>\n",
       "    <tr>\n",
       "      <th>1</th>\n",
       "      <td>1577</td>\n",
       "      <td>100001</td>\n",
       "      <td>12.39</td>\n",
       "      <td>18/08/1999</td>\n",
       "    </tr>\n",
       "    <tr>\n",
       "      <th>2</th>\n",
       "      <td>1634</td>\n",
       "      <td>100001</td>\n",
       "      <td>6.69</td>\n",
       "      <td>31/12/1999</td>\n",
       "    </tr>\n",
       "    <tr>\n",
       "      <th>3</th>\n",
       "      <td>1778</td>\n",
       "      <td>100001</td>\n",
       "      <td>24.79</td>\n",
       "      <td>19/10/2000</td>\n",
       "    </tr>\n",
       "    <tr>\n",
       "      <th>4</th>\n",
       "      <td>1808</td>\n",
       "      <td>100001</td>\n",
       "      <td>7.44</td>\n",
       "      <td>29/12/2000</td>\n",
       "    </tr>\n",
       "  </tbody>\n",
       "</table>\n",
       "</div>"
      ],
      "text/plain": [
       "   campID  donorID  amount        date\n",
       "0       0   100001   12.39  23/10/1998\n",
       "1    1577   100001   12.39  18/08/1999\n",
       "2    1634   100001    6.69  31/12/1999\n",
       "3    1778   100001   24.79  19/10/2000\n",
       "4    1808   100001    7.44  29/12/2000"
      ]
     },
     "execution_count": 9,
     "metadata": {},
     "output_type": "execute_result"
    }
   ],
   "source": [
    "gifts.head()"
   ]
  },
  {
   "cell_type": "markdown",
   "metadata": {},
   "source": [
    "#### B) Inspect the data : Donors"
   ]
  },
  {
   "cell_type": "code",
   "execution_count": 10,
   "metadata": {},
   "outputs": [
    {
     "data": {
      "text/plain": [
       "donorID      144691\n",
       "gender            U\n",
       "language          N\n",
       "region      Missing\n",
       "dtype: object"
      ]
     },
     "execution_count": 10,
     "metadata": {},
     "output_type": "execute_result"
    }
   ],
   "source": [
    "donors.max()"
   ]
  },
  {
   "cell_type": "code",
   "execution_count": 11,
   "metadata": {},
   "outputs": [
    {
     "name": "stdout",
     "output_type": "stream",
     "text": [
      "<class 'pandas.core.frame.DataFrame'>\n",
      "RangeIndex: 44691 entries, 0 to 44690\n",
      "Data columns (total 5 columns):\n",
      "donorID     44691 non-null int64\n",
      "gender      44691 non-null object\n",
      "language    44691 non-null object\n",
      "zipcode     44690 non-null object\n",
      "region      44691 non-null object\n",
      "dtypes: int64(1), object(4)\n",
      "memory usage: 1.7+ MB\n"
     ]
    }
   ],
   "source": [
    "donors.info()"
   ]
  },
  {
   "cell_type": "code",
   "execution_count": 12,
   "metadata": {},
   "outputs": [
    {
     "name": "stdout",
     "output_type": "stream",
     "text": [
      "Column 0: donorID\n",
      "44691\n",
      "Column 1: gender\n",
      "5\n",
      "Column 2: language\n",
      "2\n",
      "Column 3: zipcode\n",
      "1025\n",
      "Column 4: region\n",
      "4760\n"
     ]
    }
   ],
   "source": [
    "for (index,column) in enumerate(donors.columns):\n",
    "    print(f\"Column {index}: {column}\")\n",
    "    print(donors[column].nunique())\n"
   ]
  },
  {
   "cell_type": "code",
   "execution_count": 13,
   "metadata": {},
   "outputs": [
    {
     "data": {
      "text/plain": [
       "donorID     0\n",
       "gender      0\n",
       "language    0\n",
       "zipcode     1\n",
       "region      0\n",
       "dtype: int64"
      ]
     },
     "execution_count": 13,
     "metadata": {},
     "output_type": "execute_result"
    }
   ],
   "source": [
    "donors.isna().sum()"
   ]
  },
  {
   "cell_type": "markdown",
   "metadata": {},
   "source": [
    "#### Now that we've inspected the data, we can say :"
   ]
  },
  {
   "cell_type": "markdown",
   "metadata": {},
   "source": [
    "Gender --> Transform into dummy encoding & fix the \"C\", \"S\", \"U\" values\n",
    "Language --> Transform into dummy encoding\n",
    "Zipcode --> Already a number, no change needed\n",
    "Region --> Fix missing values & transform into dummy encoding"
   ]
  },
  {
   "cell_type": "markdown",
   "metadata": {},
   "source": [
    "#### B) Inspect the data : Gifts"
   ]
  },
  {
   "cell_type": "code",
   "execution_count": 14,
   "metadata": {},
   "outputs": [
    {
     "name": "stdout",
     "output_type": "stream",
     "text": [
      "<class 'pandas.core.frame.DataFrame'>\n",
      "RangeIndex: 215042 entries, 0 to 215041\n",
      "Data columns (total 4 columns):\n",
      "campID     215042 non-null int64\n",
      "donorID    215042 non-null int64\n",
      "amount     215042 non-null float64\n",
      "date       215042 non-null object\n",
      "dtypes: float64(1), int64(2), object(1)\n",
      "memory usage: 6.6+ MB\n"
     ]
    }
   ],
   "source": [
    "gifts.info()"
   ]
  },
  {
   "cell_type": "code",
   "execution_count": 15,
   "metadata": {},
   "outputs": [
    {
     "data": {
      "text/plain": [
       "campID          7536\n",
       "donorID       144691\n",
       "amount       12394.7\n",
       "date       9/12/2013\n",
       "dtype: object"
      ]
     },
     "execution_count": 15,
     "metadata": {},
     "output_type": "execute_result"
    }
   ],
   "source": [
    "gifts.max()"
   ]
  },
  {
   "cell_type": "code",
   "execution_count": 16,
   "metadata": {},
   "outputs": [
    {
     "name": "stdout",
     "output_type": "stream",
     "text": [
      "Column 0: campID\n",
      "366\n",
      "Column 1: donorID\n",
      "44686\n",
      "Column 2: amount\n",
      "954\n",
      "Column 3: date\n",
      "5407\n"
     ]
    }
   ],
   "source": [
    "for (index,column) in enumerate(gifts.columns):\n",
    "    print(f\"Column {index}: {column}\")\n",
    "    print(gifts[column].nunique())\n"
   ]
  },
  {
   "cell_type": "code",
   "execution_count": 17,
   "metadata": {},
   "outputs": [
    {
     "data": {
      "text/plain": [
       "campID     0\n",
       "donorID    0\n",
       "amount     0\n",
       "date       0\n",
       "dtype: int64"
      ]
     },
     "execution_count": 17,
     "metadata": {},
     "output_type": "execute_result"
    }
   ],
   "source": [
    "gifts.isna().sum()"
   ]
  },
  {
   "cell_type": "markdown",
   "metadata": {},
   "source": [
    "#### Transformation needed for gifts data:"
   ]
  },
  {
   "cell_type": "markdown",
   "metadata": {},
   "source": [
    "campID --> Already a number, no need to change\n",
    "Amount --> Alreayd use \".\" as separator for deciamls, already a float, no need change\n",
    "Date --> Is an object, need to transform to date \n",
    "#### Columns to adds\n",
    "target --> donation is equal or superior to 35€\n",
    "nbr_donation --> count the number the donor gave\n",
    "avg_donation --> average amount gave per donor\n",
    "last_donation --> time since last donation \n",
    "sum_donation ---> sum amount gave per donor\n",
    "nbr_campaings --> number of campaings the donor was targeted by"
   ]
  },
  {
   "cell_type": "markdown",
   "metadata": {},
   "source": [
    "### Data Preparation : Donors"
   ]
  },
  {
   "cell_type": "markdown",
   "metadata": {},
   "source": [
    "### Nominal variables & missing values"
   ]
  },
  {
   "cell_type": "markdown",
   "metadata": {},
   "source": [
    "#### Gender : Transform into dummy encoding & fix the \"C\", \"S\", \"U\" values"
   ]
  },
  {
   "cell_type": "markdown",
   "metadata": {},
   "source": [
    "Can't do it for now, there value of \"C\", \"S\", \"U\" that we don't know what they mean. We're waiting for the answer of the teacher (mail has been sent) to fix this part."
   ]
  },
  {
   "cell_type": "markdown",
   "metadata": {},
   "source": [
    "#### Language: Transform into dummy encoding"
   ]
  },
  {
   "cell_type": "code",
   "execution_count": 18,
   "metadata": {},
   "outputs": [],
   "source": [
    "donors.loc[donors['language'] == 'N', 'language'] = \"Dutch\""
   ]
  },
  {
   "cell_type": "code",
   "execution_count": 19,
   "metadata": {},
   "outputs": [],
   "source": [
    "donors.loc[donors['language'] == 'F', 'language'] = \"French\""
   ]
  },
  {
   "cell_type": "code",
   "execution_count": 19,
   "metadata": {},
   "outputs": [
    {
     "data": {
      "text/html": [
       "<div>\n",
       "<style scoped>\n",
       "    .dataframe tbody tr th:only-of-type {\n",
       "        vertical-align: middle;\n",
       "    }\n",
       "\n",
       "    .dataframe tbody tr th {\n",
       "        vertical-align: top;\n",
       "    }\n",
       "\n",
       "    .dataframe thead th {\n",
       "        text-align: right;\n",
       "    }\n",
       "</style>\n",
       "<table border=\"1\" class=\"dataframe\">\n",
       "  <thead>\n",
       "    <tr style=\"text-align: right;\">\n",
       "      <th></th>\n",
       "      <th>donorID</th>\n",
       "      <th>gender</th>\n",
       "      <th>language</th>\n",
       "      <th>zipcode</th>\n",
       "      <th>region</th>\n",
       "    </tr>\n",
       "  </thead>\n",
       "  <tbody>\n",
       "    <tr>\n",
       "      <th>0</th>\n",
       "      <td>100001</td>\n",
       "      <td>M</td>\n",
       "      <td>Dutch</td>\n",
       "      <td>1861</td>\n",
       "      <td>Missing</td>\n",
       "    </tr>\n",
       "    <tr>\n",
       "      <th>1</th>\n",
       "      <td>100002</td>\n",
       "      <td>M</td>\n",
       "      <td>French</td>\n",
       "      <td>2260</td>\n",
       "      <td>13049A090</td>\n",
       "    </tr>\n",
       "    <tr>\n",
       "      <th>2</th>\n",
       "      <td>100003</td>\n",
       "      <td>M</td>\n",
       "      <td>French</td>\n",
       "      <td>1780</td>\n",
       "      <td>21004A24-</td>\n",
       "    </tr>\n",
       "    <tr>\n",
       "      <th>3</th>\n",
       "      <td>100004</td>\n",
       "      <td>M</td>\n",
       "      <td>Dutch</td>\n",
       "      <td>1020</td>\n",
       "      <td>Missing</td>\n",
       "    </tr>\n",
       "    <tr>\n",
       "      <th>4</th>\n",
       "      <td>100005</td>\n",
       "      <td>F</td>\n",
       "      <td>French</td>\n",
       "      <td>1020</td>\n",
       "      <td>21004F522</td>\n",
       "    </tr>\n",
       "  </tbody>\n",
       "</table>\n",
       "</div>"
      ],
      "text/plain": [
       "   donorID gender language zipcode     region\n",
       "0   100001      M    Dutch    1861    Missing\n",
       "1   100002      M   French    2260  13049A090\n",
       "2   100003      M   French    1780  21004A24-\n",
       "3   100004      M    Dutch    1020    Missing\n",
       "4   100005      F   French    1020  21004F522"
      ]
     },
     "execution_count": 19,
     "metadata": {},
     "output_type": "execute_result"
    }
   ],
   "source": [
    "donors.head()"
   ]
  },
  {
   "cell_type": "code",
   "execution_count": 20,
   "metadata": {},
   "outputs": [],
   "source": [
    "donors = donors.join(pd.get_dummies(donors[\"language\"], prefix = \"Is_\", drop_first = True))"
   ]
  },
  {
   "cell_type": "code",
   "execution_count": 21,
   "metadata": {},
   "outputs": [],
   "source": [
    "donors = donors.drop(columns=[\"language\"])"
   ]
  },
  {
   "cell_type": "code",
   "execution_count": 22,
   "metadata": {},
   "outputs": [
    {
     "data": {
      "text/html": [
       "<div>\n",
       "<style scoped>\n",
       "    .dataframe tbody tr th:only-of-type {\n",
       "        vertical-align: middle;\n",
       "    }\n",
       "\n",
       "    .dataframe tbody tr th {\n",
       "        vertical-align: top;\n",
       "    }\n",
       "\n",
       "    .dataframe thead th {\n",
       "        text-align: right;\n",
       "    }\n",
       "</style>\n",
       "<table border=\"1\" class=\"dataframe\">\n",
       "  <thead>\n",
       "    <tr style=\"text-align: right;\">\n",
       "      <th></th>\n",
       "      <th>donorID</th>\n",
       "      <th>gender</th>\n",
       "      <th>zipcode</th>\n",
       "      <th>region</th>\n",
       "      <th>Is__French</th>\n",
       "    </tr>\n",
       "  </thead>\n",
       "  <tbody>\n",
       "    <tr>\n",
       "      <th>0</th>\n",
       "      <td>100001</td>\n",
       "      <td>M</td>\n",
       "      <td>1861</td>\n",
       "      <td>Missing</td>\n",
       "      <td>0</td>\n",
       "    </tr>\n",
       "    <tr>\n",
       "      <th>1</th>\n",
       "      <td>100002</td>\n",
       "      <td>M</td>\n",
       "      <td>2260</td>\n",
       "      <td>13049A090</td>\n",
       "      <td>1</td>\n",
       "    </tr>\n",
       "    <tr>\n",
       "      <th>2</th>\n",
       "      <td>100003</td>\n",
       "      <td>M</td>\n",
       "      <td>1780</td>\n",
       "      <td>21004A24-</td>\n",
       "      <td>1</td>\n",
       "    </tr>\n",
       "    <tr>\n",
       "      <th>3</th>\n",
       "      <td>100004</td>\n",
       "      <td>M</td>\n",
       "      <td>1020</td>\n",
       "      <td>Missing</td>\n",
       "      <td>0</td>\n",
       "    </tr>\n",
       "    <tr>\n",
       "      <th>4</th>\n",
       "      <td>100005</td>\n",
       "      <td>F</td>\n",
       "      <td>1020</td>\n",
       "      <td>21004F522</td>\n",
       "      <td>1</td>\n",
       "    </tr>\n",
       "  </tbody>\n",
       "</table>\n",
       "</div>"
      ],
      "text/plain": [
       "   donorID gender zipcode     region  Is__French\n",
       "0   100001      M    1861    Missing           0\n",
       "1   100002      M    2260  13049A090           1\n",
       "2   100003      M    1780  21004A24-           1\n",
       "3   100004      M    1020    Missing           0\n",
       "4   100005      F    1020  21004F522           1"
      ]
     },
     "execution_count": 22,
     "metadata": {},
     "output_type": "execute_result"
    }
   ],
   "source": [
    "donors.head()"
   ]
  },
  {
   "cell_type": "markdown",
   "metadata": {},
   "source": [
    "#### Region: Fix missing values & transform into dummy encoding"
   ]
  },
  {
   "cell_type": "markdown",
   "metadata": {},
   "source": [
    "In order to fix the region, we downloaded a csv file with zipcode and the region associated to it.\n",
    "The data is available here (opensource data): https://public.opendatasoft.com/explore/dataset/liste-des-codes-postaux-belges-fr/table/?refine.sous_commune=Non\n",
    "We will use this data to do an inner join between this data and the donors data in order to replace the region column by a new column with the right region. As there's a lot of missing value in region, we add this new column to fix the region data."
   ]
  },
  {
   "cell_type": "code",
   "execution_count": 23,
   "metadata": {},
   "outputs": [],
   "source": [
    "postal_code =  pd.read_csv(inputData + \"/postal_code_belgium.csv\", sep = ';')"
   ]
  },
  {
   "cell_type": "code",
   "execution_count": 24,
   "metadata": {},
   "outputs": [
    {
     "data": {
      "text/html": [
       "<div>\n",
       "<style scoped>\n",
       "    .dataframe tbody tr th:only-of-type {\n",
       "        vertical-align: middle;\n",
       "    }\n",
       "\n",
       "    .dataframe tbody tr th {\n",
       "        vertical-align: top;\n",
       "    }\n",
       "\n",
       "    .dataframe thead th {\n",
       "        text-align: right;\n",
       "    }\n",
       "</style>\n",
       "<table border=\"1\" class=\"dataframe\">\n",
       "  <thead>\n",
       "    <tr style=\"text-align: right;\">\n",
       "      <th></th>\n",
       "      <th>Code postal</th>\n",
       "      <th>Localité</th>\n",
       "      <th>Sous-commune</th>\n",
       "      <th>Commune principale</th>\n",
       "      <th>Province</th>\n",
       "    </tr>\n",
       "  </thead>\n",
       "  <tbody>\n",
       "    <tr>\n",
       "      <th>0</th>\n",
       "      <td>9700</td>\n",
       "      <td>Melden</td>\n",
       "      <td>Oui</td>\n",
       "      <td>OUDENAARDE</td>\n",
       "      <td>Flandre-Orientale</td>\n",
       "    </tr>\n",
       "    <tr>\n",
       "      <th>1</th>\n",
       "      <td>1160</td>\n",
       "      <td>AUDERGHEM</td>\n",
       "      <td>Non</td>\n",
       "      <td>AUDERGHEM</td>\n",
       "      <td>Bruxelles (19 communes)</td>\n",
       "    </tr>\n",
       "    <tr>\n",
       "      <th>2</th>\n",
       "      <td>9630</td>\n",
       "      <td>Dikkele</td>\n",
       "      <td>Oui</td>\n",
       "      <td>ZWALM</td>\n",
       "      <td>Flandre-Orientale</td>\n",
       "    </tr>\n",
       "    <tr>\n",
       "      <th>3</th>\n",
       "      <td>8480</td>\n",
       "      <td>Eernegem</td>\n",
       "      <td>Oui</td>\n",
       "      <td>ICHTEGEM</td>\n",
       "      <td>Flandre-Occidentale</td>\n",
       "    </tr>\n",
       "    <tr>\n",
       "      <th>4</th>\n",
       "      <td>3800</td>\n",
       "      <td>Groot-Gelmen</td>\n",
       "      <td>Oui</td>\n",
       "      <td>SINT-TRUIDEN</td>\n",
       "      <td>Limbourg</td>\n",
       "    </tr>\n",
       "  </tbody>\n",
       "</table>\n",
       "</div>"
      ],
      "text/plain": [
       "   Code postal      Localité Sous-commune Commune principale  \\\n",
       "0         9700        Melden          Oui         OUDENAARDE   \n",
       "1         1160     AUDERGHEM          Non          AUDERGHEM   \n",
       "2         9630       Dikkele          Oui              ZWALM   \n",
       "3         8480      Eernegem          Oui           ICHTEGEM   \n",
       "4         3800  Groot-Gelmen          Oui       SINT-TRUIDEN   \n",
       "\n",
       "                  Province  \n",
       "0        Flandre-Orientale  \n",
       "1  Bruxelles (19 communes)  \n",
       "2        Flandre-Orientale  \n",
       "3      Flandre-Occidentale  \n",
       "4                 Limbourg  "
      ]
     },
     "execution_count": 24,
     "metadata": {},
     "output_type": "execute_result"
    }
   ],
   "source": [
    "postal_code.head()"
   ]
  },
  {
   "cell_type": "markdown",
   "metadata": {},
   "source": [
    "We now delete \"localité\",\"sous-commune\",\"Commune principale\" because we don't want that data and only keep \"Province\" and \"Code Postal\"\n",
    "\"Code postal\" will be the column used to do the inner join with donors file"
   ]
  },
  {
   "cell_type": "code",
   "execution_count": 25,
   "metadata": {},
   "outputs": [],
   "source": [
    "postal_code = postal_code.drop(columns = ['Localité'])"
   ]
  },
  {
   "cell_type": "code",
   "execution_count": 26,
   "metadata": {},
   "outputs": [],
   "source": [
    "postal_code = postal_code.drop(columns = ['Commune principale'])"
   ]
  },
  {
   "cell_type": "code",
   "execution_count": 27,
   "metadata": {},
   "outputs": [],
   "source": [
    "postal_code = postal_code.drop(columns = ['Sous-commune'])"
   ]
  },
  {
   "cell_type": "code",
   "execution_count": 28,
   "metadata": {},
   "outputs": [
    {
     "data": {
      "text/html": [
       "<div>\n",
       "<style scoped>\n",
       "    .dataframe tbody tr th:only-of-type {\n",
       "        vertical-align: middle;\n",
       "    }\n",
       "\n",
       "    .dataframe tbody tr th {\n",
       "        vertical-align: top;\n",
       "    }\n",
       "\n",
       "    .dataframe thead th {\n",
       "        text-align: right;\n",
       "    }\n",
       "</style>\n",
       "<table border=\"1\" class=\"dataframe\">\n",
       "  <thead>\n",
       "    <tr style=\"text-align: right;\">\n",
       "      <th></th>\n",
       "      <th>Code postal</th>\n",
       "      <th>Province</th>\n",
       "    </tr>\n",
       "  </thead>\n",
       "  <tbody>\n",
       "    <tr>\n",
       "      <th>0</th>\n",
       "      <td>9700</td>\n",
       "      <td>Flandre-Orientale</td>\n",
       "    </tr>\n",
       "    <tr>\n",
       "      <th>1</th>\n",
       "      <td>1160</td>\n",
       "      <td>Bruxelles (19 communes)</td>\n",
       "    </tr>\n",
       "    <tr>\n",
       "      <th>2</th>\n",
       "      <td>9630</td>\n",
       "      <td>Flandre-Orientale</td>\n",
       "    </tr>\n",
       "    <tr>\n",
       "      <th>3</th>\n",
       "      <td>8480</td>\n",
       "      <td>Flandre-Occidentale</td>\n",
       "    </tr>\n",
       "    <tr>\n",
       "      <th>4</th>\n",
       "      <td>3800</td>\n",
       "      <td>Limbourg</td>\n",
       "    </tr>\n",
       "  </tbody>\n",
       "</table>\n",
       "</div>"
      ],
      "text/plain": [
       "   Code postal                 Province\n",
       "0         9700        Flandre-Orientale\n",
       "1         1160  Bruxelles (19 communes)\n",
       "2         9630        Flandre-Orientale\n",
       "3         8480      Flandre-Occidentale\n",
       "4         3800                 Limbourg"
      ]
     },
     "execution_count": 28,
     "metadata": {},
     "output_type": "execute_result"
    }
   ],
   "source": [
    "postal_code.head()"
   ]
  },
  {
   "cell_type": "code",
   "execution_count": 29,
   "metadata": {},
   "outputs": [
    {
     "name": "stdout",
     "output_type": "stream",
     "text": [
      "<class 'pandas.core.frame.DataFrame'>\n",
      "RangeIndex: 2825 entries, 0 to 2824\n",
      "Data columns (total 2 columns):\n",
      "Code postal    2825 non-null int64\n",
      "Province       2781 non-null object\n",
      "dtypes: int64(1), object(1)\n",
      "memory usage: 44.2+ KB\n"
     ]
    }
   ],
   "source": [
    "postal_code.info()"
   ]
  },
  {
   "cell_type": "markdown",
   "metadata": {},
   "source": [
    "We have some duplicates Code Postal in this database, we're going to remove duplicates to make sure when we will do the inner join it won't create duplicate "
   ]
  },
  {
   "cell_type": "markdown",
   "metadata": {},
   "source": [
    "We now have only the columns wanted, now we will do an inner join with the donors data"
   ]
  },
  {
   "cell_type": "code",
   "execution_count": 30,
   "metadata": {},
   "outputs": [
    {
     "name": "stdout",
     "output_type": "stream",
     "text": [
      "<class 'pandas.core.frame.DataFrame'>\n",
      "RangeIndex: 44691 entries, 0 to 44690\n",
      "Data columns (total 5 columns):\n",
      "donorID       44691 non-null int64\n",
      "gender        44691 non-null object\n",
      "zipcode       44690 non-null object\n",
      "region        44691 non-null object\n",
      "Is__French    44691 non-null uint8\n",
      "dtypes: int64(1), object(3), uint8(1)\n",
      "memory usage: 1.4+ MB\n"
     ]
    }
   ],
   "source": [
    "donors.info()"
   ]
  },
  {
   "cell_type": "markdown",
   "metadata": {},
   "source": [
    "We now check if Code postal is also an integer before doing the inner join"
   ]
  },
  {
   "cell_type": "code",
   "execution_count": 31,
   "metadata": {},
   "outputs": [
    {
     "name": "stdout",
     "output_type": "stream",
     "text": [
      "<class 'pandas.core.frame.DataFrame'>\n",
      "RangeIndex: 2825 entries, 0 to 2824\n",
      "Data columns (total 2 columns):\n",
      "Code postal    2825 non-null int64\n",
      "Province       2781 non-null object\n",
      "dtypes: int64(1), object(1)\n",
      "memory usage: 44.2+ KB\n"
     ]
    }
   ],
   "source": [
    "postal_code.info()"
   ]
  },
  {
   "cell_type": "markdown",
   "metadata": {},
   "source": [
    "We don't need to change the type of code postal but we need to rename Code postal to delete the space to make sure we can use it with the inner join with pysqldf"
   ]
  },
  {
   "cell_type": "code",
   "execution_count": 32,
   "metadata": {},
   "outputs": [],
   "source": [
    "postal_code = postal_code.rename(columns = {'Code postal' :'code_postal'})"
   ]
  },
  {
   "cell_type": "code",
   "execution_count": 33,
   "metadata": {},
   "outputs": [
    {
     "name": "stdout",
     "output_type": "stream",
     "text": [
      "<class 'pandas.core.frame.DataFrame'>\n",
      "RangeIndex: 2825 entries, 0 to 2824\n",
      "Data columns (total 2 columns):\n",
      "code_postal    2825 non-null int64\n",
      "Province       2781 non-null object\n",
      "dtypes: int64(1), object(1)\n",
      "memory usage: 44.2+ KB\n"
     ]
    }
   ],
   "source": [
    "postal_code.info()"
   ]
  },
  {
   "cell_type": "markdown",
   "metadata": {},
   "source": [
    "Before doing the inner join, we remove duplicates values in postal_code. As some postal code are repeated twice or more, it will generate duplicates values when doing the inner join, so we remove them before."
   ]
  },
  {
   "cell_type": "code",
   "execution_count": 34,
   "metadata": {},
   "outputs": [],
   "source": [
    "postal_code.drop_duplicates(subset =\"code_postal\", \n",
    "                     keep = 'first', inplace = True)"
   ]
  },
  {
   "cell_type": "code",
   "execution_count": 35,
   "metadata": {},
   "outputs": [
    {
     "name": "stdout",
     "output_type": "stream",
     "text": [
      "<class 'pandas.core.frame.DataFrame'>\n",
      "Int64Index: 1190 entries, 0 to 2822\n",
      "Data columns (total 2 columns):\n",
      "code_postal    1190 non-null int64\n",
      "Province       1146 non-null object\n",
      "dtypes: int64(1), object(1)\n",
      "memory usage: 27.9+ KB\n"
     ]
    }
   ],
   "source": [
    "postal_code.info()"
   ]
  },
  {
   "cell_type": "markdown",
   "metadata": {},
   "source": [
    "Now, we're doing an inner join to have our new dataframe donors2 on the matching values of zipcode and Code postal"
   ]
  },
  {
   "cell_type": "code",
   "execution_count": 36,
   "metadata": {},
   "outputs": [],
   "source": [
    "donors2 = pysqldf (\"\"\"\n",
    "SELECT *\n",
    "FROM donors d1\n",
    "INNER JOIN postal_code p2\n",
    "ON d1.zipcode = p2.code_postal\n",
    "\"\"\")"
   ]
  },
  {
   "cell_type": "code",
   "execution_count": 37,
   "metadata": {},
   "outputs": [
    {
     "data": {
      "text/html": [
       "<div>\n",
       "<style scoped>\n",
       "    .dataframe tbody tr th:only-of-type {\n",
       "        vertical-align: middle;\n",
       "    }\n",
       "\n",
       "    .dataframe tbody tr th {\n",
       "        vertical-align: top;\n",
       "    }\n",
       "\n",
       "    .dataframe thead th {\n",
       "        text-align: right;\n",
       "    }\n",
       "</style>\n",
       "<table border=\"1\" class=\"dataframe\">\n",
       "  <thead>\n",
       "    <tr style=\"text-align: right;\">\n",
       "      <th></th>\n",
       "      <th>donorID</th>\n",
       "      <th>gender</th>\n",
       "      <th>zipcode</th>\n",
       "      <th>region</th>\n",
       "      <th>Is__French</th>\n",
       "      <th>code_postal</th>\n",
       "      <th>Province</th>\n",
       "    </tr>\n",
       "  </thead>\n",
       "  <tbody>\n",
       "    <tr>\n",
       "      <th>0</th>\n",
       "      <td>100001</td>\n",
       "      <td>M</td>\n",
       "      <td>1861</td>\n",
       "      <td>Missing</td>\n",
       "      <td>0</td>\n",
       "      <td>1861</td>\n",
       "      <td>Brabant Flamand</td>\n",
       "    </tr>\n",
       "    <tr>\n",
       "      <th>1</th>\n",
       "      <td>100002</td>\n",
       "      <td>M</td>\n",
       "      <td>2260</td>\n",
       "      <td>13049A090</td>\n",
       "      <td>1</td>\n",
       "      <td>2260</td>\n",
       "      <td>Anvers</td>\n",
       "    </tr>\n",
       "    <tr>\n",
       "      <th>2</th>\n",
       "      <td>100003</td>\n",
       "      <td>M</td>\n",
       "      <td>1780</td>\n",
       "      <td>21004A24-</td>\n",
       "      <td>1</td>\n",
       "      <td>1780</td>\n",
       "      <td>Brabant Flamand</td>\n",
       "    </tr>\n",
       "    <tr>\n",
       "      <th>3</th>\n",
       "      <td>100004</td>\n",
       "      <td>M</td>\n",
       "      <td>1020</td>\n",
       "      <td>Missing</td>\n",
       "      <td>0</td>\n",
       "      <td>1020</td>\n",
       "      <td>Bruxelles (19 communes)</td>\n",
       "    </tr>\n",
       "    <tr>\n",
       "      <th>4</th>\n",
       "      <td>100005</td>\n",
       "      <td>F</td>\n",
       "      <td>1020</td>\n",
       "      <td>21004F522</td>\n",
       "      <td>1</td>\n",
       "      <td>1020</td>\n",
       "      <td>Bruxelles (19 communes)</td>\n",
       "    </tr>\n",
       "  </tbody>\n",
       "</table>\n",
       "</div>"
      ],
      "text/plain": [
       "   donorID gender zipcode     region  Is__French  code_postal  \\\n",
       "0   100001      M    1861    Missing           0         1861   \n",
       "1   100002      M    2260  13049A090           1         2260   \n",
       "2   100003      M    1780  21004A24-           1         1780   \n",
       "3   100004      M    1020    Missing           0         1020   \n",
       "4   100005      F    1020  21004F522           1         1020   \n",
       "\n",
       "                  Province  \n",
       "0          Brabant Flamand  \n",
       "1                   Anvers  \n",
       "2          Brabant Flamand  \n",
       "3  Bruxelles (19 communes)  \n",
       "4  Bruxelles (19 communes)  "
      ]
     },
     "execution_count": 37,
     "metadata": {},
     "output_type": "execute_result"
    }
   ],
   "source": [
    "donors2.head()"
   ]
  },
  {
   "cell_type": "code",
   "execution_count": 38,
   "metadata": {},
   "outputs": [
    {
     "name": "stdout",
     "output_type": "stream",
     "text": [
      "<class 'pandas.core.frame.DataFrame'>\n",
      "RangeIndex: 44687 entries, 0 to 44686\n",
      "Data columns (total 7 columns):\n",
      "donorID        44687 non-null int64\n",
      "gender         44687 non-null object\n",
      "zipcode        44687 non-null object\n",
      "region         44687 non-null object\n",
      "Is__French     44687 non-null int64\n",
      "code_postal    44687 non-null int64\n",
      "Province       44687 non-null object\n",
      "dtypes: int64(3), object(4)\n",
      "memory usage: 2.4+ MB\n"
     ]
    }
   ],
   "source": [
    "donors2.info()"
   ]
  },
  {
   "cell_type": "code",
   "execution_count": 39,
   "metadata": {},
   "outputs": [
    {
     "name": "stdout",
     "output_type": "stream",
     "text": [
      "<class 'pandas.core.frame.DataFrame'>\n",
      "RangeIndex: 44691 entries, 0 to 44690\n",
      "Data columns (total 5 columns):\n",
      "donorID       44691 non-null int64\n",
      "gender        44691 non-null object\n",
      "zipcode       44690 non-null object\n",
      "region        44691 non-null object\n",
      "Is__French    44691 non-null uint8\n",
      "dtypes: int64(1), object(3), uint8(1)\n",
      "memory usage: 1.4+ MB\n"
     ]
    }
   ],
   "source": [
    "donors.info()"
   ]
  },
  {
   "cell_type": "markdown",
   "metadata": {},
   "source": [
    "We can see that we lost 4 entries, maybe because the postal code was not in the list that we had, it's an acceptable loss regarding that we nearly have 50 thousand entries"
   ]
  },
  {
   "cell_type": "markdown",
   "metadata": {},
   "source": [
    "Now, we have to remove code_postal and region columns which are useless "
   ]
  },
  {
   "cell_type": "code",
   "execution_count": 40,
   "metadata": {},
   "outputs": [],
   "source": [
    "donors2 = donors2.drop(columns=[\"region\"])"
   ]
  },
  {
   "cell_type": "code",
   "execution_count": 41,
   "metadata": {},
   "outputs": [],
   "source": [
    "donors2 = donors2.drop(columns=[\"code_postal\"])"
   ]
  },
  {
   "cell_type": "code",
   "execution_count": 42,
   "metadata": {},
   "outputs": [
    {
     "data": {
      "text/html": [
       "<div>\n",
       "<style scoped>\n",
       "    .dataframe tbody tr th:only-of-type {\n",
       "        vertical-align: middle;\n",
       "    }\n",
       "\n",
       "    .dataframe tbody tr th {\n",
       "        vertical-align: top;\n",
       "    }\n",
       "\n",
       "    .dataframe thead th {\n",
       "        text-align: right;\n",
       "    }\n",
       "</style>\n",
       "<table border=\"1\" class=\"dataframe\">\n",
       "  <thead>\n",
       "    <tr style=\"text-align: right;\">\n",
       "      <th></th>\n",
       "      <th>donorID</th>\n",
       "      <th>gender</th>\n",
       "      <th>zipcode</th>\n",
       "      <th>Is__French</th>\n",
       "      <th>Province</th>\n",
       "    </tr>\n",
       "  </thead>\n",
       "  <tbody>\n",
       "    <tr>\n",
       "      <th>0</th>\n",
       "      <td>100001</td>\n",
       "      <td>M</td>\n",
       "      <td>1861</td>\n",
       "      <td>0</td>\n",
       "      <td>Brabant Flamand</td>\n",
       "    </tr>\n",
       "    <tr>\n",
       "      <th>1</th>\n",
       "      <td>100002</td>\n",
       "      <td>M</td>\n",
       "      <td>2260</td>\n",
       "      <td>1</td>\n",
       "      <td>Anvers</td>\n",
       "    </tr>\n",
       "    <tr>\n",
       "      <th>2</th>\n",
       "      <td>100003</td>\n",
       "      <td>M</td>\n",
       "      <td>1780</td>\n",
       "      <td>1</td>\n",
       "      <td>Brabant Flamand</td>\n",
       "    </tr>\n",
       "    <tr>\n",
       "      <th>3</th>\n",
       "      <td>100004</td>\n",
       "      <td>M</td>\n",
       "      <td>1020</td>\n",
       "      <td>0</td>\n",
       "      <td>Bruxelles (19 communes)</td>\n",
       "    </tr>\n",
       "    <tr>\n",
       "      <th>4</th>\n",
       "      <td>100005</td>\n",
       "      <td>F</td>\n",
       "      <td>1020</td>\n",
       "      <td>1</td>\n",
       "      <td>Bruxelles (19 communes)</td>\n",
       "    </tr>\n",
       "  </tbody>\n",
       "</table>\n",
       "</div>"
      ],
      "text/plain": [
       "   donorID gender zipcode  Is__French                 Province\n",
       "0   100001      M    1861           0          Brabant Flamand\n",
       "1   100002      M    2260           1                   Anvers\n",
       "2   100003      M    1780           1          Brabant Flamand\n",
       "3   100004      M    1020           0  Bruxelles (19 communes)\n",
       "4   100005      F    1020           1  Bruxelles (19 communes)"
      ]
     },
     "execution_count": 42,
     "metadata": {},
     "output_type": "execute_result"
    }
   ],
   "source": [
    "donors2.head()"
   ]
  },
  {
   "cell_type": "code",
   "execution_count": 43,
   "metadata": {},
   "outputs": [
    {
     "data": {
      "text/plain": [
       "array(['Brabant Flamand', 'Anvers', 'Bruxelles (19 communes)',\n",
       "       'Brabant Wallon', 'Flandre-Occidentale', 'Flandre-Orientale',\n",
       "       'Liège', 'Luxembourg', 'Namur', 'Hainaut', 'Limbourg'],\n",
       "      dtype=object)"
      ]
     },
     "execution_count": 43,
     "metadata": {},
     "output_type": "execute_result"
    }
   ],
   "source": [
    "donors2['Province'].unique()"
   ]
  },
  {
   "cell_type": "markdown",
   "metadata": {},
   "source": [
    "We will now rename Bruxelles (19 communes) to Bruxelles and after doing a dummy encoding"
   ]
  },
  {
   "cell_type": "code",
   "execution_count": 44,
   "metadata": {},
   "outputs": [],
   "source": [
    "donors2.loc[donors2['Province'] == 'Bruxelles (19 communes)', 'Province'] = \"Bruxelles\""
   ]
  },
  {
   "cell_type": "code",
   "execution_count": 45,
   "metadata": {},
   "outputs": [
    {
     "data": {
      "text/html": [
       "<div>\n",
       "<style scoped>\n",
       "    .dataframe tbody tr th:only-of-type {\n",
       "        vertical-align: middle;\n",
       "    }\n",
       "\n",
       "    .dataframe tbody tr th {\n",
       "        vertical-align: top;\n",
       "    }\n",
       "\n",
       "    .dataframe thead th {\n",
       "        text-align: right;\n",
       "    }\n",
       "</style>\n",
       "<table border=\"1\" class=\"dataframe\">\n",
       "  <thead>\n",
       "    <tr style=\"text-align: right;\">\n",
       "      <th></th>\n",
       "      <th>donorID</th>\n",
       "      <th>gender</th>\n",
       "      <th>zipcode</th>\n",
       "      <th>Is__French</th>\n",
       "      <th>Province</th>\n",
       "    </tr>\n",
       "  </thead>\n",
       "  <tbody>\n",
       "    <tr>\n",
       "      <th>0</th>\n",
       "      <td>100001</td>\n",
       "      <td>M</td>\n",
       "      <td>1861</td>\n",
       "      <td>0</td>\n",
       "      <td>Brabant Flamand</td>\n",
       "    </tr>\n",
       "    <tr>\n",
       "      <th>1</th>\n",
       "      <td>100002</td>\n",
       "      <td>M</td>\n",
       "      <td>2260</td>\n",
       "      <td>1</td>\n",
       "      <td>Anvers</td>\n",
       "    </tr>\n",
       "    <tr>\n",
       "      <th>2</th>\n",
       "      <td>100003</td>\n",
       "      <td>M</td>\n",
       "      <td>1780</td>\n",
       "      <td>1</td>\n",
       "      <td>Brabant Flamand</td>\n",
       "    </tr>\n",
       "    <tr>\n",
       "      <th>3</th>\n",
       "      <td>100004</td>\n",
       "      <td>M</td>\n",
       "      <td>1020</td>\n",
       "      <td>0</td>\n",
       "      <td>Bruxelles</td>\n",
       "    </tr>\n",
       "    <tr>\n",
       "      <th>4</th>\n",
       "      <td>100005</td>\n",
       "      <td>F</td>\n",
       "      <td>1020</td>\n",
       "      <td>1</td>\n",
       "      <td>Bruxelles</td>\n",
       "    </tr>\n",
       "  </tbody>\n",
       "</table>\n",
       "</div>"
      ],
      "text/plain": [
       "   donorID gender zipcode  Is__French         Province\n",
       "0   100001      M    1861           0  Brabant Flamand\n",
       "1   100002      M    2260           1           Anvers\n",
       "2   100003      M    1780           1  Brabant Flamand\n",
       "3   100004      M    1020           0        Bruxelles\n",
       "4   100005      F    1020           1        Bruxelles"
      ]
     },
     "execution_count": 45,
     "metadata": {},
     "output_type": "execute_result"
    }
   ],
   "source": [
    "donors2.head()"
   ]
  },
  {
   "cell_type": "markdown",
   "metadata": {},
   "source": [
    "Now, we've going to do the dummy encoding:"
   ]
  },
  {
   "cell_type": "code",
   "execution_count": 46,
   "metadata": {},
   "outputs": [],
   "source": [
    "donors2 = donors2.join(pd.get_dummies(donors2[\"Province\"], prefix = \"Is_in_\", drop_first = True))"
   ]
  },
  {
   "cell_type": "code",
   "execution_count": 47,
   "metadata": {},
   "outputs": [],
   "source": [
    "donors2 = donors2.drop(columns = ['Province'])"
   ]
  },
  {
   "cell_type": "code",
   "execution_count": 48,
   "metadata": {},
   "outputs": [
    {
     "data": {
      "text/html": [
       "<div>\n",
       "<style scoped>\n",
       "    .dataframe tbody tr th:only-of-type {\n",
       "        vertical-align: middle;\n",
       "    }\n",
       "\n",
       "    .dataframe tbody tr th {\n",
       "        vertical-align: top;\n",
       "    }\n",
       "\n",
       "    .dataframe thead th {\n",
       "        text-align: right;\n",
       "    }\n",
       "</style>\n",
       "<table border=\"1\" class=\"dataframe\">\n",
       "  <thead>\n",
       "    <tr style=\"text-align: right;\">\n",
       "      <th></th>\n",
       "      <th>donorID</th>\n",
       "      <th>gender</th>\n",
       "      <th>zipcode</th>\n",
       "      <th>Is__French</th>\n",
       "      <th>Is_in__Brabant Flamand</th>\n",
       "      <th>Is_in__Brabant Wallon</th>\n",
       "      <th>Is_in__Bruxelles</th>\n",
       "      <th>Is_in__Flandre-Occidentale</th>\n",
       "      <th>Is_in__Flandre-Orientale</th>\n",
       "      <th>Is_in__Hainaut</th>\n",
       "      <th>Is_in__Limbourg</th>\n",
       "      <th>Is_in__Liège</th>\n",
       "      <th>Is_in__Luxembourg</th>\n",
       "      <th>Is_in__Namur</th>\n",
       "    </tr>\n",
       "  </thead>\n",
       "  <tbody>\n",
       "    <tr>\n",
       "      <th>0</th>\n",
       "      <td>100001</td>\n",
       "      <td>M</td>\n",
       "      <td>1861</td>\n",
       "      <td>0</td>\n",
       "      <td>1</td>\n",
       "      <td>0</td>\n",
       "      <td>0</td>\n",
       "      <td>0</td>\n",
       "      <td>0</td>\n",
       "      <td>0</td>\n",
       "      <td>0</td>\n",
       "      <td>0</td>\n",
       "      <td>0</td>\n",
       "      <td>0</td>\n",
       "    </tr>\n",
       "    <tr>\n",
       "      <th>1</th>\n",
       "      <td>100002</td>\n",
       "      <td>M</td>\n",
       "      <td>2260</td>\n",
       "      <td>1</td>\n",
       "      <td>0</td>\n",
       "      <td>0</td>\n",
       "      <td>0</td>\n",
       "      <td>0</td>\n",
       "      <td>0</td>\n",
       "      <td>0</td>\n",
       "      <td>0</td>\n",
       "      <td>0</td>\n",
       "      <td>0</td>\n",
       "      <td>0</td>\n",
       "    </tr>\n",
       "    <tr>\n",
       "      <th>2</th>\n",
       "      <td>100003</td>\n",
       "      <td>M</td>\n",
       "      <td>1780</td>\n",
       "      <td>1</td>\n",
       "      <td>1</td>\n",
       "      <td>0</td>\n",
       "      <td>0</td>\n",
       "      <td>0</td>\n",
       "      <td>0</td>\n",
       "      <td>0</td>\n",
       "      <td>0</td>\n",
       "      <td>0</td>\n",
       "      <td>0</td>\n",
       "      <td>0</td>\n",
       "    </tr>\n",
       "    <tr>\n",
       "      <th>3</th>\n",
       "      <td>100004</td>\n",
       "      <td>M</td>\n",
       "      <td>1020</td>\n",
       "      <td>0</td>\n",
       "      <td>0</td>\n",
       "      <td>0</td>\n",
       "      <td>1</td>\n",
       "      <td>0</td>\n",
       "      <td>0</td>\n",
       "      <td>0</td>\n",
       "      <td>0</td>\n",
       "      <td>0</td>\n",
       "      <td>0</td>\n",
       "      <td>0</td>\n",
       "    </tr>\n",
       "    <tr>\n",
       "      <th>4</th>\n",
       "      <td>100005</td>\n",
       "      <td>F</td>\n",
       "      <td>1020</td>\n",
       "      <td>1</td>\n",
       "      <td>0</td>\n",
       "      <td>0</td>\n",
       "      <td>1</td>\n",
       "      <td>0</td>\n",
       "      <td>0</td>\n",
       "      <td>0</td>\n",
       "      <td>0</td>\n",
       "      <td>0</td>\n",
       "      <td>0</td>\n",
       "      <td>0</td>\n",
       "    </tr>\n",
       "  </tbody>\n",
       "</table>\n",
       "</div>"
      ],
      "text/plain": [
       "   donorID gender zipcode  Is__French  Is_in__Brabant Flamand  \\\n",
       "0   100001      M    1861           0                       1   \n",
       "1   100002      M    2260           1                       0   \n",
       "2   100003      M    1780           1                       1   \n",
       "3   100004      M    1020           0                       0   \n",
       "4   100005      F    1020           1                       0   \n",
       "\n",
       "   Is_in__Brabant Wallon  Is_in__Bruxelles  Is_in__Flandre-Occidentale  \\\n",
       "0                      0                 0                           0   \n",
       "1                      0                 0                           0   \n",
       "2                      0                 0                           0   \n",
       "3                      0                 1                           0   \n",
       "4                      0                 1                           0   \n",
       "\n",
       "   Is_in__Flandre-Orientale  Is_in__Hainaut  Is_in__Limbourg  Is_in__Liège  \\\n",
       "0                         0               0                0             0   \n",
       "1                         0               0                0             0   \n",
       "2                         0               0                0             0   \n",
       "3                         0               0                0             0   \n",
       "4                         0               0                0             0   \n",
       "\n",
       "   Is_in__Luxembourg  Is_in__Namur  \n",
       "0                  0             0  \n",
       "1                  0             0  \n",
       "2                  0             0  \n",
       "3                  0             0  \n",
       "4                  0             0  "
      ]
     },
     "execution_count": 48,
     "metadata": {},
     "output_type": "execute_result"
    }
   ],
   "source": [
    "donors2.head()"
   ]
  },
  {
   "cell_type": "markdown",
   "metadata": {},
   "source": [
    "Switch the type of zipcode into integer and everything is good"
   ]
  },
  {
   "cell_type": "code",
   "execution_count": 49,
   "metadata": {},
   "outputs": [],
   "source": [
    "donors2.zipcode = donors2.zipcode.astype(int)"
   ]
  },
  {
   "cell_type": "code",
   "execution_count": 50,
   "metadata": {},
   "outputs": [
    {
     "name": "stdout",
     "output_type": "stream",
     "text": [
      "<class 'pandas.core.frame.DataFrame'>\n",
      "RangeIndex: 44687 entries, 0 to 44686\n",
      "Data columns (total 14 columns):\n",
      "donorID                       44687 non-null int64\n",
      "gender                        44687 non-null object\n",
      "zipcode                       44687 non-null int32\n",
      "Is__French                    44687 non-null int64\n",
      "Is_in__Brabant Flamand        44687 non-null uint8\n",
      "Is_in__Brabant Wallon         44687 non-null uint8\n",
      "Is_in__Bruxelles              44687 non-null uint8\n",
      "Is_in__Flandre-Occidentale    44687 non-null uint8\n",
      "Is_in__Flandre-Orientale      44687 non-null uint8\n",
      "Is_in__Hainaut                44687 non-null uint8\n",
      "Is_in__Limbourg               44687 non-null uint8\n",
      "Is_in__Liège                  44687 non-null uint8\n",
      "Is_in__Luxembourg             44687 non-null uint8\n",
      "Is_in__Namur                  44687 non-null uint8\n",
      "dtypes: int32(1), int64(2), object(1), uint8(10)\n",
      "memory usage: 1.6+ MB\n"
     ]
    }
   ],
   "source": [
    "donors2.info()"
   ]
  },
  {
   "cell_type": "markdown",
   "metadata": {},
   "source": [
    "### Data Preparation : Campaign"
   ]
  },
  {
   "cell_type": "markdown",
   "metadata": {},
   "source": [
    "It's our target, we need to add a column with value 1 if the donation is above or equal 35€ and 0 else.\n",
    "We need first to import the training set and the test set and add them the column target."
   ]
  },
  {
   "cell_type": "code",
   "execution_count": 51,
   "metadata": {},
   "outputs": [],
   "source": [
    "trainingSet = pd.read_csv(inputData + \"/campaign20130411.csv\", sep = ';')"
   ]
  },
  {
   "cell_type": "code",
   "execution_count": 52,
   "metadata": {},
   "outputs": [],
   "source": [
    "testSet = pd.read_csv(inputData + \"/campaign20140115.csv\", sep = ';')"
   ]
  },
  {
   "cell_type": "code",
   "execution_count": 53,
   "metadata": {},
   "outputs": [],
   "source": [
    "trainingSet['target'] = (trainingSet['amount'] >= 35)*1"
   ]
  },
  {
   "cell_type": "code",
   "execution_count": 54,
   "metadata": {},
   "outputs": [
    {
     "data": {
      "text/html": [
       "<div>\n",
       "<style scoped>\n",
       "    .dataframe tbody tr th:only-of-type {\n",
       "        vertical-align: middle;\n",
       "    }\n",
       "\n",
       "    .dataframe tbody tr th {\n",
       "        vertical-align: top;\n",
       "    }\n",
       "\n",
       "    .dataframe thead th {\n",
       "        text-align: right;\n",
       "    }\n",
       "</style>\n",
       "<table border=\"1\" class=\"dataframe\">\n",
       "  <thead>\n",
       "    <tr style=\"text-align: right;\">\n",
       "      <th></th>\n",
       "      <th>donorID</th>\n",
       "      <th>amount</th>\n",
       "      <th>target</th>\n",
       "    </tr>\n",
       "  </thead>\n",
       "  <tbody>\n",
       "    <tr>\n",
       "      <th>0</th>\n",
       "      <td>100001</td>\n",
       "      <td>0.0</td>\n",
       "      <td>0</td>\n",
       "    </tr>\n",
       "    <tr>\n",
       "      <th>1</th>\n",
       "      <td>100002</td>\n",
       "      <td>0.0</td>\n",
       "      <td>0</td>\n",
       "    </tr>\n",
       "    <tr>\n",
       "      <th>2</th>\n",
       "      <td>100004</td>\n",
       "      <td>0.0</td>\n",
       "      <td>0</td>\n",
       "    </tr>\n",
       "    <tr>\n",
       "      <th>3</th>\n",
       "      <td>100008</td>\n",
       "      <td>0.0</td>\n",
       "      <td>0</td>\n",
       "    </tr>\n",
       "    <tr>\n",
       "      <th>4</th>\n",
       "      <td>100009</td>\n",
       "      <td>0.0</td>\n",
       "      <td>0</td>\n",
       "    </tr>\n",
       "  </tbody>\n",
       "</table>\n",
       "</div>"
      ],
      "text/plain": [
       "   donorID  amount  target\n",
       "0   100001     0.0       0\n",
       "1   100002     0.0       0\n",
       "2   100004     0.0       0\n",
       "3   100008     0.0       0\n",
       "4   100009     0.0       0"
      ]
     },
     "execution_count": 54,
     "metadata": {},
     "output_type": "execute_result"
    }
   ],
   "source": [
    "trainingSet.head()"
   ]
  },
  {
   "cell_type": "code",
   "execution_count": 55,
   "metadata": {},
   "outputs": [
    {
     "name": "stdout",
     "output_type": "stream",
     "text": [
      "<class 'pandas.core.frame.DataFrame'>\n",
      "RangeIndex: 34917 entries, 0 to 34916\n",
      "Data columns (total 3 columns):\n",
      "donorID    34917 non-null int64\n",
      "amount     34917 non-null float64\n",
      "target     34917 non-null int32\n",
      "dtypes: float64(1), int32(1), int64(1)\n",
      "memory usage: 682.1 KB\n"
     ]
    }
   ],
   "source": [
    "trainingSet.info()"
   ]
  },
  {
   "cell_type": "code",
   "execution_count": 56,
   "metadata": {},
   "outputs": [],
   "source": [
    "testSet['target'] = (testSet['amount'] >= 35)*1"
   ]
  },
  {
   "cell_type": "code",
   "execution_count": 57,
   "metadata": {},
   "outputs": [
    {
     "data": {
      "text/html": [
       "<div>\n",
       "<style scoped>\n",
       "    .dataframe tbody tr th:only-of-type {\n",
       "        vertical-align: middle;\n",
       "    }\n",
       "\n",
       "    .dataframe tbody tr th {\n",
       "        vertical-align: top;\n",
       "    }\n",
       "\n",
       "    .dataframe thead th {\n",
       "        text-align: right;\n",
       "    }\n",
       "</style>\n",
       "<table border=\"1\" class=\"dataframe\">\n",
       "  <thead>\n",
       "    <tr style=\"text-align: right;\">\n",
       "      <th></th>\n",
       "      <th>donorID</th>\n",
       "      <th>amount</th>\n",
       "      <th>target</th>\n",
       "    </tr>\n",
       "  </thead>\n",
       "  <tbody>\n",
       "    <tr>\n",
       "      <th>0</th>\n",
       "      <td>100001</td>\n",
       "      <td>0.0</td>\n",
       "      <td>0</td>\n",
       "    </tr>\n",
       "    <tr>\n",
       "      <th>1</th>\n",
       "      <td>100002</td>\n",
       "      <td>0.0</td>\n",
       "      <td>0</td>\n",
       "    </tr>\n",
       "    <tr>\n",
       "      <th>2</th>\n",
       "      <td>100008</td>\n",
       "      <td>0.0</td>\n",
       "      <td>0</td>\n",
       "    </tr>\n",
       "    <tr>\n",
       "      <th>3</th>\n",
       "      <td>100009</td>\n",
       "      <td>0.0</td>\n",
       "      <td>0</td>\n",
       "    </tr>\n",
       "    <tr>\n",
       "      <th>4</th>\n",
       "      <td>100010</td>\n",
       "      <td>0.0</td>\n",
       "      <td>0</td>\n",
       "    </tr>\n",
       "  </tbody>\n",
       "</table>\n",
       "</div>"
      ],
      "text/plain": [
       "   donorID  amount  target\n",
       "0   100001     0.0       0\n",
       "1   100002     0.0       0\n",
       "2   100008     0.0       0\n",
       "3   100009     0.0       0\n",
       "4   100010     0.0       0"
      ]
     },
     "execution_count": 57,
     "metadata": {},
     "output_type": "execute_result"
    }
   ],
   "source": [
    "testSet.head()"
   ]
  },
  {
   "cell_type": "markdown",
   "metadata": {},
   "source": [
    "### Data Preparation : Gifts"
   ]
  },
  {
   "cell_type": "code",
   "execution_count": 58,
   "metadata": {},
   "outputs": [
    {
     "data": {
      "text/html": [
       "<div>\n",
       "<style scoped>\n",
       "    .dataframe tbody tr th:only-of-type {\n",
       "        vertical-align: middle;\n",
       "    }\n",
       "\n",
       "    .dataframe tbody tr th {\n",
       "        vertical-align: top;\n",
       "    }\n",
       "\n",
       "    .dataframe thead th {\n",
       "        text-align: right;\n",
       "    }\n",
       "</style>\n",
       "<table border=\"1\" class=\"dataframe\">\n",
       "  <thead>\n",
       "    <tr style=\"text-align: right;\">\n",
       "      <th></th>\n",
       "      <th>campID</th>\n",
       "      <th>donorID</th>\n",
       "      <th>amount</th>\n",
       "      <th>date</th>\n",
       "    </tr>\n",
       "  </thead>\n",
       "  <tbody>\n",
       "    <tr>\n",
       "      <th>0</th>\n",
       "      <td>0</td>\n",
       "      <td>100001</td>\n",
       "      <td>12.39</td>\n",
       "      <td>23/10/1998</td>\n",
       "    </tr>\n",
       "    <tr>\n",
       "      <th>1</th>\n",
       "      <td>1577</td>\n",
       "      <td>100001</td>\n",
       "      <td>12.39</td>\n",
       "      <td>18/08/1999</td>\n",
       "    </tr>\n",
       "    <tr>\n",
       "      <th>2</th>\n",
       "      <td>1634</td>\n",
       "      <td>100001</td>\n",
       "      <td>6.69</td>\n",
       "      <td>31/12/1999</td>\n",
       "    </tr>\n",
       "    <tr>\n",
       "      <th>3</th>\n",
       "      <td>1778</td>\n",
       "      <td>100001</td>\n",
       "      <td>24.79</td>\n",
       "      <td>19/10/2000</td>\n",
       "    </tr>\n",
       "    <tr>\n",
       "      <th>4</th>\n",
       "      <td>1808</td>\n",
       "      <td>100001</td>\n",
       "      <td>7.44</td>\n",
       "      <td>29/12/2000</td>\n",
       "    </tr>\n",
       "  </tbody>\n",
       "</table>\n",
       "</div>"
      ],
      "text/plain": [
       "   campID  donorID  amount        date\n",
       "0       0   100001   12.39  23/10/1998\n",
       "1    1577   100001   12.39  18/08/1999\n",
       "2    1634   100001    6.69  31/12/1999\n",
       "3    1778   100001   24.79  19/10/2000\n",
       "4    1808   100001    7.44  29/12/2000"
      ]
     },
     "execution_count": 58,
     "metadata": {},
     "output_type": "execute_result"
    }
   ],
   "source": [
    "gifts.head()"
   ]
  },
  {
   "cell_type": "markdown",
   "metadata": {},
   "source": [
    "We need to change the data in order to have only one row per donors to make sure that we can do a good inner join with our donors2 data and also the training and test set.\n",
    "So we will change the column to create new ones representating the donors"
   ]
  },
  {
   "cell_type": "markdown",
   "metadata": {},
   "source": [
    "### Columns to adds\n"
   ]
  },
  {
   "cell_type": "markdown",
   "metadata": {},
   "source": [
    "#### nbr_donation --> count the number the donor gave\n"
   ]
  },
  {
   "cell_type": "code",
   "execution_count": 59,
   "metadata": {},
   "outputs": [],
   "source": [
    "features = pd.DataFrame()"
   ]
  },
  {
   "cell_type": "code",
   "execution_count": 60,
   "metadata": {},
   "outputs": [
    {
     "name": "stdout",
     "output_type": "stream",
     "text": [
      "<class 'pandas.core.frame.DataFrame'>\n",
      "Index: 0 entries\n",
      "Empty DataFrame"
     ]
    }
   ],
   "source": [
    "features.info()"
   ]
  },
  {
   "cell_type": "code",
   "execution_count": 61,
   "metadata": {},
   "outputs": [],
   "source": [
    "features['donorID'] = features.index\n"
   ]
  },
  {
   "cell_type": "code",
   "execution_count": 62,
   "metadata": {},
   "outputs": [],
   "source": [
    "features['count'] = gifts.groupby(['donorID'])['amount'].agg('count')"
   ]
  },
  {
   "cell_type": "code",
   "execution_count": 63,
   "metadata": {},
   "outputs": [
    {
     "data": {
      "text/html": [
       "<div>\n",
       "<style scoped>\n",
       "    .dataframe tbody tr th:only-of-type {\n",
       "        vertical-align: middle;\n",
       "    }\n",
       "\n",
       "    .dataframe tbody tr th {\n",
       "        vertical-align: top;\n",
       "    }\n",
       "\n",
       "    .dataframe thead th {\n",
       "        text-align: right;\n",
       "    }\n",
       "</style>\n",
       "<table border=\"1\" class=\"dataframe\">\n",
       "  <thead>\n",
       "    <tr style=\"text-align: right;\">\n",
       "      <th></th>\n",
       "      <th>donorID</th>\n",
       "      <th>count</th>\n",
       "    </tr>\n",
       "    <tr>\n",
       "      <th>donorID</th>\n",
       "      <th></th>\n",
       "      <th></th>\n",
       "    </tr>\n",
       "  </thead>\n",
       "  <tbody>\n",
       "    <tr>\n",
       "      <th>100001</th>\n",
       "      <td>NaN</td>\n",
       "      <td>12</td>\n",
       "    </tr>\n",
       "    <tr>\n",
       "      <th>100002</th>\n",
       "      <td>NaN</td>\n",
       "      <td>1</td>\n",
       "    </tr>\n",
       "    <tr>\n",
       "      <th>100003</th>\n",
       "      <td>NaN</td>\n",
       "      <td>12</td>\n",
       "    </tr>\n",
       "    <tr>\n",
       "      <th>100004</th>\n",
       "      <td>NaN</td>\n",
       "      <td>26</td>\n",
       "    </tr>\n",
       "    <tr>\n",
       "      <th>100005</th>\n",
       "      <td>NaN</td>\n",
       "      <td>5</td>\n",
       "    </tr>\n",
       "  </tbody>\n",
       "</table>\n",
       "</div>"
      ],
      "text/plain": [
       "        donorID  count\n",
       "donorID               \n",
       "100001      NaN     12\n",
       "100002      NaN      1\n",
       "100003      NaN     12\n",
       "100004      NaN     26\n",
       "100005      NaN      5"
      ]
     },
     "execution_count": 63,
     "metadata": {},
     "output_type": "execute_result"
    }
   ],
   "source": [
    "features.head()"
   ]
  },
  {
   "cell_type": "markdown",
   "metadata": {},
   "source": [
    "#### sum_donation ---> sum amount gave per donor\n"
   ]
  },
  {
   "cell_type": "code",
   "execution_count": 64,
   "metadata": {},
   "outputs": [],
   "source": [
    "features['sum'] = gifts.groupby(['donorID'])['amount'].sum()"
   ]
  },
  {
   "cell_type": "code",
   "execution_count": 65,
   "metadata": {},
   "outputs": [
    {
     "data": {
      "text/html": [
       "<div>\n",
       "<style scoped>\n",
       "    .dataframe tbody tr th:only-of-type {\n",
       "        vertical-align: middle;\n",
       "    }\n",
       "\n",
       "    .dataframe tbody tr th {\n",
       "        vertical-align: top;\n",
       "    }\n",
       "\n",
       "    .dataframe thead th {\n",
       "        text-align: right;\n",
       "    }\n",
       "</style>\n",
       "<table border=\"1\" class=\"dataframe\">\n",
       "  <thead>\n",
       "    <tr style=\"text-align: right;\">\n",
       "      <th></th>\n",
       "      <th>donorID</th>\n",
       "      <th>count</th>\n",
       "      <th>sum</th>\n",
       "    </tr>\n",
       "    <tr>\n",
       "      <th>donorID</th>\n",
       "      <th></th>\n",
       "      <th></th>\n",
       "      <th></th>\n",
       "    </tr>\n",
       "  </thead>\n",
       "  <tbody>\n",
       "    <tr>\n",
       "      <th>100001</th>\n",
       "      <td>NaN</td>\n",
       "      <td>12</td>\n",
       "      <td>178.49</td>\n",
       "    </tr>\n",
       "    <tr>\n",
       "      <th>100002</th>\n",
       "      <td>NaN</td>\n",
       "      <td>1</td>\n",
       "      <td>20.00</td>\n",
       "    </tr>\n",
       "    <tr>\n",
       "      <th>100003</th>\n",
       "      <td>NaN</td>\n",
       "      <td>12</td>\n",
       "      <td>46.00</td>\n",
       "    </tr>\n",
       "    <tr>\n",
       "      <th>100004</th>\n",
       "      <td>NaN</td>\n",
       "      <td>26</td>\n",
       "      <td>716.22</td>\n",
       "    </tr>\n",
       "    <tr>\n",
       "      <th>100005</th>\n",
       "      <td>NaN</td>\n",
       "      <td>5</td>\n",
       "      <td>24.96</td>\n",
       "    </tr>\n",
       "  </tbody>\n",
       "</table>\n",
       "</div>"
      ],
      "text/plain": [
       "        donorID  count     sum\n",
       "donorID                       \n",
       "100001      NaN     12  178.49\n",
       "100002      NaN      1   20.00\n",
       "100003      NaN     12   46.00\n",
       "100004      NaN     26  716.22\n",
       "100005      NaN      5   24.96"
      ]
     },
     "execution_count": 65,
     "metadata": {},
     "output_type": "execute_result"
    }
   ],
   "source": [
    "features.head()"
   ]
  },
  {
   "cell_type": "markdown",
   "metadata": {},
   "source": [
    "#### avg_donation --> average amount gave per donor\n"
   ]
  },
  {
   "cell_type": "code",
   "execution_count": 66,
   "metadata": {},
   "outputs": [],
   "source": [
    "features['mean'] = gifts.groupby(['donorID'])['amount'].mean()"
   ]
  },
  {
   "cell_type": "code",
   "execution_count": 67,
   "metadata": {},
   "outputs": [
    {
     "data": {
      "text/html": [
       "<div>\n",
       "<style scoped>\n",
       "    .dataframe tbody tr th:only-of-type {\n",
       "        vertical-align: middle;\n",
       "    }\n",
       "\n",
       "    .dataframe tbody tr th {\n",
       "        vertical-align: top;\n",
       "    }\n",
       "\n",
       "    .dataframe thead th {\n",
       "        text-align: right;\n",
       "    }\n",
       "</style>\n",
       "<table border=\"1\" class=\"dataframe\">\n",
       "  <thead>\n",
       "    <tr style=\"text-align: right;\">\n",
       "      <th></th>\n",
       "      <th>donorID</th>\n",
       "      <th>count</th>\n",
       "      <th>sum</th>\n",
       "      <th>mean</th>\n",
       "    </tr>\n",
       "    <tr>\n",
       "      <th>donorID</th>\n",
       "      <th></th>\n",
       "      <th></th>\n",
       "      <th></th>\n",
       "      <th></th>\n",
       "    </tr>\n",
       "  </thead>\n",
       "  <tbody>\n",
       "    <tr>\n",
       "      <th>100001</th>\n",
       "      <td>NaN</td>\n",
       "      <td>12</td>\n",
       "      <td>178.49</td>\n",
       "      <td>14.874167</td>\n",
       "    </tr>\n",
       "    <tr>\n",
       "      <th>100002</th>\n",
       "      <td>NaN</td>\n",
       "      <td>1</td>\n",
       "      <td>20.00</td>\n",
       "      <td>20.000000</td>\n",
       "    </tr>\n",
       "    <tr>\n",
       "      <th>100003</th>\n",
       "      <td>NaN</td>\n",
       "      <td>12</td>\n",
       "      <td>46.00</td>\n",
       "      <td>3.833333</td>\n",
       "    </tr>\n",
       "    <tr>\n",
       "      <th>100004</th>\n",
       "      <td>NaN</td>\n",
       "      <td>26</td>\n",
       "      <td>716.22</td>\n",
       "      <td>27.546923</td>\n",
       "    </tr>\n",
       "    <tr>\n",
       "      <th>100005</th>\n",
       "      <td>NaN</td>\n",
       "      <td>5</td>\n",
       "      <td>24.96</td>\n",
       "      <td>4.992000</td>\n",
       "    </tr>\n",
       "  </tbody>\n",
       "</table>\n",
       "</div>"
      ],
      "text/plain": [
       "        donorID  count     sum       mean\n",
       "donorID                                  \n",
       "100001      NaN     12  178.49  14.874167\n",
       "100002      NaN      1   20.00  20.000000\n",
       "100003      NaN     12   46.00   3.833333\n",
       "100004      NaN     26  716.22  27.546923\n",
       "100005      NaN      5   24.96   4.992000"
      ]
     },
     "execution_count": 67,
     "metadata": {},
     "output_type": "execute_result"
    }
   ],
   "source": [
    "features.head()"
   ]
  },
  {
   "cell_type": "markdown",
   "metadata": {},
   "source": [
    "#### last_donation --> time since last donation \n"
   ]
  },
  {
   "cell_type": "markdown",
   "metadata": {},
   "source": [
    "We create a column with the date 24/11/2019 which will be our reference date to calculate the days since last donation"
   ]
  },
  {
   "cell_type": "code",
   "execution_count": 68,
   "metadata": {},
   "outputs": [],
   "source": [
    "gifts['today'] ='24/11/2019'"
   ]
  },
  {
   "cell_type": "markdown",
   "metadata": {},
   "source": [
    "We change the new column and date to date format"
   ]
  },
  {
   "cell_type": "code",
   "execution_count": 69,
   "metadata": {},
   "outputs": [],
   "source": [
    "gifts['today'] = pd.to_datetime(gifts['today'])\n"
   ]
  },
  {
   "cell_type": "code",
   "execution_count": 70,
   "metadata": {},
   "outputs": [],
   "source": [
    "gifts['date'] = pd.to_datetime(gifts['date'])\n"
   ]
  },
  {
   "cell_type": "code",
   "execution_count": 71,
   "metadata": {},
   "outputs": [
    {
     "data": {
      "text/html": [
       "<div>\n",
       "<style scoped>\n",
       "    .dataframe tbody tr th:only-of-type {\n",
       "        vertical-align: middle;\n",
       "    }\n",
       "\n",
       "    .dataframe tbody tr th {\n",
       "        vertical-align: top;\n",
       "    }\n",
       "\n",
       "    .dataframe thead th {\n",
       "        text-align: right;\n",
       "    }\n",
       "</style>\n",
       "<table border=\"1\" class=\"dataframe\">\n",
       "  <thead>\n",
       "    <tr style=\"text-align: right;\">\n",
       "      <th></th>\n",
       "      <th>campID</th>\n",
       "      <th>donorID</th>\n",
       "      <th>amount</th>\n",
       "      <th>date</th>\n",
       "      <th>today</th>\n",
       "    </tr>\n",
       "  </thead>\n",
       "  <tbody>\n",
       "    <tr>\n",
       "      <th>0</th>\n",
       "      <td>0</td>\n",
       "      <td>100001</td>\n",
       "      <td>12.39</td>\n",
       "      <td>1998-10-23</td>\n",
       "      <td>2019-11-24</td>\n",
       "    </tr>\n",
       "    <tr>\n",
       "      <th>1</th>\n",
       "      <td>1577</td>\n",
       "      <td>100001</td>\n",
       "      <td>12.39</td>\n",
       "      <td>1999-08-18</td>\n",
       "      <td>2019-11-24</td>\n",
       "    </tr>\n",
       "    <tr>\n",
       "      <th>2</th>\n",
       "      <td>1634</td>\n",
       "      <td>100001</td>\n",
       "      <td>6.69</td>\n",
       "      <td>1999-12-31</td>\n",
       "      <td>2019-11-24</td>\n",
       "    </tr>\n",
       "    <tr>\n",
       "      <th>3</th>\n",
       "      <td>1778</td>\n",
       "      <td>100001</td>\n",
       "      <td>24.79</td>\n",
       "      <td>2000-10-19</td>\n",
       "      <td>2019-11-24</td>\n",
       "    </tr>\n",
       "    <tr>\n",
       "      <th>4</th>\n",
       "      <td>1808</td>\n",
       "      <td>100001</td>\n",
       "      <td>7.44</td>\n",
       "      <td>2000-12-29</td>\n",
       "      <td>2019-11-24</td>\n",
       "    </tr>\n",
       "  </tbody>\n",
       "</table>\n",
       "</div>"
      ],
      "text/plain": [
       "   campID  donorID  amount       date      today\n",
       "0       0   100001   12.39 1998-10-23 2019-11-24\n",
       "1    1577   100001   12.39 1999-08-18 2019-11-24\n",
       "2    1634   100001    6.69 1999-12-31 2019-11-24\n",
       "3    1778   100001   24.79 2000-10-19 2019-11-24\n",
       "4    1808   100001    7.44 2000-12-29 2019-11-24"
      ]
     },
     "execution_count": 71,
     "metadata": {},
     "output_type": "execute_result"
    }
   ],
   "source": [
    "gifts.head()"
   ]
  },
  {
   "cell_type": "code",
   "execution_count": 72,
   "metadata": {},
   "outputs": [
    {
     "name": "stdout",
     "output_type": "stream",
     "text": [
      "<class 'pandas.core.frame.DataFrame'>\n",
      "RangeIndex: 215042 entries, 0 to 215041\n",
      "Data columns (total 5 columns):\n",
      "campID     215042 non-null int64\n",
      "donorID    215042 non-null int64\n",
      "amount     215042 non-null float64\n",
      "date       215042 non-null datetime64[ns]\n",
      "today      215042 non-null datetime64[ns]\n",
      "dtypes: datetime64[ns](2), float64(1), int64(2)\n",
      "memory usage: 8.2 MB\n"
     ]
    }
   ],
   "source": [
    "gifts.info()"
   ]
  },
  {
   "cell_type": "markdown",
   "metadata": {},
   "source": [
    "We create a new column Difference which represents the number of days from the date we define and the date of the donation"
   ]
  },
  {
   "cell_type": "code",
   "execution_count": 73,
   "metadata": {},
   "outputs": [],
   "source": [
    "gifts['Difference'] = gifts['today'] - gifts['date']"
   ]
  },
  {
   "cell_type": "code",
   "execution_count": 74,
   "metadata": {},
   "outputs": [
    {
     "data": {
      "text/html": [
       "<div>\n",
       "<style scoped>\n",
       "    .dataframe tbody tr th:only-of-type {\n",
       "        vertical-align: middle;\n",
       "    }\n",
       "\n",
       "    .dataframe tbody tr th {\n",
       "        vertical-align: top;\n",
       "    }\n",
       "\n",
       "    .dataframe thead th {\n",
       "        text-align: right;\n",
       "    }\n",
       "</style>\n",
       "<table border=\"1\" class=\"dataframe\">\n",
       "  <thead>\n",
       "    <tr style=\"text-align: right;\">\n",
       "      <th></th>\n",
       "      <th>campID</th>\n",
       "      <th>donorID</th>\n",
       "      <th>amount</th>\n",
       "      <th>date</th>\n",
       "      <th>today</th>\n",
       "      <th>Difference</th>\n",
       "    </tr>\n",
       "  </thead>\n",
       "  <tbody>\n",
       "    <tr>\n",
       "      <th>0</th>\n",
       "      <td>0</td>\n",
       "      <td>100001</td>\n",
       "      <td>12.39</td>\n",
       "      <td>1998-10-23</td>\n",
       "      <td>2019-11-24</td>\n",
       "      <td>7702 days</td>\n",
       "    </tr>\n",
       "    <tr>\n",
       "      <th>1</th>\n",
       "      <td>1577</td>\n",
       "      <td>100001</td>\n",
       "      <td>12.39</td>\n",
       "      <td>1999-08-18</td>\n",
       "      <td>2019-11-24</td>\n",
       "      <td>7403 days</td>\n",
       "    </tr>\n",
       "    <tr>\n",
       "      <th>2</th>\n",
       "      <td>1634</td>\n",
       "      <td>100001</td>\n",
       "      <td>6.69</td>\n",
       "      <td>1999-12-31</td>\n",
       "      <td>2019-11-24</td>\n",
       "      <td>7268 days</td>\n",
       "    </tr>\n",
       "    <tr>\n",
       "      <th>3</th>\n",
       "      <td>1778</td>\n",
       "      <td>100001</td>\n",
       "      <td>24.79</td>\n",
       "      <td>2000-10-19</td>\n",
       "      <td>2019-11-24</td>\n",
       "      <td>6975 days</td>\n",
       "    </tr>\n",
       "    <tr>\n",
       "      <th>4</th>\n",
       "      <td>1808</td>\n",
       "      <td>100001</td>\n",
       "      <td>7.44</td>\n",
       "      <td>2000-12-29</td>\n",
       "      <td>2019-11-24</td>\n",
       "      <td>6904 days</td>\n",
       "    </tr>\n",
       "  </tbody>\n",
       "</table>\n",
       "</div>"
      ],
      "text/plain": [
       "   campID  donorID  amount       date      today Difference\n",
       "0       0   100001   12.39 1998-10-23 2019-11-24  7702 days\n",
       "1    1577   100001   12.39 1999-08-18 2019-11-24  7403 days\n",
       "2    1634   100001    6.69 1999-12-31 2019-11-24  7268 days\n",
       "3    1778   100001   24.79 2000-10-19 2019-11-24  6975 days\n",
       "4    1808   100001    7.44 2000-12-29 2019-11-24  6904 days"
      ]
     },
     "execution_count": 74,
     "metadata": {},
     "output_type": "execute_result"
    }
   ],
   "source": [
    "gifts.head()"
   ]
  },
  {
   "cell_type": "markdown",
   "metadata": {},
   "source": [
    "We change the type of difference into integer"
   ]
  },
  {
   "cell_type": "code",
   "execution_count": 75,
   "metadata": {},
   "outputs": [],
   "source": [
    "gifts['Difference'] = gifts['Difference'].dt.days"
   ]
  },
  {
   "cell_type": "markdown",
   "metadata": {},
   "source": [
    "We now create min_diff which is the minimum of days difference per donorID, this basically represents the days since the last donation as it will have the lowest number of days of difference"
   ]
  },
  {
   "cell_type": "code",
   "execution_count": 76,
   "metadata": {},
   "outputs": [],
   "source": [
    "min_diff = gifts.groupby(['donorID'])['Difference'].min()"
   ]
  },
  {
   "cell_type": "code",
   "execution_count": 77,
   "metadata": {},
   "outputs": [
    {
     "data": {
      "text/plain": [
       "donorID\n",
       "100001    4724\n",
       "100002    3368\n",
       "100003    2062\n",
       "100004    5088\n",
       "100005    2222\n",
       "Name: Difference, dtype: int64"
      ]
     },
     "execution_count": 77,
     "metadata": {},
     "output_type": "execute_result"
    }
   ],
   "source": [
    "min_diff.head()"
   ]
  },
  {
   "cell_type": "markdown",
   "metadata": {},
   "source": [
    "We now assign min_diff to a new column in features"
   ]
  },
  {
   "cell_type": "code",
   "execution_count": 78,
   "metadata": {},
   "outputs": [],
   "source": [
    "features['time_last_gave'] = min_diff"
   ]
  },
  {
   "cell_type": "code",
   "execution_count": 79,
   "metadata": {},
   "outputs": [
    {
     "data": {
      "text/html": [
       "<div>\n",
       "<style scoped>\n",
       "    .dataframe tbody tr th:only-of-type {\n",
       "        vertical-align: middle;\n",
       "    }\n",
       "\n",
       "    .dataframe tbody tr th {\n",
       "        vertical-align: top;\n",
       "    }\n",
       "\n",
       "    .dataframe thead th {\n",
       "        text-align: right;\n",
       "    }\n",
       "</style>\n",
       "<table border=\"1\" class=\"dataframe\">\n",
       "  <thead>\n",
       "    <tr style=\"text-align: right;\">\n",
       "      <th></th>\n",
       "      <th>donorID</th>\n",
       "      <th>count</th>\n",
       "      <th>sum</th>\n",
       "      <th>mean</th>\n",
       "      <th>time_last_gave</th>\n",
       "    </tr>\n",
       "    <tr>\n",
       "      <th>donorID</th>\n",
       "      <th></th>\n",
       "      <th></th>\n",
       "      <th></th>\n",
       "      <th></th>\n",
       "      <th></th>\n",
       "    </tr>\n",
       "  </thead>\n",
       "  <tbody>\n",
       "    <tr>\n",
       "      <th>100001</th>\n",
       "      <td>NaN</td>\n",
       "      <td>12</td>\n",
       "      <td>178.49</td>\n",
       "      <td>14.874167</td>\n",
       "      <td>4724</td>\n",
       "    </tr>\n",
       "    <tr>\n",
       "      <th>100002</th>\n",
       "      <td>NaN</td>\n",
       "      <td>1</td>\n",
       "      <td>20.00</td>\n",
       "      <td>20.000000</td>\n",
       "      <td>3368</td>\n",
       "    </tr>\n",
       "    <tr>\n",
       "      <th>100003</th>\n",
       "      <td>NaN</td>\n",
       "      <td>12</td>\n",
       "      <td>46.00</td>\n",
       "      <td>3.833333</td>\n",
       "      <td>2062</td>\n",
       "    </tr>\n",
       "    <tr>\n",
       "      <th>100004</th>\n",
       "      <td>NaN</td>\n",
       "      <td>26</td>\n",
       "      <td>716.22</td>\n",
       "      <td>27.546923</td>\n",
       "      <td>5088</td>\n",
       "    </tr>\n",
       "    <tr>\n",
       "      <th>100005</th>\n",
       "      <td>NaN</td>\n",
       "      <td>5</td>\n",
       "      <td>24.96</td>\n",
       "      <td>4.992000</td>\n",
       "      <td>2222</td>\n",
       "    </tr>\n",
       "  </tbody>\n",
       "</table>\n",
       "</div>"
      ],
      "text/plain": [
       "        donorID  count     sum       mean  time_last_gave\n",
       "donorID                                                  \n",
       "100001      NaN     12  178.49  14.874167            4724\n",
       "100002      NaN      1   20.00  20.000000            3368\n",
       "100003      NaN     12   46.00   3.833333            2062\n",
       "100004      NaN     26  716.22  27.546923            5088\n",
       "100005      NaN      5   24.96   4.992000            2222"
      ]
     },
     "execution_count": 79,
     "metadata": {},
     "output_type": "execute_result"
    }
   ],
   "source": [
    "features.head()"
   ]
  },
  {
   "cell_type": "code",
   "execution_count": 80,
   "metadata": {},
   "outputs": [
    {
     "name": "stdout",
     "output_type": "stream",
     "text": [
      "<class 'pandas.core.frame.DataFrame'>\n",
      "Int64Index: 44686 entries, 100001 to 144691\n",
      "Data columns (total 5 columns):\n",
      "donorID           0 non-null object\n",
      "count             44686 non-null int64\n",
      "sum               44686 non-null float64\n",
      "mean              44686 non-null float64\n",
      "time_last_gave    44686 non-null int64\n",
      "dtypes: float64(2), int64(2), object(1)\n",
      "memory usage: 2.0+ MB\n"
     ]
    }
   ],
   "source": [
    "features.info()"
   ]
  },
  {
   "cell_type": "code",
   "execution_count": 81,
   "metadata": {},
   "outputs": [
    {
     "data": {
      "text/html": [
       "<div>\n",
       "<style scoped>\n",
       "    .dataframe tbody tr th:only-of-type {\n",
       "        vertical-align: middle;\n",
       "    }\n",
       "\n",
       "    .dataframe tbody tr th {\n",
       "        vertical-align: top;\n",
       "    }\n",
       "\n",
       "    .dataframe thead th {\n",
       "        text-align: right;\n",
       "    }\n",
       "</style>\n",
       "<table border=\"1\" class=\"dataframe\">\n",
       "  <thead>\n",
       "    <tr style=\"text-align: right;\">\n",
       "      <th></th>\n",
       "      <th>donorID</th>\n",
       "      <th>count</th>\n",
       "      <th>sum</th>\n",
       "      <th>mean</th>\n",
       "      <th>time_last_gave</th>\n",
       "    </tr>\n",
       "    <tr>\n",
       "      <th>donorID</th>\n",
       "      <th></th>\n",
       "      <th></th>\n",
       "      <th></th>\n",
       "      <th></th>\n",
       "      <th></th>\n",
       "    </tr>\n",
       "  </thead>\n",
       "  <tbody>\n",
       "    <tr>\n",
       "      <th>100001</th>\n",
       "      <td>NaN</td>\n",
       "      <td>12</td>\n",
       "      <td>178.49</td>\n",
       "      <td>14.874167</td>\n",
       "      <td>4724</td>\n",
       "    </tr>\n",
       "    <tr>\n",
       "      <th>100002</th>\n",
       "      <td>NaN</td>\n",
       "      <td>1</td>\n",
       "      <td>20.00</td>\n",
       "      <td>20.000000</td>\n",
       "      <td>3368</td>\n",
       "    </tr>\n",
       "    <tr>\n",
       "      <th>100003</th>\n",
       "      <td>NaN</td>\n",
       "      <td>12</td>\n",
       "      <td>46.00</td>\n",
       "      <td>3.833333</td>\n",
       "      <td>2062</td>\n",
       "    </tr>\n",
       "    <tr>\n",
       "      <th>100004</th>\n",
       "      <td>NaN</td>\n",
       "      <td>26</td>\n",
       "      <td>716.22</td>\n",
       "      <td>27.546923</td>\n",
       "      <td>5088</td>\n",
       "    </tr>\n",
       "    <tr>\n",
       "      <th>100005</th>\n",
       "      <td>NaN</td>\n",
       "      <td>5</td>\n",
       "      <td>24.96</td>\n",
       "      <td>4.992000</td>\n",
       "      <td>2222</td>\n",
       "    </tr>\n",
       "  </tbody>\n",
       "</table>\n",
       "</div>"
      ],
      "text/plain": [
       "        donorID  count     sum       mean  time_last_gave\n",
       "donorID                                                  \n",
       "100001      NaN     12  178.49  14.874167            4724\n",
       "100002      NaN      1   20.00  20.000000            3368\n",
       "100003      NaN     12   46.00   3.833333            2062\n",
       "100004      NaN     26  716.22  27.546923            5088\n",
       "100005      NaN      5   24.96   4.992000            2222"
      ]
     },
     "execution_count": 81,
     "metadata": {},
     "output_type": "execute_result"
    }
   ],
   "source": [
    "features.head()"
   ]
  },
  {
   "cell_type": "code",
   "execution_count": 82,
   "metadata": {},
   "outputs": [
    {
     "name": "stdout",
     "output_type": "stream",
     "text": [
      "<class 'pandas.core.frame.DataFrame'>\n",
      "Int64Index: 44686 entries, 100001 to 144691\n",
      "Data columns (total 5 columns):\n",
      "donorID           0 non-null object\n",
      "count             44686 non-null int64\n",
      "sum               44686 non-null float64\n",
      "mean              44686 non-null float64\n",
      "time_last_gave    44686 non-null int64\n",
      "dtypes: float64(2), int64(2), object(1)\n",
      "memory usage: 2.0+ MB\n"
     ]
    }
   ],
   "source": [
    "features.info()"
   ]
  },
  {
   "cell_type": "markdown",
   "metadata": {},
   "source": [
    "#### Targeted by at least one campaign (dummy encoding)"
   ]
  },
  {
   "cell_type": "markdown",
   "metadata": {},
   "source": [
    "We first create a new column in gifts were we want to assign 0 if campID equal 0 and else 1"
   ]
  },
  {
   "cell_type": "code",
   "execution_count": 83,
   "metadata": {},
   "outputs": [],
   "source": [
    "gifts['campaign'] = (gifts['campID'] != 0)*1"
   ]
  },
  {
   "cell_type": "code",
   "execution_count": 84,
   "metadata": {},
   "outputs": [
    {
     "data": {
      "text/html": [
       "<div>\n",
       "<style scoped>\n",
       "    .dataframe tbody tr th:only-of-type {\n",
       "        vertical-align: middle;\n",
       "    }\n",
       "\n",
       "    .dataframe tbody tr th {\n",
       "        vertical-align: top;\n",
       "    }\n",
       "\n",
       "    .dataframe thead th {\n",
       "        text-align: right;\n",
       "    }\n",
       "</style>\n",
       "<table border=\"1\" class=\"dataframe\">\n",
       "  <thead>\n",
       "    <tr style=\"text-align: right;\">\n",
       "      <th></th>\n",
       "      <th>campID</th>\n",
       "      <th>donorID</th>\n",
       "      <th>amount</th>\n",
       "      <th>date</th>\n",
       "      <th>today</th>\n",
       "      <th>Difference</th>\n",
       "      <th>campaign</th>\n",
       "    </tr>\n",
       "  </thead>\n",
       "  <tbody>\n",
       "    <tr>\n",
       "      <th>0</th>\n",
       "      <td>0</td>\n",
       "      <td>100001</td>\n",
       "      <td>12.39</td>\n",
       "      <td>1998-10-23</td>\n",
       "      <td>2019-11-24</td>\n",
       "      <td>7702</td>\n",
       "      <td>0</td>\n",
       "    </tr>\n",
       "    <tr>\n",
       "      <th>1</th>\n",
       "      <td>1577</td>\n",
       "      <td>100001</td>\n",
       "      <td>12.39</td>\n",
       "      <td>1999-08-18</td>\n",
       "      <td>2019-11-24</td>\n",
       "      <td>7403</td>\n",
       "      <td>1</td>\n",
       "    </tr>\n",
       "    <tr>\n",
       "      <th>2</th>\n",
       "      <td>1634</td>\n",
       "      <td>100001</td>\n",
       "      <td>6.69</td>\n",
       "      <td>1999-12-31</td>\n",
       "      <td>2019-11-24</td>\n",
       "      <td>7268</td>\n",
       "      <td>1</td>\n",
       "    </tr>\n",
       "    <tr>\n",
       "      <th>3</th>\n",
       "      <td>1778</td>\n",
       "      <td>100001</td>\n",
       "      <td>24.79</td>\n",
       "      <td>2000-10-19</td>\n",
       "      <td>2019-11-24</td>\n",
       "      <td>6975</td>\n",
       "      <td>1</td>\n",
       "    </tr>\n",
       "    <tr>\n",
       "      <th>4</th>\n",
       "      <td>1808</td>\n",
       "      <td>100001</td>\n",
       "      <td>7.44</td>\n",
       "      <td>2000-12-29</td>\n",
       "      <td>2019-11-24</td>\n",
       "      <td>6904</td>\n",
       "      <td>1</td>\n",
       "    </tr>\n",
       "  </tbody>\n",
       "</table>\n",
       "</div>"
      ],
      "text/plain": [
       "   campID  donorID  amount       date      today  Difference  campaign\n",
       "0       0   100001   12.39 1998-10-23 2019-11-24        7702         0\n",
       "1    1577   100001   12.39 1999-08-18 2019-11-24        7403         1\n",
       "2    1634   100001    6.69 1999-12-31 2019-11-24        7268         1\n",
       "3    1778   100001   24.79 2000-10-19 2019-11-24        6975         1\n",
       "4    1808   100001    7.44 2000-12-29 2019-11-24        6904         1"
      ]
     },
     "execution_count": 84,
     "metadata": {},
     "output_type": "execute_result"
    }
   ],
   "source": [
    "gifts.head()"
   ]
  },
  {
   "cell_type": "markdown",
   "metadata": {},
   "source": [
    "Then, we group by gifts on donorID and we do a sum of our new column campaign and assign the result to targeted in features"
   ]
  },
  {
   "cell_type": "code",
   "execution_count": 85,
   "metadata": {},
   "outputs": [],
   "source": [
    "features['targeted'] = gifts.groupby(['donorID'])['campaign'].sum()\n"
   ]
  },
  {
   "cell_type": "code",
   "execution_count": 86,
   "metadata": {},
   "outputs": [
    {
     "data": {
      "text/html": [
       "<div>\n",
       "<style scoped>\n",
       "    .dataframe tbody tr th:only-of-type {\n",
       "        vertical-align: middle;\n",
       "    }\n",
       "\n",
       "    .dataframe tbody tr th {\n",
       "        vertical-align: top;\n",
       "    }\n",
       "\n",
       "    .dataframe thead th {\n",
       "        text-align: right;\n",
       "    }\n",
       "</style>\n",
       "<table border=\"1\" class=\"dataframe\">\n",
       "  <thead>\n",
       "    <tr style=\"text-align: right;\">\n",
       "      <th></th>\n",
       "      <th>donorID</th>\n",
       "      <th>count</th>\n",
       "      <th>sum</th>\n",
       "      <th>mean</th>\n",
       "      <th>time_last_gave</th>\n",
       "      <th>targeted</th>\n",
       "    </tr>\n",
       "    <tr>\n",
       "      <th>donorID</th>\n",
       "      <th></th>\n",
       "      <th></th>\n",
       "      <th></th>\n",
       "      <th></th>\n",
       "      <th></th>\n",
       "      <th></th>\n",
       "    </tr>\n",
       "  </thead>\n",
       "  <tbody>\n",
       "    <tr>\n",
       "      <th>100001</th>\n",
       "      <td>NaN</td>\n",
       "      <td>12</td>\n",
       "      <td>178.49</td>\n",
       "      <td>14.874167</td>\n",
       "      <td>4724</td>\n",
       "      <td>11</td>\n",
       "    </tr>\n",
       "    <tr>\n",
       "      <th>100002</th>\n",
       "      <td>NaN</td>\n",
       "      <td>1</td>\n",
       "      <td>20.00</td>\n",
       "      <td>20.000000</td>\n",
       "      <td>3368</td>\n",
       "      <td>1</td>\n",
       "    </tr>\n",
       "    <tr>\n",
       "      <th>100003</th>\n",
       "      <td>NaN</td>\n",
       "      <td>12</td>\n",
       "      <td>46.00</td>\n",
       "      <td>3.833333</td>\n",
       "      <td>2062</td>\n",
       "      <td>12</td>\n",
       "    </tr>\n",
       "    <tr>\n",
       "      <th>100004</th>\n",
       "      <td>NaN</td>\n",
       "      <td>26</td>\n",
       "      <td>716.22</td>\n",
       "      <td>27.546923</td>\n",
       "      <td>5088</td>\n",
       "      <td>25</td>\n",
       "    </tr>\n",
       "    <tr>\n",
       "      <th>100005</th>\n",
       "      <td>NaN</td>\n",
       "      <td>5</td>\n",
       "      <td>24.96</td>\n",
       "      <td>4.992000</td>\n",
       "      <td>2222</td>\n",
       "      <td>5</td>\n",
       "    </tr>\n",
       "  </tbody>\n",
       "</table>\n",
       "</div>"
      ],
      "text/plain": [
       "        donorID  count     sum       mean  time_last_gave  targeted\n",
       "donorID                                                            \n",
       "100001      NaN     12  178.49  14.874167            4724        11\n",
       "100002      NaN      1   20.00  20.000000            3368         1\n",
       "100003      NaN     12   46.00   3.833333            2062        12\n",
       "100004      NaN     26  716.22  27.546923            5088        25\n",
       "100005      NaN      5   24.96   4.992000            2222         5"
      ]
     },
     "execution_count": 86,
     "metadata": {},
     "output_type": "execute_result"
    }
   ],
   "source": [
    "features.head()"
   ]
  },
  {
   "cell_type": "markdown",
   "metadata": {},
   "source": [
    "Now, we replace all values above 1 by 1 to make sure that 0 corresponds to a donor never targeted by campaign and 1 to a donor targeted by at least 1 campaign"
   ]
  },
  {
   "cell_type": "code",
   "execution_count": 87,
   "metadata": {},
   "outputs": [],
   "source": [
    "features.loc[features['targeted'] >= 1, 'targeted'] = 1"
   ]
  },
  {
   "cell_type": "code",
   "execution_count": 88,
   "metadata": {},
   "outputs": [
    {
     "data": {
      "text/plain": [
       "donorID               0\n",
       "count               134\n",
       "sum                9090\n",
       "mean              10882\n",
       "time_last_gave     4384\n",
       "targeted              2\n",
       "dtype: int64"
      ]
     },
     "execution_count": 88,
     "metadata": {},
     "output_type": "execute_result"
    }
   ],
   "source": [
    "features.nunique()"
   ]
  },
  {
   "cell_type": "code",
   "execution_count": 89,
   "metadata": {},
   "outputs": [
    {
     "name": "stdout",
     "output_type": "stream",
     "text": [
      "<class 'pandas.core.frame.DataFrame'>\n",
      "Int64Index: 44686 entries, 100001 to 144691\n",
      "Data columns (total 6 columns):\n",
      "donorID           0 non-null object\n",
      "count             44686 non-null int64\n",
      "sum               44686 non-null float64\n",
      "mean              44686 non-null float64\n",
      "time_last_gave    44686 non-null int64\n",
      "targeted          44686 non-null int32\n",
      "dtypes: float64(2), int32(1), int64(2), object(1)\n",
      "memory usage: 2.2+ MB\n"
     ]
    }
   ],
   "source": [
    "features.info()"
   ]
  },
  {
   "cell_type": "code",
   "execution_count": 90,
   "metadata": {},
   "outputs": [
    {
     "data": {
      "text/html": [
       "<div>\n",
       "<style scoped>\n",
       "    .dataframe tbody tr th:only-of-type {\n",
       "        vertical-align: middle;\n",
       "    }\n",
       "\n",
       "    .dataframe tbody tr th {\n",
       "        vertical-align: top;\n",
       "    }\n",
       "\n",
       "    .dataframe thead th {\n",
       "        text-align: right;\n",
       "    }\n",
       "</style>\n",
       "<table border=\"1\" class=\"dataframe\">\n",
       "  <thead>\n",
       "    <tr style=\"text-align: right;\">\n",
       "      <th></th>\n",
       "      <th>donorID</th>\n",
       "      <th>count</th>\n",
       "      <th>sum</th>\n",
       "      <th>mean</th>\n",
       "      <th>time_last_gave</th>\n",
       "      <th>targeted</th>\n",
       "    </tr>\n",
       "    <tr>\n",
       "      <th>donorID</th>\n",
       "      <th></th>\n",
       "      <th></th>\n",
       "      <th></th>\n",
       "      <th></th>\n",
       "      <th></th>\n",
       "      <th></th>\n",
       "    </tr>\n",
       "  </thead>\n",
       "  <tbody>\n",
       "    <tr>\n",
       "      <th>100001</th>\n",
       "      <td>NaN</td>\n",
       "      <td>12</td>\n",
       "      <td>178.49</td>\n",
       "      <td>14.874167</td>\n",
       "      <td>4724</td>\n",
       "      <td>1</td>\n",
       "    </tr>\n",
       "    <tr>\n",
       "      <th>100002</th>\n",
       "      <td>NaN</td>\n",
       "      <td>1</td>\n",
       "      <td>20.00</td>\n",
       "      <td>20.000000</td>\n",
       "      <td>3368</td>\n",
       "      <td>1</td>\n",
       "    </tr>\n",
       "    <tr>\n",
       "      <th>100003</th>\n",
       "      <td>NaN</td>\n",
       "      <td>12</td>\n",
       "      <td>46.00</td>\n",
       "      <td>3.833333</td>\n",
       "      <td>2062</td>\n",
       "      <td>1</td>\n",
       "    </tr>\n",
       "    <tr>\n",
       "      <th>100004</th>\n",
       "      <td>NaN</td>\n",
       "      <td>26</td>\n",
       "      <td>716.22</td>\n",
       "      <td>27.546923</td>\n",
       "      <td>5088</td>\n",
       "      <td>1</td>\n",
       "    </tr>\n",
       "    <tr>\n",
       "      <th>100005</th>\n",
       "      <td>NaN</td>\n",
       "      <td>5</td>\n",
       "      <td>24.96</td>\n",
       "      <td>4.992000</td>\n",
       "      <td>2222</td>\n",
       "      <td>1</td>\n",
       "    </tr>\n",
       "  </tbody>\n",
       "</table>\n",
       "</div>"
      ],
      "text/plain": [
       "        donorID  count     sum       mean  time_last_gave  targeted\n",
       "donorID                                                            \n",
       "100001      NaN     12  178.49  14.874167            4724         1\n",
       "100002      NaN      1   20.00  20.000000            3368         1\n",
       "100003      NaN     12   46.00   3.833333            2062         1\n",
       "100004      NaN     26  716.22  27.546923            5088         1\n",
       "100005      NaN      5   24.96   4.992000            2222         1"
      ]
     },
     "execution_count": 90,
     "metadata": {},
     "output_type": "execute_result"
    }
   ],
   "source": [
    "features.head()"
   ]
  },
  {
   "cell_type": "markdown",
   "metadata": {},
   "source": [
    "When we finish, we assign the donorID to the colum and reset the index to have a nice dataframe "
   ]
  },
  {
   "cell_type": "code",
   "execution_count": 91,
   "metadata": {},
   "outputs": [],
   "source": [
    "features['donorID'] = features.index"
   ]
  },
  {
   "cell_type": "code",
   "execution_count": 92,
   "metadata": {},
   "outputs": [],
   "source": [
    "features = features.reset_index(drop=True)"
   ]
  },
  {
   "cell_type": "code",
   "execution_count": 93,
   "metadata": {},
   "outputs": [
    {
     "data": {
      "text/html": [
       "<div>\n",
       "<style scoped>\n",
       "    .dataframe tbody tr th:only-of-type {\n",
       "        vertical-align: middle;\n",
       "    }\n",
       "\n",
       "    .dataframe tbody tr th {\n",
       "        vertical-align: top;\n",
       "    }\n",
       "\n",
       "    .dataframe thead th {\n",
       "        text-align: right;\n",
       "    }\n",
       "</style>\n",
       "<table border=\"1\" class=\"dataframe\">\n",
       "  <thead>\n",
       "    <tr style=\"text-align: right;\">\n",
       "      <th></th>\n",
       "      <th>donorID</th>\n",
       "      <th>count</th>\n",
       "      <th>sum</th>\n",
       "      <th>mean</th>\n",
       "      <th>time_last_gave</th>\n",
       "      <th>targeted</th>\n",
       "    </tr>\n",
       "  </thead>\n",
       "  <tbody>\n",
       "    <tr>\n",
       "      <th>0</th>\n",
       "      <td>100001</td>\n",
       "      <td>12</td>\n",
       "      <td>178.49</td>\n",
       "      <td>14.874167</td>\n",
       "      <td>4724</td>\n",
       "      <td>1</td>\n",
       "    </tr>\n",
       "    <tr>\n",
       "      <th>1</th>\n",
       "      <td>100002</td>\n",
       "      <td>1</td>\n",
       "      <td>20.00</td>\n",
       "      <td>20.000000</td>\n",
       "      <td>3368</td>\n",
       "      <td>1</td>\n",
       "    </tr>\n",
       "    <tr>\n",
       "      <th>2</th>\n",
       "      <td>100003</td>\n",
       "      <td>12</td>\n",
       "      <td>46.00</td>\n",
       "      <td>3.833333</td>\n",
       "      <td>2062</td>\n",
       "      <td>1</td>\n",
       "    </tr>\n",
       "    <tr>\n",
       "      <th>3</th>\n",
       "      <td>100004</td>\n",
       "      <td>26</td>\n",
       "      <td>716.22</td>\n",
       "      <td>27.546923</td>\n",
       "      <td>5088</td>\n",
       "      <td>1</td>\n",
       "    </tr>\n",
       "    <tr>\n",
       "      <th>4</th>\n",
       "      <td>100005</td>\n",
       "      <td>5</td>\n",
       "      <td>24.96</td>\n",
       "      <td>4.992000</td>\n",
       "      <td>2222</td>\n",
       "      <td>1</td>\n",
       "    </tr>\n",
       "  </tbody>\n",
       "</table>\n",
       "</div>"
      ],
      "text/plain": [
       "   donorID  count     sum       mean  time_last_gave  targeted\n",
       "0   100001     12  178.49  14.874167            4724         1\n",
       "1   100002      1   20.00  20.000000            3368         1\n",
       "2   100003     12   46.00   3.833333            2062         1\n",
       "3   100004     26  716.22  27.546923            5088         1\n",
       "4   100005      5   24.96   4.992000            2222         1"
      ]
     },
     "execution_count": 93,
     "metadata": {},
     "output_type": "execute_result"
    }
   ],
   "source": [
    "features.head()"
   ]
  },
  {
   "cell_type": "markdown",
   "metadata": {},
   "source": [
    "### Data Preparation : Managing outliers"
   ]
  },
  {
   "cell_type": "markdown",
   "metadata": {},
   "source": [
    "Remaining part to do"
   ]
  },
  {
   "cell_type": "markdown",
   "metadata": {},
   "source": [
    "## Data Preparation : Merging donors2, features and campaign in training & test sets"
   ]
  },
  {
   "cell_type": "markdown",
   "metadata": {},
   "source": [
    "#### We will do a left joing on training / test sets with donors 2 & features"
   ]
  },
  {
   "cell_type": "markdown",
   "metadata": {},
   "source": [
    "We first do a left join on trainingSet with donors2 on donorID"
   ]
  },
  {
   "cell_type": "code",
   "execution_count": 94,
   "metadata": {},
   "outputs": [],
   "source": [
    "trainingSetFinal =  pd.merge(trainingSet, donors2, how = \"left\",\n",
    "                            left_on = \"donorID\", right_on = \"donorID\")"
   ]
  },
  {
   "cell_type": "code",
   "execution_count": 95,
   "metadata": {},
   "outputs": [
    {
     "data": {
      "text/html": [
       "<div>\n",
       "<style scoped>\n",
       "    .dataframe tbody tr th:only-of-type {\n",
       "        vertical-align: middle;\n",
       "    }\n",
       "\n",
       "    .dataframe tbody tr th {\n",
       "        vertical-align: top;\n",
       "    }\n",
       "\n",
       "    .dataframe thead th {\n",
       "        text-align: right;\n",
       "    }\n",
       "</style>\n",
       "<table border=\"1\" class=\"dataframe\">\n",
       "  <thead>\n",
       "    <tr style=\"text-align: right;\">\n",
       "      <th></th>\n",
       "      <th>donorID</th>\n",
       "      <th>amount</th>\n",
       "      <th>target</th>\n",
       "      <th>gender</th>\n",
       "      <th>zipcode</th>\n",
       "      <th>Is__French</th>\n",
       "      <th>Is_in__Brabant Flamand</th>\n",
       "      <th>Is_in__Brabant Wallon</th>\n",
       "      <th>Is_in__Bruxelles</th>\n",
       "      <th>Is_in__Flandre-Occidentale</th>\n",
       "      <th>Is_in__Flandre-Orientale</th>\n",
       "      <th>Is_in__Hainaut</th>\n",
       "      <th>Is_in__Limbourg</th>\n",
       "      <th>Is_in__Liège</th>\n",
       "      <th>Is_in__Luxembourg</th>\n",
       "      <th>Is_in__Namur</th>\n",
       "    </tr>\n",
       "  </thead>\n",
       "  <tbody>\n",
       "    <tr>\n",
       "      <th>0</th>\n",
       "      <td>100001</td>\n",
       "      <td>0.0</td>\n",
       "      <td>0</td>\n",
       "      <td>M</td>\n",
       "      <td>1861.0</td>\n",
       "      <td>0.0</td>\n",
       "      <td>1.0</td>\n",
       "      <td>0.0</td>\n",
       "      <td>0.0</td>\n",
       "      <td>0.0</td>\n",
       "      <td>0.0</td>\n",
       "      <td>0.0</td>\n",
       "      <td>0.0</td>\n",
       "      <td>0.0</td>\n",
       "      <td>0.0</td>\n",
       "      <td>0.0</td>\n",
       "    </tr>\n",
       "    <tr>\n",
       "      <th>1</th>\n",
       "      <td>100002</td>\n",
       "      <td>0.0</td>\n",
       "      <td>0</td>\n",
       "      <td>M</td>\n",
       "      <td>2260.0</td>\n",
       "      <td>1.0</td>\n",
       "      <td>0.0</td>\n",
       "      <td>0.0</td>\n",
       "      <td>0.0</td>\n",
       "      <td>0.0</td>\n",
       "      <td>0.0</td>\n",
       "      <td>0.0</td>\n",
       "      <td>0.0</td>\n",
       "      <td>0.0</td>\n",
       "      <td>0.0</td>\n",
       "      <td>0.0</td>\n",
       "    </tr>\n",
       "    <tr>\n",
       "      <th>2</th>\n",
       "      <td>100004</td>\n",
       "      <td>0.0</td>\n",
       "      <td>0</td>\n",
       "      <td>M</td>\n",
       "      <td>1020.0</td>\n",
       "      <td>0.0</td>\n",
       "      <td>0.0</td>\n",
       "      <td>0.0</td>\n",
       "      <td>1.0</td>\n",
       "      <td>0.0</td>\n",
       "      <td>0.0</td>\n",
       "      <td>0.0</td>\n",
       "      <td>0.0</td>\n",
       "      <td>0.0</td>\n",
       "      <td>0.0</td>\n",
       "      <td>0.0</td>\n",
       "    </tr>\n",
       "    <tr>\n",
       "      <th>3</th>\n",
       "      <td>100008</td>\n",
       "      <td>0.0</td>\n",
       "      <td>0</td>\n",
       "      <td>M</td>\n",
       "      <td>1780.0</td>\n",
       "      <td>0.0</td>\n",
       "      <td>1.0</td>\n",
       "      <td>0.0</td>\n",
       "      <td>0.0</td>\n",
       "      <td>0.0</td>\n",
       "      <td>0.0</td>\n",
       "      <td>0.0</td>\n",
       "      <td>0.0</td>\n",
       "      <td>0.0</td>\n",
       "      <td>0.0</td>\n",
       "      <td>0.0</td>\n",
       "    </tr>\n",
       "    <tr>\n",
       "      <th>4</th>\n",
       "      <td>100009</td>\n",
       "      <td>0.0</td>\n",
       "      <td>0</td>\n",
       "      <td>F</td>\n",
       "      <td>1020.0</td>\n",
       "      <td>0.0</td>\n",
       "      <td>0.0</td>\n",
       "      <td>0.0</td>\n",
       "      <td>1.0</td>\n",
       "      <td>0.0</td>\n",
       "      <td>0.0</td>\n",
       "      <td>0.0</td>\n",
       "      <td>0.0</td>\n",
       "      <td>0.0</td>\n",
       "      <td>0.0</td>\n",
       "      <td>0.0</td>\n",
       "    </tr>\n",
       "  </tbody>\n",
       "</table>\n",
       "</div>"
      ],
      "text/plain": [
       "   donorID  amount  target gender  zipcode  Is__French  \\\n",
       "0   100001     0.0       0      M   1861.0         0.0   \n",
       "1   100002     0.0       0      M   2260.0         1.0   \n",
       "2   100004     0.0       0      M   1020.0         0.0   \n",
       "3   100008     0.0       0      M   1780.0         0.0   \n",
       "4   100009     0.0       0      F   1020.0         0.0   \n",
       "\n",
       "   Is_in__Brabant Flamand  Is_in__Brabant Wallon  Is_in__Bruxelles  \\\n",
       "0                     1.0                    0.0               0.0   \n",
       "1                     0.0                    0.0               0.0   \n",
       "2                     0.0                    0.0               1.0   \n",
       "3                     1.0                    0.0               0.0   \n",
       "4                     0.0                    0.0               1.0   \n",
       "\n",
       "   Is_in__Flandre-Occidentale  Is_in__Flandre-Orientale  Is_in__Hainaut  \\\n",
       "0                         0.0                       0.0             0.0   \n",
       "1                         0.0                       0.0             0.0   \n",
       "2                         0.0                       0.0             0.0   \n",
       "3                         0.0                       0.0             0.0   \n",
       "4                         0.0                       0.0             0.0   \n",
       "\n",
       "   Is_in__Limbourg  Is_in__Liège  Is_in__Luxembourg  Is_in__Namur  \n",
       "0              0.0           0.0                0.0           0.0  \n",
       "1              0.0           0.0                0.0           0.0  \n",
       "2              0.0           0.0                0.0           0.0  \n",
       "3              0.0           0.0                0.0           0.0  \n",
       "4              0.0           0.0                0.0           0.0  "
      ]
     },
     "execution_count": 95,
     "metadata": {},
     "output_type": "execute_result"
    }
   ],
   "source": [
    "trainingSetFinal.head()"
   ]
  },
  {
   "cell_type": "code",
   "execution_count": 96,
   "metadata": {},
   "outputs": [
    {
     "name": "stdout",
     "output_type": "stream",
     "text": [
      "<class 'pandas.core.frame.DataFrame'>\n",
      "Int64Index: 34917 entries, 0 to 34916\n",
      "Data columns (total 16 columns):\n",
      "donorID                       34917 non-null int64\n",
      "amount                        34917 non-null float64\n",
      "target                        34917 non-null int32\n",
      "gender                        34914 non-null object\n",
      "zipcode                       34914 non-null float64\n",
      "Is__French                    34914 non-null float64\n",
      "Is_in__Brabant Flamand        34914 non-null float64\n",
      "Is_in__Brabant Wallon         34914 non-null float64\n",
      "Is_in__Bruxelles              34914 non-null float64\n",
      "Is_in__Flandre-Occidentale    34914 non-null float64\n",
      "Is_in__Flandre-Orientale      34914 non-null float64\n",
      "Is_in__Hainaut                34914 non-null float64\n",
      "Is_in__Limbourg               34914 non-null float64\n",
      "Is_in__Liège                  34914 non-null float64\n",
      "Is_in__Luxembourg             34914 non-null float64\n",
      "Is_in__Namur                  34914 non-null float64\n",
      "dtypes: float64(13), int32(1), int64(1), object(1)\n",
      "memory usage: 4.4+ MB\n"
     ]
    }
   ],
   "source": [
    "trainingSetFinal.info()"
   ]
  },
  {
   "cell_type": "markdown",
   "metadata": {},
   "source": [
    "Then we do a left join on the trainingSetFinal that we've just created with features on donorID"
   ]
  },
  {
   "cell_type": "code",
   "execution_count": 97,
   "metadata": {},
   "outputs": [],
   "source": [
    "trainingSetFinal =  pd.merge(trainingSetFinal, features, how = \"left\",\n",
    "                            left_on = \"donorID\", right_on = \"donorID\")"
   ]
  },
  {
   "cell_type": "code",
   "execution_count": 98,
   "metadata": {},
   "outputs": [
    {
     "data": {
      "text/html": [
       "<div>\n",
       "<style scoped>\n",
       "    .dataframe tbody tr th:only-of-type {\n",
       "        vertical-align: middle;\n",
       "    }\n",
       "\n",
       "    .dataframe tbody tr th {\n",
       "        vertical-align: top;\n",
       "    }\n",
       "\n",
       "    .dataframe thead th {\n",
       "        text-align: right;\n",
       "    }\n",
       "</style>\n",
       "<table border=\"1\" class=\"dataframe\">\n",
       "  <thead>\n",
       "    <tr style=\"text-align: right;\">\n",
       "      <th></th>\n",
       "      <th>donorID</th>\n",
       "      <th>amount</th>\n",
       "      <th>target</th>\n",
       "      <th>gender</th>\n",
       "      <th>zipcode</th>\n",
       "      <th>Is__French</th>\n",
       "      <th>Is_in__Brabant Flamand</th>\n",
       "      <th>Is_in__Brabant Wallon</th>\n",
       "      <th>Is_in__Bruxelles</th>\n",
       "      <th>Is_in__Flandre-Occidentale</th>\n",
       "      <th>...</th>\n",
       "      <th>Is_in__Hainaut</th>\n",
       "      <th>Is_in__Limbourg</th>\n",
       "      <th>Is_in__Liège</th>\n",
       "      <th>Is_in__Luxembourg</th>\n",
       "      <th>Is_in__Namur</th>\n",
       "      <th>count</th>\n",
       "      <th>sum</th>\n",
       "      <th>mean</th>\n",
       "      <th>time_last_gave</th>\n",
       "      <th>targeted</th>\n",
       "    </tr>\n",
       "  </thead>\n",
       "  <tbody>\n",
       "    <tr>\n",
       "      <th>0</th>\n",
       "      <td>100001</td>\n",
       "      <td>0.0</td>\n",
       "      <td>0</td>\n",
       "      <td>M</td>\n",
       "      <td>1861.0</td>\n",
       "      <td>0.0</td>\n",
       "      <td>1.0</td>\n",
       "      <td>0.0</td>\n",
       "      <td>0.0</td>\n",
       "      <td>0.0</td>\n",
       "      <td>...</td>\n",
       "      <td>0.0</td>\n",
       "      <td>0.0</td>\n",
       "      <td>0.0</td>\n",
       "      <td>0.0</td>\n",
       "      <td>0.0</td>\n",
       "      <td>12.0</td>\n",
       "      <td>178.49</td>\n",
       "      <td>14.874167</td>\n",
       "      <td>4724.0</td>\n",
       "      <td>1.0</td>\n",
       "    </tr>\n",
       "    <tr>\n",
       "      <th>1</th>\n",
       "      <td>100002</td>\n",
       "      <td>0.0</td>\n",
       "      <td>0</td>\n",
       "      <td>M</td>\n",
       "      <td>2260.0</td>\n",
       "      <td>1.0</td>\n",
       "      <td>0.0</td>\n",
       "      <td>0.0</td>\n",
       "      <td>0.0</td>\n",
       "      <td>0.0</td>\n",
       "      <td>...</td>\n",
       "      <td>0.0</td>\n",
       "      <td>0.0</td>\n",
       "      <td>0.0</td>\n",
       "      <td>0.0</td>\n",
       "      <td>0.0</td>\n",
       "      <td>1.0</td>\n",
       "      <td>20.00</td>\n",
       "      <td>20.000000</td>\n",
       "      <td>3368.0</td>\n",
       "      <td>1.0</td>\n",
       "    </tr>\n",
       "    <tr>\n",
       "      <th>2</th>\n",
       "      <td>100004</td>\n",
       "      <td>0.0</td>\n",
       "      <td>0</td>\n",
       "      <td>M</td>\n",
       "      <td>1020.0</td>\n",
       "      <td>0.0</td>\n",
       "      <td>0.0</td>\n",
       "      <td>0.0</td>\n",
       "      <td>1.0</td>\n",
       "      <td>0.0</td>\n",
       "      <td>...</td>\n",
       "      <td>0.0</td>\n",
       "      <td>0.0</td>\n",
       "      <td>0.0</td>\n",
       "      <td>0.0</td>\n",
       "      <td>0.0</td>\n",
       "      <td>26.0</td>\n",
       "      <td>716.22</td>\n",
       "      <td>27.546923</td>\n",
       "      <td>5088.0</td>\n",
       "      <td>1.0</td>\n",
       "    </tr>\n",
       "    <tr>\n",
       "      <th>3</th>\n",
       "      <td>100008</td>\n",
       "      <td>0.0</td>\n",
       "      <td>0</td>\n",
       "      <td>M</td>\n",
       "      <td>1780.0</td>\n",
       "      <td>0.0</td>\n",
       "      <td>1.0</td>\n",
       "      <td>0.0</td>\n",
       "      <td>0.0</td>\n",
       "      <td>0.0</td>\n",
       "      <td>...</td>\n",
       "      <td>0.0</td>\n",
       "      <td>0.0</td>\n",
       "      <td>0.0</td>\n",
       "      <td>0.0</td>\n",
       "      <td>0.0</td>\n",
       "      <td>3.0</td>\n",
       "      <td>124.37</td>\n",
       "      <td>41.456667</td>\n",
       "      <td>4868.0</td>\n",
       "      <td>1.0</td>\n",
       "    </tr>\n",
       "    <tr>\n",
       "      <th>4</th>\n",
       "      <td>100009</td>\n",
       "      <td>0.0</td>\n",
       "      <td>0</td>\n",
       "      <td>F</td>\n",
       "      <td>1020.0</td>\n",
       "      <td>0.0</td>\n",
       "      <td>0.0</td>\n",
       "      <td>0.0</td>\n",
       "      <td>1.0</td>\n",
       "      <td>0.0</td>\n",
       "      <td>...</td>\n",
       "      <td>0.0</td>\n",
       "      <td>0.0</td>\n",
       "      <td>0.0</td>\n",
       "      <td>0.0</td>\n",
       "      <td>0.0</td>\n",
       "      <td>19.0</td>\n",
       "      <td>326.78</td>\n",
       "      <td>17.198947</td>\n",
       "      <td>4616.0</td>\n",
       "      <td>1.0</td>\n",
       "    </tr>\n",
       "  </tbody>\n",
       "</table>\n",
       "<p>5 rows × 21 columns</p>\n",
       "</div>"
      ],
      "text/plain": [
       "   donorID  amount  target gender  zipcode  Is__French  \\\n",
       "0   100001     0.0       0      M   1861.0         0.0   \n",
       "1   100002     0.0       0      M   2260.0         1.0   \n",
       "2   100004     0.0       0      M   1020.0         0.0   \n",
       "3   100008     0.0       0      M   1780.0         0.0   \n",
       "4   100009     0.0       0      F   1020.0         0.0   \n",
       "\n",
       "   Is_in__Brabant Flamand  Is_in__Brabant Wallon  Is_in__Bruxelles  \\\n",
       "0                     1.0                    0.0               0.0   \n",
       "1                     0.0                    0.0               0.0   \n",
       "2                     0.0                    0.0               1.0   \n",
       "3                     1.0                    0.0               0.0   \n",
       "4                     0.0                    0.0               1.0   \n",
       "\n",
       "   Is_in__Flandre-Occidentale  ...  Is_in__Hainaut  Is_in__Limbourg  \\\n",
       "0                         0.0  ...             0.0              0.0   \n",
       "1                         0.0  ...             0.0              0.0   \n",
       "2                         0.0  ...             0.0              0.0   \n",
       "3                         0.0  ...             0.0              0.0   \n",
       "4                         0.0  ...             0.0              0.0   \n",
       "\n",
       "   Is_in__Liège  Is_in__Luxembourg  Is_in__Namur  count     sum       mean  \\\n",
       "0           0.0                0.0           0.0   12.0  178.49  14.874167   \n",
       "1           0.0                0.0           0.0    1.0   20.00  20.000000   \n",
       "2           0.0                0.0           0.0   26.0  716.22  27.546923   \n",
       "3           0.0                0.0           0.0    3.0  124.37  41.456667   \n",
       "4           0.0                0.0           0.0   19.0  326.78  17.198947   \n",
       "\n",
       "   time_last_gave  targeted  \n",
       "0          4724.0       1.0  \n",
       "1          3368.0       1.0  \n",
       "2          5088.0       1.0  \n",
       "3          4868.0       1.0  \n",
       "4          4616.0       1.0  \n",
       "\n",
       "[5 rows x 21 columns]"
      ]
     },
     "execution_count": 98,
     "metadata": {},
     "output_type": "execute_result"
    }
   ],
   "source": [
    "trainingSetFinal.head()"
   ]
  },
  {
   "cell_type": "code",
   "execution_count": 99,
   "metadata": {},
   "outputs": [
    {
     "name": "stdout",
     "output_type": "stream",
     "text": [
      "<class 'pandas.core.frame.DataFrame'>\n",
      "Int64Index: 34917 entries, 0 to 34916\n",
      "Data columns (total 21 columns):\n",
      "donorID                       34917 non-null int64\n",
      "amount                        34917 non-null float64\n",
      "target                        34917 non-null int32\n",
      "gender                        34914 non-null object\n",
      "zipcode                       34914 non-null float64\n",
      "Is__French                    34914 non-null float64\n",
      "Is_in__Brabant Flamand        34914 non-null float64\n",
      "Is_in__Brabant Wallon         34914 non-null float64\n",
      "Is_in__Bruxelles              34914 non-null float64\n",
      "Is_in__Flandre-Occidentale    34914 non-null float64\n",
      "Is_in__Flandre-Orientale      34914 non-null float64\n",
      "Is_in__Hainaut                34914 non-null float64\n",
      "Is_in__Limbourg               34914 non-null float64\n",
      "Is_in__Liège                  34914 non-null float64\n",
      "Is_in__Luxembourg             34914 non-null float64\n",
      "Is_in__Namur                  34914 non-null float64\n",
      "count                         34912 non-null float64\n",
      "sum                           34912 non-null float64\n",
      "mean                          34912 non-null float64\n",
      "time_last_gave                34912 non-null float64\n",
      "targeted                      34912 non-null float64\n",
      "dtypes: float64(18), int32(1), int64(1), object(1)\n",
      "memory usage: 5.7+ MB\n"
     ]
    },
    {
     "data": {
      "text/html": [
       "<div>\n",
       "<style scoped>\n",
       "    .dataframe tbody tr th:only-of-type {\n",
       "        vertical-align: middle;\n",
       "    }\n",
       "\n",
       "    .dataframe tbody tr th {\n",
       "        vertical-align: top;\n",
       "    }\n",
       "\n",
       "    .dataframe thead th {\n",
       "        text-align: right;\n",
       "    }\n",
       "</style>\n",
       "<table border=\"1\" class=\"dataframe\">\n",
       "  <thead>\n",
       "    <tr style=\"text-align: right;\">\n",
       "      <th></th>\n",
       "      <th>donorID</th>\n",
       "      <th>amount</th>\n",
       "      <th>target</th>\n",
       "      <th>gender</th>\n",
       "      <th>zipcode</th>\n",
       "      <th>Is__French</th>\n",
       "      <th>Is_in__Brabant Flamand</th>\n",
       "      <th>Is_in__Brabant Wallon</th>\n",
       "      <th>Is_in__Bruxelles</th>\n",
       "      <th>Is_in__Flandre-Occidentale</th>\n",
       "      <th>...</th>\n",
       "      <th>Is_in__Hainaut</th>\n",
       "      <th>Is_in__Limbourg</th>\n",
       "      <th>Is_in__Liège</th>\n",
       "      <th>Is_in__Luxembourg</th>\n",
       "      <th>Is_in__Namur</th>\n",
       "      <th>count</th>\n",
       "      <th>sum</th>\n",
       "      <th>mean</th>\n",
       "      <th>time_last_gave</th>\n",
       "      <th>targeted</th>\n",
       "    </tr>\n",
       "  </thead>\n",
       "  <tbody>\n",
       "  </tbody>\n",
       "</table>\n",
       "<p>0 rows × 21 columns</p>\n",
       "</div>"
      ],
      "text/plain": [
       "Empty DataFrame\n",
       "Columns: [donorID, amount, target, gender, zipcode, Is__French, Is_in__Brabant Flamand, Is_in__Brabant Wallon, Is_in__Bruxelles, Is_in__Flandre-Occidentale, Is_in__Flandre-Orientale, Is_in__Hainaut, Is_in__Limbourg, Is_in__Liège, Is_in__Luxembourg, Is_in__Namur, count, sum, mean, time_last_gave, targeted]\n",
       "Index: []\n",
       "\n",
       "[0 rows x 21 columns]"
      ]
     },
     "execution_count": 99,
     "metadata": {},
     "output_type": "execute_result"
    }
   ],
   "source": [
    "trainingSetFinal.info()\n",
    "trainingSetFinal[trainingSetFinal[\"mean\"].astype(str)==\"None\"]"
   ]
  },
  {
   "cell_type": "markdown",
   "metadata": {},
   "source": [
    "Now, we do the same for the testSet"
   ]
  },
  {
   "cell_type": "code",
   "execution_count": 100,
   "metadata": {},
   "outputs": [],
   "source": [
    "testSetFinal =  pd.merge(testSet, donors2, how = \"left\",\n",
    "                            left_on = \"donorID\", right_on = \"donorID\")"
   ]
  },
  {
   "cell_type": "code",
   "execution_count": 101,
   "metadata": {},
   "outputs": [
    {
     "data": {
      "text/html": [
       "<div>\n",
       "<style scoped>\n",
       "    .dataframe tbody tr th:only-of-type {\n",
       "        vertical-align: middle;\n",
       "    }\n",
       "\n",
       "    .dataframe tbody tr th {\n",
       "        vertical-align: top;\n",
       "    }\n",
       "\n",
       "    .dataframe thead th {\n",
       "        text-align: right;\n",
       "    }\n",
       "</style>\n",
       "<table border=\"1\" class=\"dataframe\">\n",
       "  <thead>\n",
       "    <tr style=\"text-align: right;\">\n",
       "      <th></th>\n",
       "      <th>donorID</th>\n",
       "      <th>amount</th>\n",
       "      <th>target</th>\n",
       "      <th>gender</th>\n",
       "      <th>zipcode</th>\n",
       "      <th>Is__French</th>\n",
       "      <th>Is_in__Brabant Flamand</th>\n",
       "      <th>Is_in__Brabant Wallon</th>\n",
       "      <th>Is_in__Bruxelles</th>\n",
       "      <th>Is_in__Flandre-Occidentale</th>\n",
       "      <th>Is_in__Flandre-Orientale</th>\n",
       "      <th>Is_in__Hainaut</th>\n",
       "      <th>Is_in__Limbourg</th>\n",
       "      <th>Is_in__Liège</th>\n",
       "      <th>Is_in__Luxembourg</th>\n",
       "      <th>Is_in__Namur</th>\n",
       "    </tr>\n",
       "  </thead>\n",
       "  <tbody>\n",
       "    <tr>\n",
       "      <th>0</th>\n",
       "      <td>100001</td>\n",
       "      <td>0.0</td>\n",
       "      <td>0</td>\n",
       "      <td>M</td>\n",
       "      <td>1861.0</td>\n",
       "      <td>0.0</td>\n",
       "      <td>1.0</td>\n",
       "      <td>0.0</td>\n",
       "      <td>0.0</td>\n",
       "      <td>0.0</td>\n",
       "      <td>0.0</td>\n",
       "      <td>0.0</td>\n",
       "      <td>0.0</td>\n",
       "      <td>0.0</td>\n",
       "      <td>0.0</td>\n",
       "      <td>0.0</td>\n",
       "    </tr>\n",
       "    <tr>\n",
       "      <th>1</th>\n",
       "      <td>100002</td>\n",
       "      <td>0.0</td>\n",
       "      <td>0</td>\n",
       "      <td>M</td>\n",
       "      <td>2260.0</td>\n",
       "      <td>1.0</td>\n",
       "      <td>0.0</td>\n",
       "      <td>0.0</td>\n",
       "      <td>0.0</td>\n",
       "      <td>0.0</td>\n",
       "      <td>0.0</td>\n",
       "      <td>0.0</td>\n",
       "      <td>0.0</td>\n",
       "      <td>0.0</td>\n",
       "      <td>0.0</td>\n",
       "      <td>0.0</td>\n",
       "    </tr>\n",
       "    <tr>\n",
       "      <th>2</th>\n",
       "      <td>100008</td>\n",
       "      <td>0.0</td>\n",
       "      <td>0</td>\n",
       "      <td>M</td>\n",
       "      <td>1780.0</td>\n",
       "      <td>0.0</td>\n",
       "      <td>1.0</td>\n",
       "      <td>0.0</td>\n",
       "      <td>0.0</td>\n",
       "      <td>0.0</td>\n",
       "      <td>0.0</td>\n",
       "      <td>0.0</td>\n",
       "      <td>0.0</td>\n",
       "      <td>0.0</td>\n",
       "      <td>0.0</td>\n",
       "      <td>0.0</td>\n",
       "    </tr>\n",
       "    <tr>\n",
       "      <th>3</th>\n",
       "      <td>100009</td>\n",
       "      <td>0.0</td>\n",
       "      <td>0</td>\n",
       "      <td>F</td>\n",
       "      <td>1020.0</td>\n",
       "      <td>0.0</td>\n",
       "      <td>0.0</td>\n",
       "      <td>0.0</td>\n",
       "      <td>1.0</td>\n",
       "      <td>0.0</td>\n",
       "      <td>0.0</td>\n",
       "      <td>0.0</td>\n",
       "      <td>0.0</td>\n",
       "      <td>0.0</td>\n",
       "      <td>0.0</td>\n",
       "      <td>0.0</td>\n",
       "    </tr>\n",
       "    <tr>\n",
       "      <th>4</th>\n",
       "      <td>100010</td>\n",
       "      <td>0.0</td>\n",
       "      <td>0</td>\n",
       "      <td>C</td>\n",
       "      <td>1020.0</td>\n",
       "      <td>1.0</td>\n",
       "      <td>0.0</td>\n",
       "      <td>0.0</td>\n",
       "      <td>1.0</td>\n",
       "      <td>0.0</td>\n",
       "      <td>0.0</td>\n",
       "      <td>0.0</td>\n",
       "      <td>0.0</td>\n",
       "      <td>0.0</td>\n",
       "      <td>0.0</td>\n",
       "      <td>0.0</td>\n",
       "    </tr>\n",
       "  </tbody>\n",
       "</table>\n",
       "</div>"
      ],
      "text/plain": [
       "   donorID  amount  target gender  zipcode  Is__French  \\\n",
       "0   100001     0.0       0      M   1861.0         0.0   \n",
       "1   100002     0.0       0      M   2260.0         1.0   \n",
       "2   100008     0.0       0      M   1780.0         0.0   \n",
       "3   100009     0.0       0      F   1020.0         0.0   \n",
       "4   100010     0.0       0      C   1020.0         1.0   \n",
       "\n",
       "   Is_in__Brabant Flamand  Is_in__Brabant Wallon  Is_in__Bruxelles  \\\n",
       "0                     1.0                    0.0               0.0   \n",
       "1                     0.0                    0.0               0.0   \n",
       "2                     1.0                    0.0               0.0   \n",
       "3                     0.0                    0.0               1.0   \n",
       "4                     0.0                    0.0               1.0   \n",
       "\n",
       "   Is_in__Flandre-Occidentale  Is_in__Flandre-Orientale  Is_in__Hainaut  \\\n",
       "0                         0.0                       0.0             0.0   \n",
       "1                         0.0                       0.0             0.0   \n",
       "2                         0.0                       0.0             0.0   \n",
       "3                         0.0                       0.0             0.0   \n",
       "4                         0.0                       0.0             0.0   \n",
       "\n",
       "   Is_in__Limbourg  Is_in__Liège  Is_in__Luxembourg  Is_in__Namur  \n",
       "0              0.0           0.0                0.0           0.0  \n",
       "1              0.0           0.0                0.0           0.0  \n",
       "2              0.0           0.0                0.0           0.0  \n",
       "3              0.0           0.0                0.0           0.0  \n",
       "4              0.0           0.0                0.0           0.0  "
      ]
     },
     "execution_count": 101,
     "metadata": {},
     "output_type": "execute_result"
    }
   ],
   "source": [
    "testSetFinal.head()"
   ]
  },
  {
   "cell_type": "code",
   "execution_count": 102,
   "metadata": {},
   "outputs": [
    {
     "name": "stdout",
     "output_type": "stream",
     "text": [
      "<class 'pandas.core.frame.DataFrame'>\n",
      "Int64Index: 25645 entries, 0 to 25644\n",
      "Data columns (total 16 columns):\n",
      "donorID                       25645 non-null int64\n",
      "amount                        25645 non-null float64\n",
      "target                        25645 non-null int32\n",
      "gender                        25644 non-null object\n",
      "zipcode                       25644 non-null float64\n",
      "Is__French                    25644 non-null float64\n",
      "Is_in__Brabant Flamand        25644 non-null float64\n",
      "Is_in__Brabant Wallon         25644 non-null float64\n",
      "Is_in__Bruxelles              25644 non-null float64\n",
      "Is_in__Flandre-Occidentale    25644 non-null float64\n",
      "Is_in__Flandre-Orientale      25644 non-null float64\n",
      "Is_in__Hainaut                25644 non-null float64\n",
      "Is_in__Limbourg               25644 non-null float64\n",
      "Is_in__Liège                  25644 non-null float64\n",
      "Is_in__Luxembourg             25644 non-null float64\n",
      "Is_in__Namur                  25644 non-null float64\n",
      "dtypes: float64(13), int32(1), int64(1), object(1)\n",
      "memory usage: 3.2+ MB\n"
     ]
    }
   ],
   "source": [
    "testSetFinal.info()"
   ]
  },
  {
   "cell_type": "markdown",
   "metadata": {},
   "source": [
    "And now we do again a left join for testSetFinal on features"
   ]
  },
  {
   "cell_type": "code",
   "execution_count": 103,
   "metadata": {},
   "outputs": [],
   "source": [
    "testSetFinal =  pd.merge(testSetFinal, features, how = \"left\",\n",
    "                            left_on = \"donorID\", right_on = \"donorID\")"
   ]
  },
  {
   "cell_type": "code",
   "execution_count": 104,
   "metadata": {},
   "outputs": [
    {
     "data": {
      "text/html": [
       "<div>\n",
       "<style scoped>\n",
       "    .dataframe tbody tr th:only-of-type {\n",
       "        vertical-align: middle;\n",
       "    }\n",
       "\n",
       "    .dataframe tbody tr th {\n",
       "        vertical-align: top;\n",
       "    }\n",
       "\n",
       "    .dataframe thead th {\n",
       "        text-align: right;\n",
       "    }\n",
       "</style>\n",
       "<table border=\"1\" class=\"dataframe\">\n",
       "  <thead>\n",
       "    <tr style=\"text-align: right;\">\n",
       "      <th></th>\n",
       "      <th>donorID</th>\n",
       "      <th>amount</th>\n",
       "      <th>target</th>\n",
       "      <th>gender</th>\n",
       "      <th>zipcode</th>\n",
       "      <th>Is__French</th>\n",
       "      <th>Is_in__Brabant Flamand</th>\n",
       "      <th>Is_in__Brabant Wallon</th>\n",
       "      <th>Is_in__Bruxelles</th>\n",
       "      <th>Is_in__Flandre-Occidentale</th>\n",
       "      <th>...</th>\n",
       "      <th>Is_in__Hainaut</th>\n",
       "      <th>Is_in__Limbourg</th>\n",
       "      <th>Is_in__Liège</th>\n",
       "      <th>Is_in__Luxembourg</th>\n",
       "      <th>Is_in__Namur</th>\n",
       "      <th>count</th>\n",
       "      <th>sum</th>\n",
       "      <th>mean</th>\n",
       "      <th>time_last_gave</th>\n",
       "      <th>targeted</th>\n",
       "    </tr>\n",
       "  </thead>\n",
       "  <tbody>\n",
       "    <tr>\n",
       "      <th>0</th>\n",
       "      <td>100001</td>\n",
       "      <td>0.0</td>\n",
       "      <td>0</td>\n",
       "      <td>M</td>\n",
       "      <td>1861.0</td>\n",
       "      <td>0.0</td>\n",
       "      <td>1.0</td>\n",
       "      <td>0.0</td>\n",
       "      <td>0.0</td>\n",
       "      <td>0.0</td>\n",
       "      <td>...</td>\n",
       "      <td>0.0</td>\n",
       "      <td>0.0</td>\n",
       "      <td>0.0</td>\n",
       "      <td>0.0</td>\n",
       "      <td>0.0</td>\n",
       "      <td>12.0</td>\n",
       "      <td>178.49</td>\n",
       "      <td>14.874167</td>\n",
       "      <td>4724.0</td>\n",
       "      <td>1.0</td>\n",
       "    </tr>\n",
       "    <tr>\n",
       "      <th>1</th>\n",
       "      <td>100002</td>\n",
       "      <td>0.0</td>\n",
       "      <td>0</td>\n",
       "      <td>M</td>\n",
       "      <td>2260.0</td>\n",
       "      <td>1.0</td>\n",
       "      <td>0.0</td>\n",
       "      <td>0.0</td>\n",
       "      <td>0.0</td>\n",
       "      <td>0.0</td>\n",
       "      <td>...</td>\n",
       "      <td>0.0</td>\n",
       "      <td>0.0</td>\n",
       "      <td>0.0</td>\n",
       "      <td>0.0</td>\n",
       "      <td>0.0</td>\n",
       "      <td>1.0</td>\n",
       "      <td>20.00</td>\n",
       "      <td>20.000000</td>\n",
       "      <td>3368.0</td>\n",
       "      <td>1.0</td>\n",
       "    </tr>\n",
       "    <tr>\n",
       "      <th>2</th>\n",
       "      <td>100008</td>\n",
       "      <td>0.0</td>\n",
       "      <td>0</td>\n",
       "      <td>M</td>\n",
       "      <td>1780.0</td>\n",
       "      <td>0.0</td>\n",
       "      <td>1.0</td>\n",
       "      <td>0.0</td>\n",
       "      <td>0.0</td>\n",
       "      <td>0.0</td>\n",
       "      <td>...</td>\n",
       "      <td>0.0</td>\n",
       "      <td>0.0</td>\n",
       "      <td>0.0</td>\n",
       "      <td>0.0</td>\n",
       "      <td>0.0</td>\n",
       "      <td>3.0</td>\n",
       "      <td>124.37</td>\n",
       "      <td>41.456667</td>\n",
       "      <td>4868.0</td>\n",
       "      <td>1.0</td>\n",
       "    </tr>\n",
       "    <tr>\n",
       "      <th>3</th>\n",
       "      <td>100009</td>\n",
       "      <td>0.0</td>\n",
       "      <td>0</td>\n",
       "      <td>F</td>\n",
       "      <td>1020.0</td>\n",
       "      <td>0.0</td>\n",
       "      <td>0.0</td>\n",
       "      <td>0.0</td>\n",
       "      <td>1.0</td>\n",
       "      <td>0.0</td>\n",
       "      <td>...</td>\n",
       "      <td>0.0</td>\n",
       "      <td>0.0</td>\n",
       "      <td>0.0</td>\n",
       "      <td>0.0</td>\n",
       "      <td>0.0</td>\n",
       "      <td>19.0</td>\n",
       "      <td>326.78</td>\n",
       "      <td>17.198947</td>\n",
       "      <td>4616.0</td>\n",
       "      <td>1.0</td>\n",
       "    </tr>\n",
       "    <tr>\n",
       "      <th>4</th>\n",
       "      <td>100010</td>\n",
       "      <td>0.0</td>\n",
       "      <td>0</td>\n",
       "      <td>C</td>\n",
       "      <td>1020.0</td>\n",
       "      <td>1.0</td>\n",
       "      <td>0.0</td>\n",
       "      <td>0.0</td>\n",
       "      <td>1.0</td>\n",
       "      <td>0.0</td>\n",
       "      <td>...</td>\n",
       "      <td>0.0</td>\n",
       "      <td>0.0</td>\n",
       "      <td>0.0</td>\n",
       "      <td>0.0</td>\n",
       "      <td>0.0</td>\n",
       "      <td>1.0</td>\n",
       "      <td>40.00</td>\n",
       "      <td>40.000000</td>\n",
       "      <td>3430.0</td>\n",
       "      <td>1.0</td>\n",
       "    </tr>\n",
       "  </tbody>\n",
       "</table>\n",
       "<p>5 rows × 21 columns</p>\n",
       "</div>"
      ],
      "text/plain": [
       "   donorID  amount  target gender  zipcode  Is__French  \\\n",
       "0   100001     0.0       0      M   1861.0         0.0   \n",
       "1   100002     0.0       0      M   2260.0         1.0   \n",
       "2   100008     0.0       0      M   1780.0         0.0   \n",
       "3   100009     0.0       0      F   1020.0         0.0   \n",
       "4   100010     0.0       0      C   1020.0         1.0   \n",
       "\n",
       "   Is_in__Brabant Flamand  Is_in__Brabant Wallon  Is_in__Bruxelles  \\\n",
       "0                     1.0                    0.0               0.0   \n",
       "1                     0.0                    0.0               0.0   \n",
       "2                     1.0                    0.0               0.0   \n",
       "3                     0.0                    0.0               1.0   \n",
       "4                     0.0                    0.0               1.0   \n",
       "\n",
       "   Is_in__Flandre-Occidentale  ...  Is_in__Hainaut  Is_in__Limbourg  \\\n",
       "0                         0.0  ...             0.0              0.0   \n",
       "1                         0.0  ...             0.0              0.0   \n",
       "2                         0.0  ...             0.0              0.0   \n",
       "3                         0.0  ...             0.0              0.0   \n",
       "4                         0.0  ...             0.0              0.0   \n",
       "\n",
       "   Is_in__Liège  Is_in__Luxembourg  Is_in__Namur  count     sum       mean  \\\n",
       "0           0.0                0.0           0.0   12.0  178.49  14.874167   \n",
       "1           0.0                0.0           0.0    1.0   20.00  20.000000   \n",
       "2           0.0                0.0           0.0    3.0  124.37  41.456667   \n",
       "3           0.0                0.0           0.0   19.0  326.78  17.198947   \n",
       "4           0.0                0.0           0.0    1.0   40.00  40.000000   \n",
       "\n",
       "   time_last_gave  targeted  \n",
       "0          4724.0       1.0  \n",
       "1          3368.0       1.0  \n",
       "2          4868.0       1.0  \n",
       "3          4616.0       1.0  \n",
       "4          3430.0       1.0  \n",
       "\n",
       "[5 rows x 21 columns]"
      ]
     },
     "execution_count": 104,
     "metadata": {},
     "output_type": "execute_result"
    }
   ],
   "source": [
    "testSetFinal.head()"
   ]
  },
  {
   "cell_type": "code",
   "execution_count": 105,
   "metadata": {},
   "outputs": [
    {
     "name": "stdout",
     "output_type": "stream",
     "text": [
      "<class 'pandas.core.frame.DataFrame'>\n",
      "Int64Index: 25645 entries, 0 to 25644\n",
      "Data columns (total 21 columns):\n",
      "donorID                       25645 non-null int64\n",
      "amount                        25645 non-null float64\n",
      "target                        25645 non-null int32\n",
      "gender                        25644 non-null object\n",
      "zipcode                       25644 non-null float64\n",
      "Is__French                    25644 non-null float64\n",
      "Is_in__Brabant Flamand        25644 non-null float64\n",
      "Is_in__Brabant Wallon         25644 non-null float64\n",
      "Is_in__Bruxelles              25644 non-null float64\n",
      "Is_in__Flandre-Occidentale    25644 non-null float64\n",
      "Is_in__Flandre-Orientale      25644 non-null float64\n",
      "Is_in__Hainaut                25644 non-null float64\n",
      "Is_in__Limbourg               25644 non-null float64\n",
      "Is_in__Liège                  25644 non-null float64\n",
      "Is_in__Luxembourg             25644 non-null float64\n",
      "Is_in__Namur                  25644 non-null float64\n",
      "count                         25644 non-null float64\n",
      "sum                           25644 non-null float64\n",
      "mean                          25644 non-null float64\n",
      "time_last_gave                25644 non-null float64\n",
      "targeted                      25644 non-null float64\n",
      "dtypes: float64(18), int32(1), int64(1), object(1)\n",
      "memory usage: 4.2+ MB\n"
     ]
    }
   ],
   "source": [
    "testSetFinal.info()"
   ]
  },
  {
   "cell_type": "markdown",
   "metadata": {},
   "source": [
    "We check if there is some missing values due to the double join that we've done"
   ]
  },
  {
   "cell_type": "code",
   "execution_count": 106,
   "metadata": {},
   "outputs": [
    {
     "data": {
      "text/plain": [
       "donorID                       0\n",
       "amount                        0\n",
       "target                        0\n",
       "gender                        3\n",
       "zipcode                       3\n",
       "Is__French                    3\n",
       "Is_in__Brabant Flamand        3\n",
       "Is_in__Brabant Wallon         3\n",
       "Is_in__Bruxelles              3\n",
       "Is_in__Flandre-Occidentale    3\n",
       "Is_in__Flandre-Orientale      3\n",
       "Is_in__Hainaut                3\n",
       "Is_in__Limbourg               3\n",
       "Is_in__Liège                  3\n",
       "Is_in__Luxembourg             3\n",
       "Is_in__Namur                  3\n",
       "count                         5\n",
       "sum                           5\n",
       "mean                          5\n",
       "time_last_gave                5\n",
       "targeted                      5\n",
       "dtype: int64"
      ]
     },
     "execution_count": 106,
     "metadata": {},
     "output_type": "execute_result"
    }
   ],
   "source": [
    "trainingSetFinal.isna().sum()"
   ]
  },
  {
   "cell_type": "markdown",
   "metadata": {},
   "source": [
    "We replace the missing values with 0 to make sure that our alogirithms will be able to work"
   ]
  },
  {
   "cell_type": "code",
   "execution_count": 107,
   "metadata": {},
   "outputs": [],
   "source": [
    "trainingSetFinal = trainingSetFinal.replace({np.nan: 0})"
   ]
  },
  {
   "cell_type": "code",
   "execution_count": 136,
   "metadata": {},
   "outputs": [
    {
     "data": {
      "text/plain": [
       "donorID                       0\n",
       "amount                        0\n",
       "target                        0\n",
       "gender                        0\n",
       "zipcode                       0\n",
       "Is__French                    0\n",
       "Is_in__Brabant Flamand        0\n",
       "Is_in__Brabant Wallon         0\n",
       "Is_in__Bruxelles              0\n",
       "Is_in__Flandre-Occidentale    0\n",
       "Is_in__Flandre-Orientale      0\n",
       "Is_in__Hainaut                0\n",
       "Is_in__Limbourg               0\n",
       "Is_in__Liège                  0\n",
       "Is_in__Luxembourg             0\n",
       "Is_in__Namur                  0\n",
       "count                         0\n",
       "sum                           0\n",
       "mean                          0\n",
       "time_last_gave                0\n",
       "targeted                      0\n",
       "proba donate 35€              0\n",
       "dtype: int64"
      ]
     },
     "execution_count": 136,
     "metadata": {},
     "output_type": "execute_result"
    }
   ],
   "source": [
    "trainingSetFinal.isna().sum()"
   ]
  },
  {
   "cell_type": "markdown",
   "metadata": {},
   "source": [
    "We see that's fixed now"
   ]
  },
  {
   "cell_type": "code",
   "execution_count": 134,
   "metadata": {},
   "outputs": [
    {
     "data": {
      "text/plain": [
       "donorID                       0\n",
       "amount                        0\n",
       "target                        0\n",
       "gender                        0\n",
       "zipcode                       0\n",
       "Is__French                    0\n",
       "Is_in__Brabant Flamand        0\n",
       "Is_in__Brabant Wallon         0\n",
       "Is_in__Bruxelles              0\n",
       "Is_in__Flandre-Occidentale    0\n",
       "Is_in__Flandre-Orientale      0\n",
       "Is_in__Hainaut                0\n",
       "Is_in__Limbourg               0\n",
       "Is_in__Liège                  0\n",
       "Is_in__Luxembourg             0\n",
       "Is_in__Namur                  0\n",
       "count                         0\n",
       "sum                           0\n",
       "mean                          0\n",
       "time_last_gave                0\n",
       "targeted                      0\n",
       "proba donate 35€              0\n",
       "dtype: int64"
      ]
     },
     "execution_count": 134,
     "metadata": {},
     "output_type": "execute_result"
    }
   ],
   "source": [
    "testSetFinal.isna().sum()"
   ]
  },
  {
   "cell_type": "markdown",
   "metadata": {},
   "source": [
    "We do the same with the testSet"
   ]
  },
  {
   "cell_type": "code",
   "execution_count": 109,
   "metadata": {},
   "outputs": [],
   "source": [
    "testSetFinal = testSetFinal.replace({np.nan: 0})\n"
   ]
  },
  {
   "cell_type": "code",
   "execution_count": 135,
   "metadata": {},
   "outputs": [
    {
     "data": {
      "text/plain": [
       "donorID                       0\n",
       "amount                        0\n",
       "target                        0\n",
       "gender                        0\n",
       "zipcode                       0\n",
       "Is__French                    0\n",
       "Is_in__Brabant Flamand        0\n",
       "Is_in__Brabant Wallon         0\n",
       "Is_in__Bruxelles              0\n",
       "Is_in__Flandre-Occidentale    0\n",
       "Is_in__Flandre-Orientale      0\n",
       "Is_in__Hainaut                0\n",
       "Is_in__Limbourg               0\n",
       "Is_in__Liège                  0\n",
       "Is_in__Luxembourg             0\n",
       "Is_in__Namur                  0\n",
       "count                         0\n",
       "sum                           0\n",
       "mean                          0\n",
       "time_last_gave                0\n",
       "targeted                      0\n",
       "proba donate 35€              0\n",
       "dtype: int64"
      ]
     },
     "execution_count": 135,
     "metadata": {},
     "output_type": "execute_result"
    }
   ],
   "source": [
    "testSetFinal.isna().sum()"
   ]
  },
  {
   "cell_type": "markdown",
   "metadata": {},
   "source": [
    "And here it's fixed too"
   ]
  },
  {
   "cell_type": "markdown",
   "metadata": {},
   "source": [
    "## Model building"
   ]
  },
  {
   "cell_type": "markdown",
   "metadata": {},
   "source": [
    "#### We've now finished to clean & prepare the data, we're now going to build the model "
   ]
  },
  {
   "cell_type": "markdown",
   "metadata": {},
   "source": [
    "#### First, we will create an algorithm to select the relevant variable "
   ]
  },
  {
   "cell_type": "code",
   "execution_count": 116,
   "metadata": {},
   "outputs": [],
   "source": [
    "selectedFeatures = []\n",
    "target = \"target\"\n",
    "\n",
    "for col in trainingSetFinal.columns:\n",
    "        if col not in (\"donorID\", \"target\",\"gender\",\"amount\"):\n",
    "            selectedFeatures.append(col)"
   ]
  },
  {
   "cell_type": "code",
   "execution_count": 117,
   "metadata": {},
   "outputs": [
    {
     "name": "stdout",
     "output_type": "stream",
     "text": [
      "['zipcode', 'Is__French', 'Is_in__Brabant Flamand', 'Is_in__Brabant Wallon', 'Is_in__Bruxelles', 'Is_in__Flandre-Occidentale', 'Is_in__Flandre-Orientale', 'Is_in__Hainaut', 'Is_in__Limbourg', 'Is_in__Liège', 'Is_in__Luxembourg', 'Is_in__Namur', 'count', 'sum', 'mean', 'time_last_gave', 'targeted', 'proba donate 35€']\n"
     ]
    }
   ],
   "source": [
    "print(selectedFeatures)"
   ]
  },
  {
   "cell_type": "code",
   "execution_count": 118,
   "metadata": {},
   "outputs": [],
   "source": [
    "model = LogisticRegression(solver = \"lbfgs\", max_iter = 500)"
   ]
  },
  {
   "cell_type": "code",
   "execution_count": 119,
   "metadata": {},
   "outputs": [],
   "source": [
    "def stepwiseRegresion (trainingSet: pd.DataFrame, testSet: pd.DataFrame, selectedFeatures: [str], target: [str]) -> pd.DataFrame:\n",
    "\n",
    "    def computeAUC (forFeatures: [str]) -> ([str],float,float):\n",
    "    \n",
    "        model.fit(trainingSet[forFeatures], trainingSet[target])\n",
    "\n",
    "        trainingSetFinal[\"proba donate 35€\"] = pd.DataFrame(model.predict_proba(trainingSetFinal[forFeatures]))[1]\n",
    "        testSetFinal[\"proba donate 35€\"]     = pd.DataFrame(model.predict_proba(testSetFinal[forFeatures]))[1]\n",
    "\n",
    "        aucTraining = roc_auc_score(pd.array(trainingSetFinal[target]),pd.array(trainingSetFinal[\"proba donate 35€\"]))\n",
    "        aucTest     = roc_auc_score(pd.array(testSetFinal[target]),pd.array(testSetFinal[\"proba donate 35€\"]))\n",
    "\n",
    "        trainingSetFinal.drop(\"proba donate 35€\", axis = 1)\n",
    "        testSetFinal.drop(\"proba donate 35€\", axis = 1)\n",
    "\n",
    "        return (forFeatures,aucTraining,aucTest)\n",
    "\n",
    "    featuresOrder = []\n",
    "    forwardSelection = []\n",
    "\n",
    "    for step in range(len(selectedFeatures)):\n",
    "        print(f\"step {step+1}\")\n",
    "        aucs = []\n",
    "        for feature in selectedFeatures:\n",
    "            if feature not in featuresOrder:\n",
    "                modelFeatures = featuresOrder.copy()\n",
    "                modelFeatures.append(feature)\n",
    "                aucs.append(computeAUC(forFeatures = modelFeatures))\n",
    "\n",
    "        steps = pd.DataFrame(aucs)\n",
    "        steps.columns = [\"Feature\",\"AUC training\", \"AUC test\"]\n",
    "        steps = steps.sort_values(by=[\"AUC test\"], ascending = False)\n",
    "\n",
    "        featuresOrder = steps[\"Feature\"].iloc[0]\n",
    "        forwardSelection.append((step+1, steps[\"Feature\"].iloc[0],steps[\"AUC training\"].iloc[0],steps[\"AUC test\"].iloc[0]))\n",
    "\n",
    "    df = pd.DataFrame(forwardSelection)\n",
    "    df.columns = (\"Step\",\"Features\",\"AUC Train\",\"AUC Test\")\n",
    "    \n",
    "    return df"
   ]
  },
  {
   "cell_type": "code",
   "execution_count": 120,
   "metadata": {
    "scrolled": true
   },
   "outputs": [
    {
     "name": "stdout",
     "output_type": "stream",
     "text": [
      "step 1\n",
      "step 2\n",
      "step 3\n",
      "step 4\n",
      "step 5\n",
      "step 6\n",
      "step 7\n",
      "step 8\n",
      "step 9\n",
      "step 10\n",
      "step 11\n",
      "step 12\n",
      "step 13\n",
      "step 14\n",
      "step 15\n",
      "step 16\n",
      "step 17\n",
      "step 18\n"
     ]
    }
   ],
   "source": [
    "forwardSelection = stepwiseRegresion(trainingSet      = trainingSetFinal, \n",
    "                                     testSet          = testSetFinal, \n",
    "                                     selectedFeatures = selectedFeatures,\n",
    "                                     target           = target)\n"
   ]
  },
  {
   "cell_type": "code",
   "execution_count": 123,
   "metadata": {},
   "outputs": [],
   "source": [
    "SortonTrain = forwardSelection.sort_values(by=['AUC Train'],ascending=False)\n"
   ]
  },
  {
   "cell_type": "code",
   "execution_count": 124,
   "metadata": {},
   "outputs": [
    {
     "data": {
      "text/html": [
       "<div>\n",
       "<style scoped>\n",
       "    .dataframe tbody tr th:only-of-type {\n",
       "        vertical-align: middle;\n",
       "    }\n",
       "\n",
       "    .dataframe tbody tr th {\n",
       "        vertical-align: top;\n",
       "    }\n",
       "\n",
       "    .dataframe thead th {\n",
       "        text-align: right;\n",
       "    }\n",
       "</style>\n",
       "<table border=\"1\" class=\"dataframe\">\n",
       "  <thead>\n",
       "    <tr style=\"text-align: right;\">\n",
       "      <th></th>\n",
       "      <th>Step</th>\n",
       "      <th>Features</th>\n",
       "      <th>AUC Train</th>\n",
       "      <th>AUC Test</th>\n",
       "    </tr>\n",
       "  </thead>\n",
       "  <tbody>\n",
       "    <tr>\n",
       "      <th>17</th>\n",
       "      <td>18</td>\n",
       "      <td>[mean, Is_in__Bruxelles, targeted, Is_in__Brab...</td>\n",
       "      <td>0.744845</td>\n",
       "      <td>0.628391</td>\n",
       "    </tr>\n",
       "    <tr>\n",
       "      <th>16</th>\n",
       "      <td>17</td>\n",
       "      <td>[mean, Is_in__Bruxelles, targeted, Is_in__Brab...</td>\n",
       "      <td>0.744685</td>\n",
       "      <td>0.628747</td>\n",
       "    </tr>\n",
       "    <tr>\n",
       "      <th>14</th>\n",
       "      <td>15</td>\n",
       "      <td>[mean, Is_in__Bruxelles, targeted, Is_in__Brab...</td>\n",
       "      <td>0.744625</td>\n",
       "      <td>0.627996</td>\n",
       "    </tr>\n",
       "    <tr>\n",
       "      <th>15</th>\n",
       "      <td>16</td>\n",
       "      <td>[mean, Is_in__Bruxelles, targeted, Is_in__Brab...</td>\n",
       "      <td>0.744117</td>\n",
       "      <td>0.630867</td>\n",
       "    </tr>\n",
       "    <tr>\n",
       "      <th>12</th>\n",
       "      <td>13</td>\n",
       "      <td>[mean, Is_in__Bruxelles, targeted, Is_in__Brab...</td>\n",
       "      <td>0.698406</td>\n",
       "      <td>0.668656</td>\n",
       "    </tr>\n",
       "    <tr>\n",
       "      <th>3</th>\n",
       "      <td>4</td>\n",
       "      <td>[mean, Is_in__Bruxelles, targeted, Is_in__Brab...</td>\n",
       "      <td>0.689465</td>\n",
       "      <td>0.679987</td>\n",
       "    </tr>\n",
       "    <tr>\n",
       "      <th>4</th>\n",
       "      <td>5</td>\n",
       "      <td>[mean, Is_in__Bruxelles, targeted, Is_in__Brab...</td>\n",
       "      <td>0.687273</td>\n",
       "      <td>0.681358</td>\n",
       "    </tr>\n",
       "    <tr>\n",
       "      <th>2</th>\n",
       "      <td>3</td>\n",
       "      <td>[mean, Is_in__Bruxelles, targeted]</td>\n",
       "      <td>0.686492</td>\n",
       "      <td>0.676768</td>\n",
       "    </tr>\n",
       "    <tr>\n",
       "      <th>0</th>\n",
       "      <td>1</td>\n",
       "      <td>[mean]</td>\n",
       "      <td>0.686084</td>\n",
       "      <td>0.662748</td>\n",
       "    </tr>\n",
       "    <tr>\n",
       "      <th>6</th>\n",
       "      <td>7</td>\n",
       "      <td>[mean, Is_in__Bruxelles, targeted, Is_in__Brab...</td>\n",
       "      <td>0.685659</td>\n",
       "      <td>0.677580</td>\n",
       "    </tr>\n",
       "  </tbody>\n",
       "</table>\n",
       "</div>"
      ],
      "text/plain": [
       "    Step                                           Features  AUC Train  \\\n",
       "17    18  [mean, Is_in__Bruxelles, targeted, Is_in__Brab...   0.744845   \n",
       "16    17  [mean, Is_in__Bruxelles, targeted, Is_in__Brab...   0.744685   \n",
       "14    15  [mean, Is_in__Bruxelles, targeted, Is_in__Brab...   0.744625   \n",
       "15    16  [mean, Is_in__Bruxelles, targeted, Is_in__Brab...   0.744117   \n",
       "12    13  [mean, Is_in__Bruxelles, targeted, Is_in__Brab...   0.698406   \n",
       "3      4  [mean, Is_in__Bruxelles, targeted, Is_in__Brab...   0.689465   \n",
       "4      5  [mean, Is_in__Bruxelles, targeted, Is_in__Brab...   0.687273   \n",
       "2      3                 [mean, Is_in__Bruxelles, targeted]   0.686492   \n",
       "0      1                                             [mean]   0.686084   \n",
       "6      7  [mean, Is_in__Bruxelles, targeted, Is_in__Brab...   0.685659   \n",
       "\n",
       "    AUC Test  \n",
       "17  0.628391  \n",
       "16  0.628747  \n",
       "14  0.627996  \n",
       "15  0.630867  \n",
       "12  0.668656  \n",
       "3   0.679987  \n",
       "4   0.681358  \n",
       "2   0.676768  \n",
       "0   0.662748  \n",
       "6   0.677580  "
      ]
     },
     "execution_count": 124,
     "metadata": {},
     "output_type": "execute_result"
    }
   ],
   "source": [
    "SortonTrain.head(10)"
   ]
  },
  {
   "cell_type": "code",
   "execution_count": 125,
   "metadata": {},
   "outputs": [],
   "source": [
    "SortonTest = forwardSelection.sort_values(by=['AUC Test'],ascending=False)\n"
   ]
  },
  {
   "cell_type": "code",
   "execution_count": 126,
   "metadata": {},
   "outputs": [
    {
     "data": {
      "text/html": [
       "<div>\n",
       "<style scoped>\n",
       "    .dataframe tbody tr th:only-of-type {\n",
       "        vertical-align: middle;\n",
       "    }\n",
       "\n",
       "    .dataframe tbody tr th {\n",
       "        vertical-align: top;\n",
       "    }\n",
       "\n",
       "    .dataframe thead th {\n",
       "        text-align: right;\n",
       "    }\n",
       "</style>\n",
       "<table border=\"1\" class=\"dataframe\">\n",
       "  <thead>\n",
       "    <tr style=\"text-align: right;\">\n",
       "      <th></th>\n",
       "      <th>Step</th>\n",
       "      <th>Features</th>\n",
       "      <th>AUC Train</th>\n",
       "      <th>AUC Test</th>\n",
       "    </tr>\n",
       "  </thead>\n",
       "  <tbody>\n",
       "    <tr>\n",
       "      <th>4</th>\n",
       "      <td>5</td>\n",
       "      <td>[mean, Is_in__Bruxelles, targeted, Is_in__Brab...</td>\n",
       "      <td>0.687273</td>\n",
       "      <td>0.681358</td>\n",
       "    </tr>\n",
       "    <tr>\n",
       "      <th>3</th>\n",
       "      <td>4</td>\n",
       "      <td>[mean, Is_in__Bruxelles, targeted, Is_in__Brab...</td>\n",
       "      <td>0.689465</td>\n",
       "      <td>0.679987</td>\n",
       "    </tr>\n",
       "    <tr>\n",
       "      <th>5</th>\n",
       "      <td>6</td>\n",
       "      <td>[mean, Is_in__Bruxelles, targeted, Is_in__Brab...</td>\n",
       "      <td>0.684420</td>\n",
       "      <td>0.678220</td>\n",
       "    </tr>\n",
       "    <tr>\n",
       "      <th>6</th>\n",
       "      <td>7</td>\n",
       "      <td>[mean, Is_in__Bruxelles, targeted, Is_in__Brab...</td>\n",
       "      <td>0.685659</td>\n",
       "      <td>0.677580</td>\n",
       "    </tr>\n",
       "    <tr>\n",
       "      <th>2</th>\n",
       "      <td>3</td>\n",
       "      <td>[mean, Is_in__Bruxelles, targeted]</td>\n",
       "      <td>0.686492</td>\n",
       "      <td>0.676768</td>\n",
       "    </tr>\n",
       "    <tr>\n",
       "      <th>7</th>\n",
       "      <td>8</td>\n",
       "      <td>[mean, Is_in__Bruxelles, targeted, Is_in__Brab...</td>\n",
       "      <td>0.682279</td>\n",
       "      <td>0.674114</td>\n",
       "    </tr>\n",
       "    <tr>\n",
       "      <th>1</th>\n",
       "      <td>2</td>\n",
       "      <td>[mean, Is_in__Bruxelles]</td>\n",
       "      <td>0.683032</td>\n",
       "      <td>0.673376</td>\n",
       "    </tr>\n",
       "    <tr>\n",
       "      <th>8</th>\n",
       "      <td>9</td>\n",
       "      <td>[mean, Is_in__Bruxelles, targeted, Is_in__Brab...</td>\n",
       "      <td>0.678701</td>\n",
       "      <td>0.670776</td>\n",
       "    </tr>\n",
       "    <tr>\n",
       "      <th>12</th>\n",
       "      <td>13</td>\n",
       "      <td>[mean, Is_in__Bruxelles, targeted, Is_in__Brab...</td>\n",
       "      <td>0.698406</td>\n",
       "      <td>0.668656</td>\n",
       "    </tr>\n",
       "    <tr>\n",
       "      <th>0</th>\n",
       "      <td>1</td>\n",
       "      <td>[mean]</td>\n",
       "      <td>0.686084</td>\n",
       "      <td>0.662748</td>\n",
       "    </tr>\n",
       "  </tbody>\n",
       "</table>\n",
       "</div>"
      ],
      "text/plain": [
       "    Step                                           Features  AUC Train  \\\n",
       "4      5  [mean, Is_in__Bruxelles, targeted, Is_in__Brab...   0.687273   \n",
       "3      4  [mean, Is_in__Bruxelles, targeted, Is_in__Brab...   0.689465   \n",
       "5      6  [mean, Is_in__Bruxelles, targeted, Is_in__Brab...   0.684420   \n",
       "6      7  [mean, Is_in__Bruxelles, targeted, Is_in__Brab...   0.685659   \n",
       "2      3                 [mean, Is_in__Bruxelles, targeted]   0.686492   \n",
       "7      8  [mean, Is_in__Bruxelles, targeted, Is_in__Brab...   0.682279   \n",
       "1      2                           [mean, Is_in__Bruxelles]   0.683032   \n",
       "8      9  [mean, Is_in__Bruxelles, targeted, Is_in__Brab...   0.678701   \n",
       "12    13  [mean, Is_in__Bruxelles, targeted, Is_in__Brab...   0.698406   \n",
       "0      1                                             [mean]   0.686084   \n",
       "\n",
       "    AUC Test  \n",
       "4   0.681358  \n",
       "3   0.679987  \n",
       "5   0.678220  \n",
       "6   0.677580  \n",
       "2   0.676768  \n",
       "7   0.674114  \n",
       "1   0.673376  \n",
       "8   0.670776  \n",
       "12  0.668656  \n",
       "0   0.662748  "
      ]
     },
     "execution_count": 126,
     "metadata": {},
     "output_type": "execute_result"
    }
   ],
   "source": [
    "SortonTest.head(10)"
   ]
  },
  {
   "cell_type": "markdown",
   "metadata": {},
   "source": [
    "#### Now, we will initate differents algorithms models and select the best one now that we've the features "
   ]
  },
  {
   "cell_type": "markdown",
   "metadata": {},
   "source": [
    "First, we need to create a validation set, to do this we use the stratified method"
   ]
  },
  {
   "cell_type": "code",
   "execution_count": null,
   "metadata": {},
   "outputs": [],
   "source": []
  },
  {
   "cell_type": "markdown",
   "metadata": {},
   "source": [
    "#### Now that we've the features and the target, we instanciate the models"
   ]
  },
  {
   "cell_type": "code",
   "execution_count": 138,
   "metadata": {},
   "outputs": [],
   "source": [
    "tree         = DecisionTreeClassifier()\n",
    "logistic     = LogisticRegression(solver = \"lbfgs\", max_iter = 500)\n",
    "randomForest = RandomForestClassifier(n_estimators = 100)\n",
    "boostedTree  = GradientBoostingClassifier()\n",
    "svm          = SVC(gamma = \"scale\", probability = True)\n",
    "neuralNet    = MLPClassifier()\n",
    "neighbors    = KNeighborsClassifier()"
   ]
  },
  {
   "cell_type": "code",
   "execution_count": 139,
   "metadata": {},
   "outputs": [],
   "source": [
    "models = {\"tree\"         :tree,\n",
    "          \"logistic\"     :logistic,\n",
    "          \"randomForest\" :randomForest,\n",
    "          \"boostedTree\"  :boostedTree,\n",
    "          \"svm\"          :svm,\n",
    "          \"neuralNet\"    :neuralNet,\n",
    "          \"neighbors\"    :neighbors\n",
    "         }"
   ]
  },
  {
   "cell_type": "markdown",
   "metadata": {},
   "source": [
    "#### We now train models on the trainingSet"
   ]
  },
  {
   "cell_type": "code",
   "execution_count": 143,
   "metadata": {},
   "outputs": [
    {
     "name": "stdout",
     "output_type": "stream",
     "text": [
      "tree has been trained successfully\n",
      "logistic has been trained successfully\n",
      "randomForest has been trained successfully\n",
      "boostedTree has been trained successfully\n",
      "svm has been trained successfully\n",
      "neuralNet has been trained successfully\n",
      "neighbors has been trained successfully\n"
     ]
    }
   ],
   "source": [
    "for model in models:\n",
    "    models[model].fit(trainingSetFinal[selectedFeatures],trainingSetFinal[target])\n",
    "    print(f\"{model} has been trained successfully\")"
   ]
  },
  {
   "cell_type": "code",
   "execution_count": 148,
   "metadata": {},
   "outputs": [],
   "source": [
    "performances = {}\n",
    "\n",
    "for model in models:\n",
    "    predictions   = models[model].predict(testSetFinal[selectedFeatures])\n",
    "    probabilities = pd.DataFrame(models[model].predict_proba(testSetFinal[selectedFeatures]))[1]\n",
    "    accuracy      = accuracy_score(testSetFinal[target],predictions)\n",
    "    auc           = roc_auc_score(pd.array(testSetFinal[target]),pd.array(probabilities))\n",
    "    \n",
    "    performances[model] = {\"Accuracy\":accuracy,\"AUC\":auc}"
   ]
  },
  {
   "cell_type": "code",
   "execution_count": 149,
   "metadata": {},
   "outputs": [
    {
     "data": {
      "text/html": [
       "<div>\n",
       "<style scoped>\n",
       "    .dataframe tbody tr th:only-of-type {\n",
       "        vertical-align: middle;\n",
       "    }\n",
       "\n",
       "    .dataframe tbody tr th {\n",
       "        vertical-align: top;\n",
       "    }\n",
       "\n",
       "    .dataframe thead th {\n",
       "        text-align: right;\n",
       "    }\n",
       "</style>\n",
       "<table border=\"1\" class=\"dataframe\">\n",
       "  <thead>\n",
       "    <tr style=\"text-align: right;\">\n",
       "      <th></th>\n",
       "      <th>tree</th>\n",
       "      <th>logistic</th>\n",
       "      <th>randomForest</th>\n",
       "      <th>boostedTree</th>\n",
       "      <th>svm</th>\n",
       "      <th>neuralNet</th>\n",
       "      <th>neighbors</th>\n",
       "    </tr>\n",
       "  </thead>\n",
       "  <tbody>\n",
       "    <tr>\n",
       "      <th>AUC</th>\n",
       "      <td>0.498980</td>\n",
       "      <td>0.628389</td>\n",
       "      <td>0.609375</td>\n",
       "      <td>0.720710</td>\n",
       "      <td>0.612044</td>\n",
       "      <td>0.524538</td>\n",
       "      <td>0.554858</td>\n",
       "    </tr>\n",
       "    <tr>\n",
       "      <th>Accuracy</th>\n",
       "      <td>0.992474</td>\n",
       "      <td>0.994073</td>\n",
       "      <td>0.993839</td>\n",
       "      <td>0.994034</td>\n",
       "      <td>0.994073</td>\n",
       "      <td>0.989589</td>\n",
       "      <td>0.993683</td>\n",
       "    </tr>\n",
       "  </tbody>\n",
       "</table>\n",
       "</div>"
      ],
      "text/plain": [
       "              tree  logistic  randomForest  boostedTree       svm  neuralNet  \\\n",
       "AUC       0.498980  0.628389      0.609375     0.720710  0.612044   0.524538   \n",
       "Accuracy  0.992474  0.994073      0.993839     0.994034  0.994073   0.989589   \n",
       "\n",
       "          neighbors  \n",
       "AUC        0.554858  \n",
       "Accuracy   0.993683  "
      ]
     },
     "execution_count": 149,
     "metadata": {},
     "output_type": "execute_result"
    }
   ],
   "source": [
    "pd.DataFrame(performances)"
   ]
  },
  {
   "cell_type": "markdown",
   "metadata": {},
   "source": [
    "Now, we're going to plot for each algorithm the lift curve, cumulative response and cumulative gains"
   ]
  },
  {
   "cell_type": "code",
   "execution_count": 154,
   "metadata": {},
   "outputs": [
    {
     "name": "stderr",
     "output_type": "stream",
     "text": [
      "/Users/spavot/Desktop/Big Data/Descriptive & Predictive Analysis/Exercises/Data\\ieseg.py:70: SettingWithCopyWarning: \n",
      "A value is trying to be set on a copy of a slice from a DataFrame.\n",
      "Try using .loc[row_indexer,col_indexer] = value instead\n",
      "\n",
      "See the caveats in the documentation: http://pandas.pydata.org/pandas-docs/stable/indexing.html#indexing-view-versus-copy\n",
      "  internalSet[\"Bin\"] = 0\n",
      "/Users/spavot/Desktop/Big Data/Descriptive & Predictive Analysis/Exercises/Data\\ieseg.py:70: SettingWithCopyWarning: \n",
      "A value is trying to be set on a copy of a slice from a DataFrame.\n",
      "Try using .loc[row_indexer,col_indexer] = value instead\n",
      "\n",
      "See the caveats in the documentation: http://pandas.pydata.org/pandas-docs/stable/indexing.html#indexing-view-versus-copy\n",
      "  internalSet[\"Bin\"] = 0\n",
      "/Users/spavot/Desktop/Big Data/Descriptive & Predictive Analysis/Exercises/Data\\ieseg.py:70: SettingWithCopyWarning: \n",
      "A value is trying to be set on a copy of a slice from a DataFrame.\n",
      "Try using .loc[row_indexer,col_indexer] = value instead\n",
      "\n",
      "See the caveats in the documentation: http://pandas.pydata.org/pandas-docs/stable/indexing.html#indexing-view-versus-copy\n",
      "  internalSet[\"Bin\"] = 0\n",
      "/Users/spavot/Desktop/Big Data/Descriptive & Predictive Analysis/Exercises/Data\\ieseg.py:70: SettingWithCopyWarning: \n",
      "A value is trying to be set on a copy of a slice from a DataFrame.\n",
      "Try using .loc[row_indexer,col_indexer] = value instead\n",
      "\n",
      "See the caveats in the documentation: http://pandas.pydata.org/pandas-docs/stable/indexing.html#indexing-view-versus-copy\n",
      "  internalSet[\"Bin\"] = 0\n",
      "C:\\ProgramData\\Anaconda3\\lib\\site-packages\\pandas\\core\\indexing.py:362: SettingWithCopyWarning: \n",
      "A value is trying to be set on a copy of a slice from a DataFrame.\n",
      "Try using .loc[row_indexer,col_indexer] = value instead\n",
      "\n",
      "See the caveats in the documentation: http://pandas.pydata.org/pandas-docs/stable/indexing.html#indexing-view-versus-copy\n",
      "  self.obj[key] = _infer_fill_value(value)\n",
      "C:\\ProgramData\\Anaconda3\\lib\\site-packages\\pandas\\core\\indexing.py:543: SettingWithCopyWarning: \n",
      "A value is trying to be set on a copy of a slice from a DataFrame.\n",
      "Try using .loc[row_indexer,col_indexer] = value instead\n",
      "\n",
      "See the caveats in the documentation: http://pandas.pydata.org/pandas-docs/stable/indexing.html#indexing-view-versus-copy\n",
      "  self.obj[item] = s\n",
      "/Users/spavot/Desktop/Big Data/Descriptive & Predictive Analysis/Exercises/Data\\ieseg.py:70: SettingWithCopyWarning: \n",
      "A value is trying to be set on a copy of a slice from a DataFrame.\n",
      "Try using .loc[row_indexer,col_indexer] = value instead\n",
      "\n",
      "See the caveats in the documentation: http://pandas.pydata.org/pandas-docs/stable/indexing.html#indexing-view-versus-copy\n",
      "  internalSet[\"Bin\"] = 0\n",
      "C:\\ProgramData\\Anaconda3\\lib\\site-packages\\pandas\\core\\indexing.py:362: SettingWithCopyWarning: \n",
      "A value is trying to be set on a copy of a slice from a DataFrame.\n",
      "Try using .loc[row_indexer,col_indexer] = value instead\n",
      "\n",
      "See the caveats in the documentation: http://pandas.pydata.org/pandas-docs/stable/indexing.html#indexing-view-versus-copy\n",
      "  self.obj[key] = _infer_fill_value(value)\n",
      "C:\\ProgramData\\Anaconda3\\lib\\site-packages\\pandas\\core\\indexing.py:543: SettingWithCopyWarning: \n",
      "A value is trying to be set on a copy of a slice from a DataFrame.\n",
      "Try using .loc[row_indexer,col_indexer] = value instead\n",
      "\n",
      "See the caveats in the documentation: http://pandas.pydata.org/pandas-docs/stable/indexing.html#indexing-view-versus-copy\n",
      "  self.obj[item] = s\n",
      "/Users/spavot/Desktop/Big Data/Descriptive & Predictive Analysis/Exercises/Data\\ieseg.py:70: SettingWithCopyWarning: \n",
      "A value is trying to be set on a copy of a slice from a DataFrame.\n",
      "Try using .loc[row_indexer,col_indexer] = value instead\n",
      "\n",
      "See the caveats in the documentation: http://pandas.pydata.org/pandas-docs/stable/indexing.html#indexing-view-versus-copy\n",
      "  internalSet[\"Bin\"] = 0\n",
      "C:\\ProgramData\\Anaconda3\\lib\\site-packages\\pandas\\core\\indexing.py:362: SettingWithCopyWarning: \n",
      "A value is trying to be set on a copy of a slice from a DataFrame.\n",
      "Try using .loc[row_indexer,col_indexer] = value instead\n",
      "\n",
      "See the caveats in the documentation: http://pandas.pydata.org/pandas-docs/stable/indexing.html#indexing-view-versus-copy\n",
      "  self.obj[key] = _infer_fill_value(value)\n",
      "C:\\ProgramData\\Anaconda3\\lib\\site-packages\\pandas\\core\\indexing.py:543: SettingWithCopyWarning: \n",
      "A value is trying to be set on a copy of a slice from a DataFrame.\n",
      "Try using .loc[row_indexer,col_indexer] = value instead\n",
      "\n",
      "See the caveats in the documentation: http://pandas.pydata.org/pandas-docs/stable/indexing.html#indexing-view-versus-copy\n",
      "  self.obj[item] = s\n",
      "/Users/spavot/Desktop/Big Data/Descriptive & Predictive Analysis/Exercises/Data\\ieseg.py:70: SettingWithCopyWarning: \n",
      "A value is trying to be set on a copy of a slice from a DataFrame.\n",
      "Try using .loc[row_indexer,col_indexer] = value instead\n",
      "\n",
      "See the caveats in the documentation: http://pandas.pydata.org/pandas-docs/stable/indexing.html#indexing-view-versus-copy\n",
      "  internalSet[\"Bin\"] = 0\n",
      "C:\\ProgramData\\Anaconda3\\lib\\site-packages\\pandas\\core\\indexing.py:362: SettingWithCopyWarning: \n",
      "A value is trying to be set on a copy of a slice from a DataFrame.\n",
      "Try using .loc[row_indexer,col_indexer] = value instead\n",
      "\n",
      "See the caveats in the documentation: http://pandas.pydata.org/pandas-docs/stable/indexing.html#indexing-view-versus-copy\n",
      "  self.obj[key] = _infer_fill_value(value)\n",
      "C:\\ProgramData\\Anaconda3\\lib\\site-packages\\pandas\\core\\indexing.py:543: SettingWithCopyWarning: \n",
      "A value is trying to be set on a copy of a slice from a DataFrame.\n",
      "Try using .loc[row_indexer,col_indexer] = value instead\n",
      "\n",
      "See the caveats in the documentation: http://pandas.pydata.org/pandas-docs/stable/indexing.html#indexing-view-versus-copy\n",
      "  self.obj[item] = s\n",
      "/Users/spavot/Desktop/Big Data/Descriptive & Predictive Analysis/Exercises/Data\\ieseg.py:31: SettingWithCopyWarning: \n",
      "A value is trying to be set on a copy of a slice from a DataFrame.\n",
      "Try using .loc[row_indexer,col_indexer] = value instead\n",
      "\n",
      "See the caveats in the documentation: http://pandas.pydata.org/pandas-docs/stable/indexing.html#indexing-view-versus-copy\n",
      "  internalSet[\"Quantile\"] = internalSet[probability + \"_bin\"] / precision\n",
      "/Users/spavot/Desktop/Big Data/Descriptive & Predictive Analysis/Exercises/Data\\ieseg.py:70: SettingWithCopyWarning: \n",
      "A value is trying to be set on a copy of a slice from a DataFrame.\n",
      "Try using .loc[row_indexer,col_indexer] = value instead\n",
      "\n",
      "See the caveats in the documentation: http://pandas.pydata.org/pandas-docs/stable/indexing.html#indexing-view-versus-copy\n",
      "  internalSet[\"Bin\"] = 0\n",
      "C:\\ProgramData\\Anaconda3\\lib\\site-packages\\pandas\\core\\indexing.py:362: SettingWithCopyWarning: \n",
      "A value is trying to be set on a copy of a slice from a DataFrame.\n",
      "Try using .loc[row_indexer,col_indexer] = value instead\n",
      "\n",
      "See the caveats in the documentation: http://pandas.pydata.org/pandas-docs/stable/indexing.html#indexing-view-versus-copy\n",
      "  self.obj[key] = _infer_fill_value(value)\n",
      "C:\\ProgramData\\Anaconda3\\lib\\site-packages\\pandas\\core\\indexing.py:543: SettingWithCopyWarning: \n",
      "A value is trying to be set on a copy of a slice from a DataFrame.\n",
      "Try using .loc[row_indexer,col_indexer] = value instead\n",
      "\n",
      "See the caveats in the documentation: http://pandas.pydata.org/pandas-docs/stable/indexing.html#indexing-view-versus-copy\n",
      "  self.obj[item] = s\n",
      "/Users/spavot/Desktop/Big Data/Descriptive & Predictive Analysis/Exercises/Data\\ieseg.py:31: SettingWithCopyWarning: \n",
      "A value is trying to be set on a copy of a slice from a DataFrame.\n",
      "Try using .loc[row_indexer,col_indexer] = value instead\n",
      "\n",
      "See the caveats in the documentation: http://pandas.pydata.org/pandas-docs/stable/indexing.html#indexing-view-versus-copy\n",
      "  internalSet[\"Quantile\"] = internalSet[probability + \"_bin\"] / precision\n",
      "/Users/spavot/Desktop/Big Data/Descriptive & Predictive Analysis/Exercises/Data\\ieseg.py:70: SettingWithCopyWarning: \n",
      "A value is trying to be set on a copy of a slice from a DataFrame.\n",
      "Try using .loc[row_indexer,col_indexer] = value instead\n",
      "\n",
      "See the caveats in the documentation: http://pandas.pydata.org/pandas-docs/stable/indexing.html#indexing-view-versus-copy\n",
      "  internalSet[\"Bin\"] = 0\n",
      "C:\\ProgramData\\Anaconda3\\lib\\site-packages\\pandas\\core\\indexing.py:362: SettingWithCopyWarning: \n",
      "A value is trying to be set on a copy of a slice from a DataFrame.\n",
      "Try using .loc[row_indexer,col_indexer] = value instead\n",
      "\n",
      "See the caveats in the documentation: http://pandas.pydata.org/pandas-docs/stable/indexing.html#indexing-view-versus-copy\n",
      "  self.obj[key] = _infer_fill_value(value)\n",
      "C:\\ProgramData\\Anaconda3\\lib\\site-packages\\pandas\\core\\indexing.py:543: SettingWithCopyWarning: \n",
      "A value is trying to be set on a copy of a slice from a DataFrame.\n",
      "Try using .loc[row_indexer,col_indexer] = value instead\n",
      "\n",
      "See the caveats in the documentation: http://pandas.pydata.org/pandas-docs/stable/indexing.html#indexing-view-versus-copy\n",
      "  self.obj[item] = s\n"
     ]
    },
    {
     "name": "stderr",
     "output_type": "stream",
     "text": [
      "/Users/spavot/Desktop/Big Data/Descriptive & Predictive Analysis/Exercises/Data\\ieseg.py:47: SettingWithCopyWarning: \n",
      "A value is trying to be set on a copy of a slice from a DataFrame.\n",
      "Try using .loc[row_indexer,col_indexer] = value instead\n",
      "\n",
      "See the caveats in the documentation: http://pandas.pydata.org/pandas-docs/stable/indexing.html#indexing-view-versus-copy\n",
      "  internalSet[\"Quantile\"] = internalSet[probability + \"_bin\"] / precision\n",
      "/Users/spavot/Desktop/Big Data/Descriptive & Predictive Analysis/Exercises/Data\\ieseg.py:70: SettingWithCopyWarning: \n",
      "A value is trying to be set on a copy of a slice from a DataFrame.\n",
      "Try using .loc[row_indexer,col_indexer] = value instead\n",
      "\n",
      "See the caveats in the documentation: http://pandas.pydata.org/pandas-docs/stable/indexing.html#indexing-view-versus-copy\n",
      "  internalSet[\"Bin\"] = 0\n",
      "C:\\ProgramData\\Anaconda3\\lib\\site-packages\\pandas\\core\\indexing.py:362: SettingWithCopyWarning: \n",
      "A value is trying to be set on a copy of a slice from a DataFrame.\n",
      "Try using .loc[row_indexer,col_indexer] = value instead\n",
      "\n",
      "See the caveats in the documentation: http://pandas.pydata.org/pandas-docs/stable/indexing.html#indexing-view-versus-copy\n",
      "  self.obj[key] = _infer_fill_value(value)\n",
      "C:\\ProgramData\\Anaconda3\\lib\\site-packages\\pandas\\core\\indexing.py:543: SettingWithCopyWarning: \n",
      "A value is trying to be set on a copy of a slice from a DataFrame.\n",
      "Try using .loc[row_indexer,col_indexer] = value instead\n",
      "\n",
      "See the caveats in the documentation: http://pandas.pydata.org/pandas-docs/stable/indexing.html#indexing-view-versus-copy\n",
      "  self.obj[item] = s\n",
      "/Users/spavot/Desktop/Big Data/Descriptive & Predictive Analysis/Exercises/Data\\ieseg.py:31: SettingWithCopyWarning: \n",
      "A value is trying to be set on a copy of a slice from a DataFrame.\n",
      "Try using .loc[row_indexer,col_indexer] = value instead\n",
      "\n",
      "See the caveats in the documentation: http://pandas.pydata.org/pandas-docs/stable/indexing.html#indexing-view-versus-copy\n",
      "  internalSet[\"Quantile\"] = internalSet[probability + \"_bin\"] / precision\n",
      "/Users/spavot/Desktop/Big Data/Descriptive & Predictive Analysis/Exercises/Data\\ieseg.py:32: SettingWithCopyWarning: \n",
      "A value is trying to be set on a copy of a slice from a DataFrame.\n",
      "Try using .loc[row_indexer,col_indexer] = value instead\n",
      "\n",
      "See the caveats in the documentation: http://pandas.pydata.org/pandas-docs/stable/indexing.html#indexing-view-versus-copy\n",
      "  internalSet[\"obs\"]      = 1\n",
      "/Users/spavot/Desktop/Big Data/Descriptive & Predictive Analysis/Exercises/Data\\ieseg.py:70: SettingWithCopyWarning: \n",
      "A value is trying to be set on a copy of a slice from a DataFrame.\n",
      "Try using .loc[row_indexer,col_indexer] = value instead\n",
      "\n",
      "See the caveats in the documentation: http://pandas.pydata.org/pandas-docs/stable/indexing.html#indexing-view-versus-copy\n",
      "  internalSet[\"Bin\"] = 0\n",
      "C:\\ProgramData\\Anaconda3\\lib\\site-packages\\pandas\\core\\indexing.py:362: SettingWithCopyWarning: \n",
      "A value is trying to be set on a copy of a slice from a DataFrame.\n",
      "Try using .loc[row_indexer,col_indexer] = value instead\n",
      "\n",
      "See the caveats in the documentation: http://pandas.pydata.org/pandas-docs/stable/indexing.html#indexing-view-versus-copy\n",
      "  self.obj[key] = _infer_fill_value(value)\n",
      "C:\\ProgramData\\Anaconda3\\lib\\site-packages\\pandas\\core\\indexing.py:543: SettingWithCopyWarning: \n",
      "A value is trying to be set on a copy of a slice from a DataFrame.\n",
      "Try using .loc[row_indexer,col_indexer] = value instead\n",
      "\n",
      "See the caveats in the documentation: http://pandas.pydata.org/pandas-docs/stable/indexing.html#indexing-view-versus-copy\n",
      "  self.obj[item] = s\n",
      "/Users/spavot/Desktop/Big Data/Descriptive & Predictive Analysis/Exercises/Data\\ieseg.py:31: SettingWithCopyWarning: \n",
      "A value is trying to be set on a copy of a slice from a DataFrame.\n",
      "Try using .loc[row_indexer,col_indexer] = value instead\n",
      "\n",
      "See the caveats in the documentation: http://pandas.pydata.org/pandas-docs/stable/indexing.html#indexing-view-versus-copy\n",
      "  internalSet[\"Quantile\"] = internalSet[probability + \"_bin\"] / precision\n",
      "/Users/spavot/Desktop/Big Data/Descriptive & Predictive Analysis/Exercises/Data\\ieseg.py:32: SettingWithCopyWarning: \n",
      "A value is trying to be set on a copy of a slice from a DataFrame.\n",
      "Try using .loc[row_indexer,col_indexer] = value instead\n",
      "\n",
      "See the caveats in the documentation: http://pandas.pydata.org/pandas-docs/stable/indexing.html#indexing-view-versus-copy\n",
      "  internalSet[\"obs\"]      = 1\n",
      "/Users/spavot/Desktop/Big Data/Descriptive & Predictive Analysis/Exercises/Data\\ieseg.py:70: SettingWithCopyWarning: \n",
      "A value is trying to be set on a copy of a slice from a DataFrame.\n",
      "Try using .loc[row_indexer,col_indexer] = value instead\n",
      "\n",
      "See the caveats in the documentation: http://pandas.pydata.org/pandas-docs/stable/indexing.html#indexing-view-versus-copy\n",
      "  internalSet[\"Bin\"] = 0\n",
      "C:\\ProgramData\\Anaconda3\\lib\\site-packages\\pandas\\core\\indexing.py:362: SettingWithCopyWarning: \n",
      "A value is trying to be set on a copy of a slice from a DataFrame.\n",
      "Try using .loc[row_indexer,col_indexer] = value instead\n",
      "\n",
      "See the caveats in the documentation: http://pandas.pydata.org/pandas-docs/stable/indexing.html#indexing-view-versus-copy\n",
      "  self.obj[key] = _infer_fill_value(value)\n",
      "C:\\ProgramData\\Anaconda3\\lib\\site-packages\\pandas\\core\\indexing.py:543: SettingWithCopyWarning: \n",
      "A value is trying to be set on a copy of a slice from a DataFrame.\n",
      "Try using .loc[row_indexer,col_indexer] = value instead\n",
      "\n",
      "See the caveats in the documentation: http://pandas.pydata.org/pandas-docs/stable/indexing.html#indexing-view-versus-copy\n",
      "  self.obj[item] = s\n",
      "/Users/spavot/Desktop/Big Data/Descriptive & Predictive Analysis/Exercises/Data\\ieseg.py:47: SettingWithCopyWarning: \n",
      "A value is trying to be set on a copy of a slice from a DataFrame.\n",
      "Try using .loc[row_indexer,col_indexer] = value instead\n",
      "\n",
      "See the caveats in the documentation: http://pandas.pydata.org/pandas-docs/stable/indexing.html#indexing-view-versus-copy\n",
      "  internalSet[\"Quantile\"] = internalSet[probability + \"_bin\"] / precision\n",
      "/Users/spavot/Desktop/Big Data/Descriptive & Predictive Analysis/Exercises/Data\\ieseg.py:48: SettingWithCopyWarning: \n",
      "A value is trying to be set on a copy of a slice from a DataFrame.\n",
      "Try using .loc[row_indexer,col_indexer] = value instead\n",
      "\n",
      "See the caveats in the documentation: http://pandas.pydata.org/pandas-docs/stable/indexing.html#indexing-view-versus-copy\n",
      "  internalSet[\"obs\"]      = 1\n",
      "/Users/spavot/Desktop/Big Data/Descriptive & Predictive Analysis/Exercises/Data\\ieseg.py:70: SettingWithCopyWarning: \n",
      "A value is trying to be set on a copy of a slice from a DataFrame.\n",
      "Try using .loc[row_indexer,col_indexer] = value instead\n",
      "\n",
      "See the caveats in the documentation: http://pandas.pydata.org/pandas-docs/stable/indexing.html#indexing-view-versus-copy\n",
      "  internalSet[\"Bin\"] = 0\n",
      "C:\\ProgramData\\Anaconda3\\lib\\site-packages\\pandas\\core\\indexing.py:362: SettingWithCopyWarning: \n",
      "A value is trying to be set on a copy of a slice from a DataFrame.\n",
      "Try using .loc[row_indexer,col_indexer] = value instead\n",
      "\n",
      "See the caveats in the documentation: http://pandas.pydata.org/pandas-docs/stable/indexing.html#indexing-view-versus-copy\n",
      "  self.obj[key] = _infer_fill_value(value)\n",
      "C:\\ProgramData\\Anaconda3\\lib\\site-packages\\pandas\\core\\indexing.py:543: SettingWithCopyWarning: \n",
      "A value is trying to be set on a copy of a slice from a DataFrame.\n",
      "Try using .loc[row_indexer,col_indexer] = value instead\n",
      "\n",
      "See the caveats in the documentation: http://pandas.pydata.org/pandas-docs/stable/indexing.html#indexing-view-versus-copy\n",
      "  self.obj[item] = s\n",
      "/Users/spavot/Desktop/Big Data/Descriptive & Predictive Analysis/Exercises/Data\\ieseg.py:31: SettingWithCopyWarning: \n",
      "A value is trying to be set on a copy of a slice from a DataFrame.\n",
      "Try using .loc[row_indexer,col_indexer] = value instead\n",
      "\n",
      "See the caveats in the documentation: http://pandas.pydata.org/pandas-docs/stable/indexing.html#indexing-view-versus-copy\n",
      "  internalSet[\"Quantile\"] = internalSet[probability + \"_bin\"] / precision\n",
      "/Users/spavot/Desktop/Big Data/Descriptive & Predictive Analysis/Exercises/Data\\ieseg.py:32: SettingWithCopyWarning: \n",
      "A value is trying to be set on a copy of a slice from a DataFrame.\n",
      "Try using .loc[row_indexer,col_indexer] = value instead\n",
      "\n",
      "See the caveats in the documentation: http://pandas.pydata.org/pandas-docs/stable/indexing.html#indexing-view-versus-copy\n",
      "  internalSet[\"obs\"]      = 1\n",
      "/Users/spavot/Desktop/Big Data/Descriptive & Predictive Analysis/Exercises/Data\\ieseg.py:70: SettingWithCopyWarning: \n",
      "A value is trying to be set on a copy of a slice from a DataFrame.\n",
      "Try using .loc[row_indexer,col_indexer] = value instead\n",
      "\n",
      "See the caveats in the documentation: http://pandas.pydata.org/pandas-docs/stable/indexing.html#indexing-view-versus-copy\n",
      "  internalSet[\"Bin\"] = 0\n",
      "C:\\ProgramData\\Anaconda3\\lib\\site-packages\\pandas\\core\\indexing.py:362: SettingWithCopyWarning: \n",
      "A value is trying to be set on a copy of a slice from a DataFrame.\n",
      "Try using .loc[row_indexer,col_indexer] = value instead\n",
      "\n",
      "See the caveats in the documentation: http://pandas.pydata.org/pandas-docs/stable/indexing.html#indexing-view-versus-copy\n",
      "  self.obj[key] = _infer_fill_value(value)\n",
      "C:\\ProgramData\\Anaconda3\\lib\\site-packages\\pandas\\core\\indexing.py:543: SettingWithCopyWarning: \n",
      "A value is trying to be set on a copy of a slice from a DataFrame.\n",
      "Try using .loc[row_indexer,col_indexer] = value instead\n",
      "\n",
      "See the caveats in the documentation: http://pandas.pydata.org/pandas-docs/stable/indexing.html#indexing-view-versus-copy\n",
      "  self.obj[item] = s\n"
     ]
    },
    {
     "name": "stderr",
     "output_type": "stream",
     "text": [
      "/Users/spavot/Desktop/Big Data/Descriptive & Predictive Analysis/Exercises/Data\\ieseg.py:31: SettingWithCopyWarning: \n",
      "A value is trying to be set on a copy of a slice from a DataFrame.\n",
      "Try using .loc[row_indexer,col_indexer] = value instead\n",
      "\n",
      "See the caveats in the documentation: http://pandas.pydata.org/pandas-docs/stable/indexing.html#indexing-view-versus-copy\n",
      "  internalSet[\"Quantile\"] = internalSet[probability + \"_bin\"] / precision\n",
      "/Users/spavot/Desktop/Big Data/Descriptive & Predictive Analysis/Exercises/Data\\ieseg.py:32: SettingWithCopyWarning: \n",
      "A value is trying to be set on a copy of a slice from a DataFrame.\n",
      "Try using .loc[row_indexer,col_indexer] = value instead\n",
      "\n",
      "See the caveats in the documentation: http://pandas.pydata.org/pandas-docs/stable/indexing.html#indexing-view-versus-copy\n",
      "  internalSet[\"obs\"]      = 1\n",
      "/Users/spavot/Desktop/Big Data/Descriptive & Predictive Analysis/Exercises/Data\\ieseg.py:70: SettingWithCopyWarning: \n",
      "A value is trying to be set on a copy of a slice from a DataFrame.\n",
      "Try using .loc[row_indexer,col_indexer] = value instead\n",
      "\n",
      "See the caveats in the documentation: http://pandas.pydata.org/pandas-docs/stable/indexing.html#indexing-view-versus-copy\n",
      "  internalSet[\"Bin\"] = 0\n",
      "C:\\ProgramData\\Anaconda3\\lib\\site-packages\\pandas\\core\\indexing.py:362: SettingWithCopyWarning: \n",
      "A value is trying to be set on a copy of a slice from a DataFrame.\n",
      "Try using .loc[row_indexer,col_indexer] = value instead\n",
      "\n",
      "See the caveats in the documentation: http://pandas.pydata.org/pandas-docs/stable/indexing.html#indexing-view-versus-copy\n",
      "  self.obj[key] = _infer_fill_value(value)\n",
      "C:\\ProgramData\\Anaconda3\\lib\\site-packages\\pandas\\core\\indexing.py:543: SettingWithCopyWarning: \n",
      "A value is trying to be set on a copy of a slice from a DataFrame.\n",
      "Try using .loc[row_indexer,col_indexer] = value instead\n",
      "\n",
      "See the caveats in the documentation: http://pandas.pydata.org/pandas-docs/stable/indexing.html#indexing-view-versus-copy\n",
      "  self.obj[item] = s\n",
      "/Users/spavot/Desktop/Big Data/Descriptive & Predictive Analysis/Exercises/Data\\ieseg.py:47: SettingWithCopyWarning: \n",
      "A value is trying to be set on a copy of a slice from a DataFrame.\n",
      "Try using .loc[row_indexer,col_indexer] = value instead\n",
      "\n",
      "See the caveats in the documentation: http://pandas.pydata.org/pandas-docs/stable/indexing.html#indexing-view-versus-copy\n",
      "  internalSet[\"Quantile\"] = internalSet[probability + \"_bin\"] / precision\n",
      "/Users/spavot/Desktop/Big Data/Descriptive & Predictive Analysis/Exercises/Data\\ieseg.py:48: SettingWithCopyWarning: \n",
      "A value is trying to be set on a copy of a slice from a DataFrame.\n",
      "Try using .loc[row_indexer,col_indexer] = value instead\n",
      "\n",
      "See the caveats in the documentation: http://pandas.pydata.org/pandas-docs/stable/indexing.html#indexing-view-versus-copy\n",
      "  internalSet[\"obs\"]      = 1\n"
     ]
    }
   ],
   "source": [
    "lifts     = {}\n",
    "responses = {}\n",
    "gains     = {}\n",
    "data      = pd.DataFrame(testSetFinal[target]).copy() \n",
    "\n",
    "for (index,model) in enumerate(models):\n",
    "    data[f\"proba {model}\"] = pd.DataFrame(models[model].predict_proba(testSetFinal[selectedFeatures]))[1]\n",
    "    lifts[model] = lift(dataSet = data, actuals = \"target\", probability = \"proba \"+str(model))\n",
    "    responses[model] = cumulativeResponse(dataSet = data, actuals = \"target\", probability = \"proba \"+str(model))\n",
    "    gains[model] = cumulativeGains(dataSet = data, actuals = \"target\", probability = \"proba \"+str(model))"
   ]
  },
  {
   "cell_type": "code",
   "execution_count": 155,
   "metadata": {},
   "outputs": [
    {
     "data": {
      "text/html": [
       "<div>\n",
       "<style scoped>\n",
       "    .dataframe tbody tr th:only-of-type {\n",
       "        vertical-align: middle;\n",
       "    }\n",
       "\n",
       "    .dataframe tbody tr th {\n",
       "        vertical-align: top;\n",
       "    }\n",
       "\n",
       "    .dataframe thead th {\n",
       "        text-align: right;\n",
       "    }\n",
       "</style>\n",
       "<table border=\"1\" class=\"dataframe\">\n",
       "  <thead>\n",
       "    <tr style=\"text-align: right;\">\n",
       "      <th></th>\n",
       "      <th>target</th>\n",
       "      <th>proba tree</th>\n",
       "      <th>proba logistic</th>\n",
       "      <th>proba randomForest</th>\n",
       "      <th>proba boostedTree</th>\n",
       "      <th>proba svm</th>\n",
       "      <th>proba neuralNet</th>\n",
       "      <th>proba neighbors</th>\n",
       "    </tr>\n",
       "  </thead>\n",
       "  <tbody>\n",
       "    <tr>\n",
       "      <th>0</th>\n",
       "      <td>0</td>\n",
       "      <td>0.0</td>\n",
       "      <td>0.010071</td>\n",
       "      <td>0.00</td>\n",
       "      <td>0.003570</td>\n",
       "      <td>0.014781</td>\n",
       "      <td>0.000242</td>\n",
       "      <td>0.0</td>\n",
       "    </tr>\n",
       "    <tr>\n",
       "      <th>1</th>\n",
       "      <td>0</td>\n",
       "      <td>0.0</td>\n",
       "      <td>0.015683</td>\n",
       "      <td>0.00</td>\n",
       "      <td>0.006920</td>\n",
       "      <td>0.016369</td>\n",
       "      <td>0.000412</td>\n",
       "      <td>0.0</td>\n",
       "    </tr>\n",
       "    <tr>\n",
       "      <th>2</th>\n",
       "      <td>0</td>\n",
       "      <td>0.0</td>\n",
       "      <td>0.010512</td>\n",
       "      <td>0.00</td>\n",
       "      <td>0.010896</td>\n",
       "      <td>0.014552</td>\n",
       "      <td>0.000794</td>\n",
       "      <td>0.0</td>\n",
       "    </tr>\n",
       "    <tr>\n",
       "      <th>3</th>\n",
       "      <td>0</td>\n",
       "      <td>0.0</td>\n",
       "      <td>0.008027</td>\n",
       "      <td>0.00</td>\n",
       "      <td>0.004630</td>\n",
       "      <td>0.014342</td>\n",
       "      <td>0.000067</td>\n",
       "      <td>0.0</td>\n",
       "    </tr>\n",
       "    <tr>\n",
       "      <th>4</th>\n",
       "      <td>0</td>\n",
       "      <td>0.0</td>\n",
       "      <td>0.012718</td>\n",
       "      <td>0.00</td>\n",
       "      <td>0.005818</td>\n",
       "      <td>0.013090</td>\n",
       "      <td>0.001091</td>\n",
       "      <td>0.0</td>\n",
       "    </tr>\n",
       "    <tr>\n",
       "      <th>5</th>\n",
       "      <td>0</td>\n",
       "      <td>0.0</td>\n",
       "      <td>0.012658</td>\n",
       "      <td>0.00</td>\n",
       "      <td>0.004959</td>\n",
       "      <td>0.013322</td>\n",
       "      <td>0.006529</td>\n",
       "      <td>0.0</td>\n",
       "    </tr>\n",
       "    <tr>\n",
       "      <th>6</th>\n",
       "      <td>0</td>\n",
       "      <td>0.0</td>\n",
       "      <td>0.013650</td>\n",
       "      <td>0.00</td>\n",
       "      <td>0.001679</td>\n",
       "      <td>0.013237</td>\n",
       "      <td>0.000688</td>\n",
       "      <td>0.0</td>\n",
       "    </tr>\n",
       "    <tr>\n",
       "      <th>7</th>\n",
       "      <td>0</td>\n",
       "      <td>0.0</td>\n",
       "      <td>0.012367</td>\n",
       "      <td>0.02</td>\n",
       "      <td>0.001679</td>\n",
       "      <td>0.013059</td>\n",
       "      <td>0.000407</td>\n",
       "      <td>0.0</td>\n",
       "    </tr>\n",
       "    <tr>\n",
       "      <th>8</th>\n",
       "      <td>0</td>\n",
       "      <td>0.0</td>\n",
       "      <td>0.014064</td>\n",
       "      <td>0.00</td>\n",
       "      <td>0.007551</td>\n",
       "      <td>0.013816</td>\n",
       "      <td>0.002932</td>\n",
       "      <td>0.0</td>\n",
       "    </tr>\n",
       "    <tr>\n",
       "      <th>9</th>\n",
       "      <td>0</td>\n",
       "      <td>0.0</td>\n",
       "      <td>0.004479</td>\n",
       "      <td>0.02</td>\n",
       "      <td>0.005040</td>\n",
       "      <td>0.015007</td>\n",
       "      <td>0.000021</td>\n",
       "      <td>0.2</td>\n",
       "    </tr>\n",
       "    <tr>\n",
       "      <th>10</th>\n",
       "      <td>0</td>\n",
       "      <td>0.0</td>\n",
       "      <td>0.009715</td>\n",
       "      <td>0.00</td>\n",
       "      <td>0.001959</td>\n",
       "      <td>0.012746</td>\n",
       "      <td>0.000130</td>\n",
       "      <td>0.0</td>\n",
       "    </tr>\n",
       "    <tr>\n",
       "      <th>11</th>\n",
       "      <td>0</td>\n",
       "      <td>0.0</td>\n",
       "      <td>0.016758</td>\n",
       "      <td>0.01</td>\n",
       "      <td>0.004685</td>\n",
       "      <td>0.015235</td>\n",
       "      <td>0.000326</td>\n",
       "      <td>0.0</td>\n",
       "    </tr>\n",
       "    <tr>\n",
       "      <th>12</th>\n",
       "      <td>0</td>\n",
       "      <td>0.0</td>\n",
       "      <td>0.015796</td>\n",
       "      <td>0.00</td>\n",
       "      <td>0.007375</td>\n",
       "      <td>0.016069</td>\n",
       "      <td>0.000004</td>\n",
       "      <td>0.0</td>\n",
       "    </tr>\n",
       "    <tr>\n",
       "      <th>13</th>\n",
       "      <td>0</td>\n",
       "      <td>0.0</td>\n",
       "      <td>0.013136</td>\n",
       "      <td>0.00</td>\n",
       "      <td>0.002069</td>\n",
       "      <td>0.013234</td>\n",
       "      <td>0.000693</td>\n",
       "      <td>0.0</td>\n",
       "    </tr>\n",
       "    <tr>\n",
       "      <th>14</th>\n",
       "      <td>0</td>\n",
       "      <td>0.0</td>\n",
       "      <td>0.025514</td>\n",
       "      <td>0.12</td>\n",
       "      <td>0.022753</td>\n",
       "      <td>0.015324</td>\n",
       "      <td>0.063868</td>\n",
       "      <td>0.0</td>\n",
       "    </tr>\n",
       "    <tr>\n",
       "      <th>15</th>\n",
       "      <td>0</td>\n",
       "      <td>0.0</td>\n",
       "      <td>0.012433</td>\n",
       "      <td>0.00</td>\n",
       "      <td>0.005529</td>\n",
       "      <td>0.013124</td>\n",
       "      <td>0.001038</td>\n",
       "      <td>0.0</td>\n",
       "    </tr>\n",
       "    <tr>\n",
       "      <th>16</th>\n",
       "      <td>0</td>\n",
       "      <td>0.0</td>\n",
       "      <td>0.012879</td>\n",
       "      <td>0.00</td>\n",
       "      <td>0.002069</td>\n",
       "      <td>0.013819</td>\n",
       "      <td>0.000730</td>\n",
       "      <td>0.0</td>\n",
       "    </tr>\n",
       "    <tr>\n",
       "      <th>17</th>\n",
       "      <td>0</td>\n",
       "      <td>0.0</td>\n",
       "      <td>0.013137</td>\n",
       "      <td>0.00</td>\n",
       "      <td>0.001679</td>\n",
       "      <td>0.013232</td>\n",
       "      <td>0.000612</td>\n",
       "      <td>0.0</td>\n",
       "    </tr>\n",
       "    <tr>\n",
       "      <th>18</th>\n",
       "      <td>0</td>\n",
       "      <td>0.0</td>\n",
       "      <td>0.007837</td>\n",
       "      <td>0.00</td>\n",
       "      <td>0.006033</td>\n",
       "      <td>0.012480</td>\n",
       "      <td>0.000109</td>\n",
       "      <td>0.0</td>\n",
       "    </tr>\n",
       "    <tr>\n",
       "      <th>19</th>\n",
       "      <td>0</td>\n",
       "      <td>0.0</td>\n",
       "      <td>0.011982</td>\n",
       "      <td>0.00</td>\n",
       "      <td>0.006446</td>\n",
       "      <td>0.013187</td>\n",
       "      <td>0.000962</td>\n",
       "      <td>0.0</td>\n",
       "    </tr>\n",
       "  </tbody>\n",
       "</table>\n",
       "</div>"
      ],
      "text/plain": [
       "    target  proba tree  proba logistic  proba randomForest  proba boostedTree  \\\n",
       "0        0         0.0        0.010071                0.00           0.003570   \n",
       "1        0         0.0        0.015683                0.00           0.006920   \n",
       "2        0         0.0        0.010512                0.00           0.010896   \n",
       "3        0         0.0        0.008027                0.00           0.004630   \n",
       "4        0         0.0        0.012718                0.00           0.005818   \n",
       "5        0         0.0        0.012658                0.00           0.004959   \n",
       "6        0         0.0        0.013650                0.00           0.001679   \n",
       "7        0         0.0        0.012367                0.02           0.001679   \n",
       "8        0         0.0        0.014064                0.00           0.007551   \n",
       "9        0         0.0        0.004479                0.02           0.005040   \n",
       "10       0         0.0        0.009715                0.00           0.001959   \n",
       "11       0         0.0        0.016758                0.01           0.004685   \n",
       "12       0         0.0        0.015796                0.00           0.007375   \n",
       "13       0         0.0        0.013136                0.00           0.002069   \n",
       "14       0         0.0        0.025514                0.12           0.022753   \n",
       "15       0         0.0        0.012433                0.00           0.005529   \n",
       "16       0         0.0        0.012879                0.00           0.002069   \n",
       "17       0         0.0        0.013137                0.00           0.001679   \n",
       "18       0         0.0        0.007837                0.00           0.006033   \n",
       "19       0         0.0        0.011982                0.00           0.006446   \n",
       "\n",
       "    proba svm  proba neuralNet  proba neighbors  \n",
       "0    0.014781         0.000242              0.0  \n",
       "1    0.016369         0.000412              0.0  \n",
       "2    0.014552         0.000794              0.0  \n",
       "3    0.014342         0.000067              0.0  \n",
       "4    0.013090         0.001091              0.0  \n",
       "5    0.013322         0.006529              0.0  \n",
       "6    0.013237         0.000688              0.0  \n",
       "7    0.013059         0.000407              0.0  \n",
       "8    0.013816         0.002932              0.0  \n",
       "9    0.015007         0.000021              0.2  \n",
       "10   0.012746         0.000130              0.0  \n",
       "11   0.015235         0.000326              0.0  \n",
       "12   0.016069         0.000004              0.0  \n",
       "13   0.013234         0.000693              0.0  \n",
       "14   0.015324         0.063868              0.0  \n",
       "15   0.013124         0.001038              0.0  \n",
       "16   0.013819         0.000730              0.0  \n",
       "17   0.013232         0.000612              0.0  \n",
       "18   0.012480         0.000109              0.0  \n",
       "19   0.013187         0.000962              0.0  "
      ]
     },
     "execution_count": 155,
     "metadata": {},
     "output_type": "execute_result"
    }
   ],
   "source": [
    "data.head(20)"
   ]
  },
  {
   "cell_type": "code",
   "execution_count": 156,
   "metadata": {},
   "outputs": [
    {
     "data": {
      "text/html": [
       "<div>\n",
       "<style scoped>\n",
       "    .dataframe tbody tr th:only-of-type {\n",
       "        vertical-align: middle;\n",
       "    }\n",
       "\n",
       "    .dataframe tbody tr th {\n",
       "        vertical-align: top;\n",
       "    }\n",
       "\n",
       "    .dataframe thead th {\n",
       "        text-align: right;\n",
       "    }\n",
       "</style>\n",
       "<table border=\"1\" class=\"dataframe\">\n",
       "  <thead>\n",
       "    <tr style=\"text-align: right;\">\n",
       "      <th></th>\n",
       "      <th>Quantile</th>\n",
       "      <th>Lift</th>\n",
       "      <th>Base</th>\n",
       "    </tr>\n",
       "  </thead>\n",
       "  <tbody>\n",
       "    <tr>\n",
       "      <th>19</th>\n",
       "      <td>1.00</td>\n",
       "      <td>4.204788</td>\n",
       "      <td>1.0</td>\n",
       "    </tr>\n",
       "    <tr>\n",
       "      <th>18</th>\n",
       "      <td>0.95</td>\n",
       "      <td>2.959949</td>\n",
       "      <td>1.0</td>\n",
       "    </tr>\n",
       "    <tr>\n",
       "      <th>17</th>\n",
       "      <td>0.90</td>\n",
       "      <td>2.324410</td>\n",
       "      <td>1.0</td>\n",
       "    </tr>\n",
       "    <tr>\n",
       "      <th>16</th>\n",
       "      <td>0.85</td>\n",
       "      <td>2.006579</td>\n",
       "      <td>1.0</td>\n",
       "    </tr>\n",
       "    <tr>\n",
       "      <th>15</th>\n",
       "      <td>0.80</td>\n",
       "      <td>1.762952</td>\n",
       "      <td>1.0</td>\n",
       "    </tr>\n",
       "    <tr>\n",
       "      <th>14</th>\n",
       "      <td>0.75</td>\n",
       "      <td>1.644630</td>\n",
       "      <td>1.0</td>\n",
       "    </tr>\n",
       "    <tr>\n",
       "      <th>13</th>\n",
       "      <td>0.70</td>\n",
       "      <td>1.597700</td>\n",
       "      <td>1.0</td>\n",
       "    </tr>\n",
       "    <tr>\n",
       "      <th>12</th>\n",
       "      <td>0.65</td>\n",
       "      <td>1.496711</td>\n",
       "      <td>1.0</td>\n",
       "    </tr>\n",
       "    <tr>\n",
       "      <th>11</th>\n",
       "      <td>0.60</td>\n",
       "      <td>1.447400</td>\n",
       "      <td>1.0</td>\n",
       "    </tr>\n",
       "    <tr>\n",
       "      <th>10</th>\n",
       "      <td>0.55</td>\n",
       "      <td>1.328896</td>\n",
       "      <td>1.0</td>\n",
       "    </tr>\n",
       "    <tr>\n",
       "      <th>9</th>\n",
       "      <td>0.50</td>\n",
       "      <td>1.243997</td>\n",
       "      <td>1.0</td>\n",
       "    </tr>\n",
       "    <tr>\n",
       "      <th>8</th>\n",
       "      <td>0.45</td>\n",
       "      <td>1.173246</td>\n",
       "      <td>1.0</td>\n",
       "    </tr>\n",
       "    <tr>\n",
       "      <th>7</th>\n",
       "      <td>0.40</td>\n",
       "      <td>1.123499</td>\n",
       "      <td>1.0</td>\n",
       "    </tr>\n",
       "    <tr>\n",
       "      <th>6</th>\n",
       "      <td>0.35</td>\n",
       "      <td>1.109053</td>\n",
       "      <td>1.0</td>\n",
       "    </tr>\n",
       "    <tr>\n",
       "      <th>5</th>\n",
       "      <td>0.30</td>\n",
       "      <td>1.087705</td>\n",
       "      <td>1.0</td>\n",
       "    </tr>\n",
       "    <tr>\n",
       "      <th>4</th>\n",
       "      <td>0.25</td>\n",
       "      <td>1.060855</td>\n",
       "      <td>1.0</td>\n",
       "    </tr>\n",
       "    <tr>\n",
       "      <th>3</th>\n",
       "      <td>0.20</td>\n",
       "      <td>1.044904</td>\n",
       "      <td>1.0</td>\n",
       "    </tr>\n",
       "    <tr>\n",
       "      <th>2</th>\n",
       "      <td>0.15</td>\n",
       "      <td>1.038034</td>\n",
       "      <td>1.0</td>\n",
       "    </tr>\n",
       "    <tr>\n",
       "      <th>1</th>\n",
       "      <td>0.10</td>\n",
       "      <td>1.018037</td>\n",
       "      <td>1.0</td>\n",
       "    </tr>\n",
       "    <tr>\n",
       "      <th>0</th>\n",
       "      <td>0.05</td>\n",
       "      <td>1.000000</td>\n",
       "      <td>1.0</td>\n",
       "    </tr>\n",
       "  </tbody>\n",
       "</table>\n",
       "</div>"
      ],
      "text/plain": [
       "    Quantile      Lift  Base\n",
       "19      1.00  4.204788   1.0\n",
       "18      0.95  2.959949   1.0\n",
       "17      0.90  2.324410   1.0\n",
       "16      0.85  2.006579   1.0\n",
       "15      0.80  1.762952   1.0\n",
       "14      0.75  1.644630   1.0\n",
       "13      0.70  1.597700   1.0\n",
       "12      0.65  1.496711   1.0\n",
       "11      0.60  1.447400   1.0\n",
       "10      0.55  1.328896   1.0\n",
       "9       0.50  1.243997   1.0\n",
       "8       0.45  1.173246   1.0\n",
       "7       0.40  1.123499   1.0\n",
       "6       0.35  1.109053   1.0\n",
       "5       0.30  1.087705   1.0\n",
       "4       0.25  1.060855   1.0\n",
       "3       0.20  1.044904   1.0\n",
       "2       0.15  1.038034   1.0\n",
       "1       0.10  1.018037   1.0\n",
       "0       0.05  1.000000   1.0"
      ]
     },
     "execution_count": 156,
     "metadata": {},
     "output_type": "execute_result"
    }
   ],
   "source": [
    "lifts[\"logistic\"].head(20)"
   ]
  },
  {
   "cell_type": "code",
   "execution_count": 160,
   "metadata": {},
   "outputs": [
    {
     "data": {
      "image/png": "[encoded data removed]",
      "text/plain": [
       "<Figure size 432x288 with 1 Axes>"
      ]
     },
     "metadata": {
      "needs_background": "light"
     },
     "output_type": "display_data"
    }
   ],
   "source": [
    "for model in models:\n",
    "    pyplot.plot(lifts[model][\"Quantile\"], lifts[model][\"Lift\"])\n",
    "    pyplot.gca().invert_xaxis()\n",
    "    pyplot.xlabel(\"Quantile\")\n",
    "    pyplot.ylabel(\"lift\")\n",
    "    pyplot.title(\"Lift\")"
   ]
  }
 ],
 "metadata": {
  "kernelspec": {
   "display_name": "Python 3",
   "language": "python",
   "name": "python3"
  },
  "language_info": {
   "codemirror_mode": {
    "name": "ipython",
    "version": 3
   },
   "file_extension": ".py",
   "mimetype": "text/x-python",
   "name": "python",
   "nbconvert_exporter": "python",
   "pygments_lexer": "ipython3",
   "version": "3.7.3"
  }
 },
 "nbformat": 4,
 "nbformat_minor": 2
}
